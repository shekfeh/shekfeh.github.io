{
  "cells": [
    {
      "cell_type": "markdown",
      "metadata": {
        "id": "bbS_dv_XZbmq"
      },
      "source": [
        "<div style=\"text-align:center;\">\n",
        "  <img src=\"https://github.com/MolSSI-Education/iqb-2025/blob/main/images/molssi_main_outline.png?raw=true\" style=\"display: block; margin: 0 auto; max-height:325px;\">\n",
        "</div>\n",
        "\n",
        "# Preparing Molecules and Proteins for Docking\n",
        "*This tutorial was created by Levi Naden (Software Scientist) at The Molecular Sciences Software Institue for the [Cheminformatic-Driven Molecular Docking Workshop](https://pdb101.rcsb.org/news/67d9853eaddf75595bd158f7) held as a Crash Course with the Institute for Quantitative Biomedicine (IQB) and the Protein Data Bank (RCSB).*\n",
        "\n",
        "*Special thanks to Jessica Nash and Pat Walters for code samples and alternate tool suggestions that helped make up this notebook.*\n",
        "\n",
        "*This notebook is Part 3 of 4 in the notebook series.*\n"
      ]
    },
    {
      "cell_type": "code",
      "execution_count": null,
      "metadata": {
        "cellView": "form",
        "colab": {
          "base_uri": "https://localhost:8080/",
          "height": 315
        },
        "id": "x70dQt37e9o5",
        "outputId": "d764af9e-c1aa-42fd-a3c1-8f6d4b01051e"
      },
      "outputs": [
        {
          "data": {
            "text/html": [
              "<style>\n",
              "div.alert {\n",
              "    color: #0056b3;\n",
              "    background-color: #d9edf7;\n",
              "    border-left: 5px solid #31708f;\n",
              "    padding: 0.5em;\n",
              "    font-size: 1.25em;\n",
              "    line-height: 1.5;\n",
              "}\n",
              "div.alert ul {\n",
              "    margin: 0.5em 0;\n",
              "}\n",
              "div.alert li {\n",
              "    margin-bottom: 0.5em;\n",
              "}\n",
              "</style>\n",
              "\n",
              "<div class=\"alert alert-block alert-info\">\n",
              "    <strong>Questions:</strong>\n",
              "    <ul>\n",
              "        <li>Why can't we just go from RCSB files to Docking?</li>\n",
              "        <li>What are the steps to take to ensure the molecule(s) and prtiens are ready?</li>\n",
              "        <li>What are steps we can optionally perform to get better or more tailored results?</li>\n",
              "    </ul>\n",
              "\n",
              "    <strong>Objectives:</strong>\n",
              "    <ul>\n",
              "        <li>Learn about the \"missing\" information in molecular structure files</li>\n",
              "        <li>Learn how to use a specific set of tools (among many) to prepare your files</li>\n",
              "        <li>Understand nuance of the programs we work with to modify our preparation workflow</li>\n",
              "    </ul>\n",
              "</div>\n"
            ],
            "text/plain": [
              "<IPython.core.display.HTML object>"
            ]
          },
          "metadata": {},
          "output_type": "display_data"
        }
      ],
      "source": [
        "# @title Overview\n",
        "%%html\n",
        "<style>\n",
        "div.alert {\n",
        "    color: #0056b3;\n",
        "    background-color: #d9edf7;\n",
        "    border-left: 5px solid #31708f;\n",
        "    padding: 0.5em;\n",
        "    font-size: 1.25em;\n",
        "    line-height: 1.5;\n",
        "}\n",
        "div.alert ul {\n",
        "    margin: 0.5em 0;\n",
        "}\n",
        "div.alert li {\n",
        "    margin-bottom: 0.5em;\n",
        "}\n",
        "</style>\n",
        "\n",
        "<div class=\"alert alert-block alert-info\">\n",
        "    <strong>Questions:</strong>\n",
        "    <ul>\n",
        "        <li>Why can't we just go from RCSB files to Docking?</li>\n",
        "        <li>What are the steps to take to ensure the molecule(s) and prtiens are ready?</li>\n",
        "        <li>What are steps we can optionally perform to get better or more tailored results?</li>\n",
        "    </ul>\n",
        "\n",
        "    <strong>Objectives:</strong>\n",
        "    <ul>\n",
        "        <li>Learn about the \"missing\" information in molecular structure files</li>\n",
        "        <li>Learn how to use a specific set of tools (among many) to prepare your files</li>\n",
        "        <li>Understand nuance of the programs we work with to modify our preparation workflow</li>\n",
        "    </ul>\n",
        "</div>"
      ]
    },
    {
      "cell_type": "markdown",
      "metadata": {
        "id": "iSUEJHDGfxJY"
      },
      "source": [
        "This notebook will walk you through the process for going from RCSB files crystallographic data to docking-ready input files. The structures from the RCSB, and the corresponding files, are incomplete for the purposes of Docking (and molecular mechanics simulations generally). We'll walk through both the programmatic and visual issues with the protein and molecule files, and explicitly show what data are missing.\n",
        "\n",
        "For this notebook, you'll install one particular set of tools for this prep workflow, but many are available and some are linked throughout this lesson.\n",
        "\n",
        "\n",
        "# Set Up\n",
        "\n",
        "Before going into any details, we'll be installing all the packages we need for this notebook. Specifically for the actual prep workflow we'll install:\n",
        "* `PDBFixer`\n",
        "* `MDAnalysis`\n",
        "* `RDKit`\n",
        "* `OpenMM` (and `OpenMMForceFields`)\n",
        "* `OpenBabel`\n",
        "* `Scrubber` (package: \"`molscrub`\")\n",
        "\n",
        "We'll also install a few helper packages for visualization  and analysis. These are not explicitly needed for the workflow, but will aid in seeing what we are doing."
      ]
    },
    {
      "cell_type": "code",
      "execution_count": null,
      "metadata": {
        "id": "CdTmiOgEGyhR"
      },
      "outputs": [],
      "source": [
        "# Initial setup to enable Conda installable packages through CoLab\n",
        "!pip install -q condacolab\n",
        "import condacolab\n",
        "condacolab.install()"
      ]
    },
    {
      "cell_type": "code",
      "execution_count": null,
      "metadata": {
        "id": "Z8us0ezuJyYY"
      },
      "outputs": [],
      "source": [
        "# Install our main workflow packages, this should take about a minute\n",
        "%%capture output\n",
        "!conda install -c conda-forge rdkit pdbfixer openmm openmmforcefields mdanalysis molscrub"
      ]
    },
    {
      "cell_type": "code",
      "execution_count": null,
      "metadata": {
        "id": "G-Kx7_XUmwv0"
      },
      "outputs": [],
      "source": [
        "# Install OpenBabel into the system as well\n",
        "# OpenBabel is also available through Conda-Forge and PyPI (pip), but we wanted to show that you need not be limited by where a package comes from, just get it.\n",
        "%%capture output\n",
        "!apt install openbabel"
      ]
    },
    {
      "cell_type": "code",
      "execution_count": null,
      "metadata": {
        "id": "35pTzMcBKAZO"
      },
      "outputs": [],
      "source": [
        "# Install our visual renderer for the workbook.\n",
        "%%capture output\n",
        "!pip install py3Dmol"
      ]
    },
    {
      "cell_type": "markdown",
      "metadata": {
        "id": "_FgzTMQSIRnp"
      },
      "source": [
        "## Downloading Protein Structure Files\n",
        "\n",
        "First and foremost, we need a protein to work with. We're going to look at the [SARS-CoV-2 3CL Protease structure of 7LME from the RCSB](https://www.rcsb.org/structure/7LME).\n",
        "\n",
        "<div style=\"text-align:center;\">\n",
        "  <img src=\"https://cdn.rcsb.org/images/structures/7lme_assembly-1.jpeg?raw=true\" style=\"display: block; margin: 0 auto; max-height:200px;\">\n",
        "</div>\n",
        "\n",
        "Image from RCSB\n",
        "\n",
        "We'll start by downloading this using the Python built-in `requests` package to make a `GET` REST request for the file. Effectively, this is our Python interpreter asking the RCSB site for a file directly at a specific location, a URL in this case. You can try this in your browser too! If you download or visit the page: https://files.rcsb.org/download/7LME.pdb, you'll get this exact text file; we're just doing it programmatically.\n",
        "\n",
        "For our molecule, we know what ligand is bound to the structure from the RCSB page, `Y6J`, and we'll extract that as part of the process.\n",
        "\n",
        "Note: You don't have to know the terminology of HTTP methods such as `GET` for this course, but it's helpful to know REST APIs are how most websites serve their information.\n"
      ]
    },
    {
      "cell_type": "code",
      "execution_count": null,
      "metadata": {
        "id": "_ij8X3Z9OqVp"
      },
      "outputs": [],
      "source": [
        "import os\n",
        "import requests\n",
        "\n",
        "pdb_id = \"7LME\" # The Protein ID we're looking at\n",
        "\n",
        "# Start by making a directory for us to work in and stage our intermediate files\n",
        "protein_directory = \"docking_files\"\n",
        "protein_filename = f\"{pdb_id}.pdb\"\n",
        "protein_filepath = os.path.join(protein_directory, protein_filename)\n",
        "# Actually make the directory, the exist_ok flag lets the command execute even if the folder already exists. It does NOT overwrite existing data.\n",
        "os.makedirs(protein_directory, exist_ok=True)"
      ]
    },
    {
      "cell_type": "code",
      "execution_count": null,
      "metadata": {
        "id": "7ba7-a03nAVY"
      },
      "outputs": [],
      "source": [
        "# Download the protein file\n",
        "print(f\"Downloading protein {pdb_id}...\")\n",
        "protein_url = f\"https://files.rcsb.org/download/{pdb_id}.pdb\"\n",
        "# Dont break the RCSB!\n",
        "protein_url = f\"https://raw.githubusercontent.com/MolSSI-Education/iqb-2025/refs/heads/main/data/{pdb_id}.pdb\"\n",
        "# Send the request and save the returned JSON blob as a variable\n",
        "protein_request = requests.get(protein_url)\n",
        "protein_request.raise_for_status() # Check for errors"
      ]
    },
    {
      "cell_type": "code",
      "execution_count": null,
      "metadata": {
        "id": "5EDsODvVna0R"
      },
      "outputs": [],
      "source": [
        "# Save the actual text of the returned JSON blob as the PDB file we're used to\n",
        "with open(protein_filepath, \"w\") as f:\n",
        "    f.write(protein_request.text)\n",
        "print(f\"Saved protein to {protein_filepath}\")"
      ]
    },
    {
      "cell_type": "markdown",
      "metadata": {
        "id": "eT9cjO4MnvTa"
      },
      "source": [
        "## Visualizing the raw PDB File\n",
        "\n",
        "We've downloaded our file from the RCSB, let's take a look at what we have and identify some issues for docking."
      ]
    },
    {
      "cell_type": "code",
      "execution_count": null,
      "metadata": {
        "id": "ktFtsE9HoBTD"
      },
      "outputs": [],
      "source": [
        "import py3Dmol\n",
        "v = py3Dmol.view()\n",
        "v.addModel(open(f\"{protein_directory}/{pdb_id}.pdb\").read())\n",
        "v.setStyle({'chain':'A'}, {'cartoon': {'color': '#0e9674'}})\n",
        "v.setStyle({'chain':'B'}, {'cartoon': {'color': '#c46225'}})\n",
        "v.zoomTo({'model':0})\n",
        "v.rotate(90, \"z\")\n",
        "v.rotate(-25, \"y\")"
      ]
    },
    {
      "cell_type": "markdown",
      "metadata": {
        "id": "agfLHnkltUf3"
      },
      "source": [
        "The rendered molecule rotation and colors should be approximately  the same as the image from the RCSB's page.\n",
        "\n",
        "On its face, it looks good. But let's add a few small changes to how we're doing the rendering to see more."
      ]
    },
    {
      "cell_type": "code",
      "execution_count": null,
      "metadata": {
        "id": "rZrdekxU2u4M"
      },
      "outputs": [],
      "source": [
        "v = py3Dmol.view()\n",
        "v.addModel(open(f\"{protein_directory}/{pdb_id}.pdb\").read())\n",
        "v.setStyle({'chain':'A'}, {'cartoon': {'color': '#0e9674'}})\n",
        "v.setStyle({'chain':'B'}, {'cartoon': {'color': '#c46225'}})\n",
        "# Selecting HETATM\n",
        "v.setStyle({'hetflag': True}, {'stick': {'color': 'spectrum'}})\n",
        "# Selecting objects with no bonds, i.e. water\n",
        "v.setStyle({\"bonds\": 0},{\"sphere\":{\"radius\":0.5}})\n",
        "v.zoomTo({'model':0})\n",
        "v.rotate(90, \"z\")\n",
        "v.rotate(-25, \"y\")"
      ]
    },
    {
      "cell_type": "markdown",
      "metadata": {
        "id": "aWcA3mI32vNQ"
      },
      "source": [
        "You can see from the render that py3Dmol is rendering much more than just the dimer and its chains. There is some of this present inside the RCSB image as well, but here we have much more. Before we delve into exactly why we can't just use this for docking, let's cover what we actually need for a docking run:\n",
        "\n",
        "* Atomistic level coordinates of receptor (here: protein)\n",
        "* Connectivity of receptor (*can* be inferred, not always)\n",
        "* Polar hydrogen and partial charges for receptor\n",
        "* Where on the receptor we want to dock\n",
        "* Atomistic level coordinates of ligand (here: small molecule)\n",
        "* Partial charge and protonation states for ligand\n",
        "* Descriptor of how atoms interact with each other\n",
        "\n",
        "This may seem like a daunting list to compile from just a PDB file, but the software we're using makes many of these steps automatic for us."
      ]
    },
    {
      "cell_type": "code",
      "execution_count": null,
      "metadata": {
        "cellView": "form",
        "colab": {
          "base_uri": "https://localhost:8080/",
          "height": 99
        },
        "id": "WFny3Wrmj-gS",
        "outputId": "03fdbb9f-216c-4f2b-c507-98f9f4e69aa2"
      },
      "outputs": [
        {
          "data": {
            "text/html": [
              "<style>\n",
              "div.info { /* Based on Bootstrap Secondary Alert */\n",
              "    color: #0c5460; /* Darker shade of blue for text */\n",
              "    background-color: #d1ecf1; /* Light blue background */\n",
              "    border-left: 5px solid #459db9; /* Bright blue border */\n",
              "    padding: 0.5em;\n",
              "    font-size: 1.25em; /* Matches the surrounding text size */\n",
              "    line-height: 1.5; /* Ensures readability */\n",
              "}\n",
              "div.info ul {\n",
              "    margin: 0.5em 0; /* Space around the list */\n",
              "}\n",
              "div.info li {\n",
              "    margin-bottom: 0.5em; /* Space between list items */\n",
              "}\n",
              "</style>\n",
              "\n",
              "<div class=\"info\">\n",
              "\n",
              "<strong>Note: Not all docking needs all of these items</strong>\n",
              "\n",
              "<p>This list is not fully accurate for shape-based docking; this workshop focuses on force/physics/simulation-based docking.\n",
              "\n",
              "</div>\n"
            ],
            "text/plain": [
              "<IPython.core.display.HTML object>"
            ]
          },
          "metadata": {},
          "output_type": "display_data"
        }
      ],
      "source": [
        "# @title\n",
        "%%html\n",
        "<style>\n",
        "div.info { /* Based on Bootstrap Secondary Alert */\n",
        "    color: #0c5460; /* Darker shade of blue for text */\n",
        "    background-color: #d1ecf1; /* Light blue background */\n",
        "    border-left: 5px solid #459db9; /* Bright blue border */\n",
        "    padding: 0.5em;\n",
        "    font-size: 1.25em; /* Matches the surrounding text size */\n",
        "    line-height: 1.5; /* Ensures readability */\n",
        "}\n",
        "div.info ul {\n",
        "    margin: 0.5em 0; /* Space around the list */\n",
        "}\n",
        "div.info li {\n",
        "    margin-bottom: 0.5em; /* Space between list items */\n",
        "}\n",
        "</style>\n",
        "\n",
        "<div class=\"info\">\n",
        "\n",
        "<strong>Note: Not all docking needs all of these items</strong>\n",
        "\n",
        "<p>This list is not fully accurate for shape-based docking; this workshop focuses on force/physics/simulation-based docking.\n",
        "\n",
        "</div>"
      ]
    },
    {
      "cell_type": "markdown",
      "metadata": {
        "id": "_7xLGokmk_eC"
      },
      "source": [
        "## Building Atomistic Receptor Model\n",
        "\n",
        "Only looking at the render above, it's not immediately  obvious if we have all the coordinates. One way we can look at this is by checking the PDB file we downloaded. The box below loads the file we pulled down here, but you can use any editor you like to view the file."
      ]
    },
    {
      "cell_type": "code",
      "execution_count": null,
      "metadata": {
        "id": "MQFpbLQvApQ5"
      },
      "outputs": [],
      "source": [
        "from IPython.display import display, HTML\n",
        "\n",
        "def render_text(text_blob):\n",
        "  # Helper function for displaying text in Jupyter Notebooks in a scrollable object\n",
        "  html = f\"\"\"\n",
        "      <div style=\"height:400px; overflow:auto;\">\n",
        "          <pre>{text_blob}</pre>\n",
        "      </div>\n",
        "      \"\"\"\n",
        "  display(HTML(html))\n",
        "\n",
        "\n",
        "render_text(protein_request.text)"
      ]
    },
    {
      "cell_type": "markdown",
      "metadata": {
        "id": "3TBTDjyZBsyj"
      },
      "source": [
        "Searching for the word \"missing\" shows at `REMARK` 465 and 470 that there are missing residues and atoms respectively. If we were doing shape-based docking, we might be able to get away with not having those residues if they don't contribute to the docking site, but is that a risk we really want to take? And we're not doing shape-based docking anyways, so we need those residues and atoms.\n",
        "\n",
        "For instance, let’s look at the tyrosines in our molecule to show the problem."
      ]
    },
    {
      "cell_type": "code",
      "execution_count": null,
      "metadata": {
        "id": "k6KHQ9AOC_MT"
      },
      "outputs": [],
      "source": [
        "v = py3Dmol.view()\n",
        "v.addModel(open(f\"{protein_directory}/{pdb_id}.pdb\").read())\n",
        "v.setStyle()  # Clear all other styles\n",
        "# Select all tyrosines that are not our problematic one\n",
        "v.setStyle({'resn': 'TYR', 'not': {'resi': 154}}, {\"stick\": {\"radius\":.1, 'color':'blue'}})\n",
        "# Missing atoms tyrosine\n",
        "v.setStyle({'resi': 154}, {\"stick\": {\"radius\":.1, 'color':'red'}})\n",
        "v.zoomTo({'model':0})\n",
        "v.rotate(90, \"z\")\n",
        "v.rotate(-25, \"y\")"
      ]
    },
    {
      "cell_type": "markdown",
      "metadata": {
        "id": "aBfH4Ls_-Wnu"
      },
      "source": [
        "As you can see, those red residues are not fully atomistic tyrosines. That is something we'll have to fix.\n",
        "\n",
        "Beyond just missing and incomplete residues, there are atoms in our PDB file which are simply not the receptor (protein). Specifically the crystallographic waters and the bound ligand in the PDB."
      ]
    },
    {
      "cell_type": "code",
      "execution_count": null,
      "metadata": {
        "id": "VhYREiXcuR50"
      },
      "outputs": [],
      "source": [
        "v = py3Dmol.view()\n",
        "v.addModel(open(f\"{protein_directory}/{pdb_id}.pdb\").read())\n",
        "# Select ligand\n",
        "v.setStyle({'hetflag': True, 'not':{'resname': 'HOH'}}, {'stick': {'color': 'spectrum'}})\n",
        "# Select waters\n",
        "v.setStyle({'resn': 'HOH', 'elem': 'O'}, {\"sphere\": {\"radius\":0.5, 'color':'red'}})\n",
        "v.setStyle({'resn': 'HOH', 'elem': 'H'}, {\"sphere\": {\"radius\":0.5, 'color':'blue'}})\n",
        "v.zoomTo({'model':0})\n",
        "v.rotate(90, \"z\")\n",
        "v.rotate(-25, \"y\")"
      ]
    },
    {
      "cell_type": "markdown",
      "metadata": {
        "id": "Nolxz_qy_0tz"
      },
      "source": [
        "The rendering above shows that there are two ligands (stick representation) and many crystallographic waters (red dots). We expect there to be two bound ligands here that are roughly in symmetric locations because this is a dimer structure made of two chains.\n",
        "\n",
        "Since we're exploring docking of different molecules in the binding sites, we're going to want to remove the currently present ligand so we can test other ones. We're also going to want to remove the crystallographic waters as they usually (not always) contribute to binding and will slow down our docking procedure. We'll also only be picking one of the binding sites (specifically the pocket in \"Chain A\") to reduce computational time.\n",
        "\n",
        "## Cleaning the Receptor PDB Structure\n",
        "\n",
        "The good news for most of the issues with the receptor structure is its a regular protein with standard residues. We've studied those and can fill in the missing information reliably.\n",
        "\n",
        "For this workshop, we're going to be using a tool from the OpenMM Library called `PDBFixer` which is a tool that you can use to \"fix\" PDB files and prepare them for physics-based calculations. There are many other tools which can do these steps for you as well, but we're keeping within the OpenMM ecosystem of tools as an example of a way to approach a docking pipeline.\n",
        "\n",
        "Examples of other tools to fix PDB structures are\n",
        "[Modeller](https://salilab.org/modeller/),\n",
        "[Amber's LEaP](https://ambermd.org/tutorials/pengfei/), and\n",
        "[GalaxyFill (which is used by CHARMM-GUI)](https://seoklab.github.io/GalaxyFill/). Others also exist, so find the one that works for you.\n",
        "\n",
        "We could have instructed that everyone should just \"run these commands\" since the protein is regular in its construction, but understanding why the commands are needed is important for novel research and issues which may arise in your own works. We'll see this at the end when we jump a bit ahead to look at the impact some of our choice made."
      ]
    },
    {
      "cell_type": "code",
      "execution_count": null,
      "metadata": {
        "id": "3m5I1YrlCSfs"
      },
      "outputs": [],
      "source": [
        "# Load the PDB into the PDBFixer class\n",
        "from pdbfixer import PDBFixer\n",
        "fixer = PDBFixer(filename=f\"{protein_directory}/{pdb_id}.pdb\")"
      ]
    },
    {
      "cell_type": "markdown",
      "metadata": {
        "id": "W98orn1xDrsf"
      },
      "source": [
        "Next we're going to solve the missing residues problem through the `findMissingResidues` method. This doesn't actually do anything to the structure, yet, its just compiling a list of atoms and coordinates on each chain that it *will* add when we call the corresponding command. That way, the user has the option to customize what is \"fixed\" on the protein."
      ]
    },
    {
      "cell_type": "code",
      "execution_count": null,
      "metadata": {
        "id": "JU3b0NmiEV-z"
      },
      "outputs": [],
      "source": [
        "fixer.findMissingResidues()\n",
        "fixer.missingResidues"
      ]
    },
    {
      "cell_type": "markdown",
      "metadata": {
        "id": "LP-xn3keEfy1"
      },
      "source": [
        "You can see that our list of missing residues matches the one in the `REMARK` section of the base PDB file.\n",
        "\n",
        "Next we're going to identify any non-standard residues in our structure as well as provide suggested replacements. We'll also be issuing the command to make the suggested substitutions. You can customize what is substituted by modifying the `nonstandardResidues` attribute, or do mutations with `applyMutations`. Neither are required for this structure, but helpful to have in your pipeline as this can allow you to substitute residues."
      ]
    },
    {
      "cell_type": "code",
      "execution_count": null,
      "metadata": {
        "id": "B0pQgiFcFPdA"
      },
      "outputs": [],
      "source": [
        "fixer.findNonstandardResidues()\n",
        "print(fixer.nonstandardResidues)\n",
        "fixer.replaceNonstandardResidues()"
      ]
    },
    {
      "cell_type": "markdown",
      "metadata": {
        "id": "LomqlRQsGIm9"
      },
      "source": [
        "Next, we'll strip out all of the crystallographic waters and the ligands from our structure by telling `PDBFixer` to remove the \"heterogen\" atoms. We'll also see a list of things which have been removed from the structure. You may notice that `PDBFixer` notes a Chain 2, 3, and 4 instead of Chain A, B as present in the PDB file. That is because `PDBFixer` distinguishes \"chains\" as atom groupings for bookkeeping purposes, but correctly will reassemble them in the topology at the end."
      ]
    },
    {
      "cell_type": "code",
      "execution_count": null,
      "metadata": {
        "id": "yHgA0apSGUF6"
      },
      "outputs": [],
      "source": [
        "fixer.removeHeterogens(keepWater=False)"
      ]
    },
    {
      "cell_type": "markdown",
      "metadata": {
        "id": "HiQZUSnkHp5R"
      },
      "source": [
        "We took care of the missing residues, but that doesn't account for existing residues with missing atoms. The next step is adding the missing heavy atoms of our protein from the residues already present. This command will also identify missing terminals and add those as well. In theory, we could have done this before removing the water and ligands, but because this command can actually add in the missing terminals (if needed), we recommend removing waters first so there is less chance of steric clashes with the addition of an C/N-terminal from free-standing waters."
      ]
    },
    {
      "cell_type": "code",
      "execution_count": null,
      "metadata": {
        "id": "o2Z3JMppH1mn"
      },
      "outputs": [],
      "source": [
        "fixer.findMissingAtoms()\n",
        "print(fixer.missingAtoms)\n",
        "print(fixer.missingTerminals)"
      ]
    },
    {
      "cell_type": "markdown",
      "metadata": {
        "id": "X_e5gsnnIAdX"
      },
      "source": [
        "Now we can fix our missing heavy atoms (hydrogens are more complicated) with one command. This will take care of both missing and incomplete residues because we collected them all earlier with `findMissingResidues` and `findMissingAtoms`. This step takes a small amount of time because there is an energy minimization step going on behind the scenes to reduce steric clashes from injecting new atoms into our structure."
      ]
    },
    {
      "cell_type": "code",
      "execution_count": null,
      "metadata": {
        "id": "3aQjOpMBIGxg"
      },
      "outputs": [],
      "source": [
        "fixer.addMissingAtoms()"
      ]
    },
    {
      "cell_type": "markdown",
      "metadata": {
        "id": "7ln1_Be_KVg5"
      },
      "source": [
        "Let's write out our PDB file and see what it looks like"
      ]
    },
    {
      "cell_type": "code",
      "execution_count": null,
      "metadata": {
        "id": "QD7I2UylKUcX"
      },
      "outputs": [],
      "source": [
        "from openmm.app import PDBFile\n",
        "with open(f\"{protein_directory}/{pdb_id}_fix_heavy.pdb\", 'w') as f:\n",
        "  # Toplology, Positions, file stream, and keep chain ID's\n",
        "  PDBFile.writeFile(fixer.topology, fixer.positions, f, True)"
      ]
    },
    {
      "cell_type": "code",
      "execution_count": null,
      "metadata": {
        "id": "sCCkIi_jO_bm"
      },
      "outputs": [],
      "source": [
        "# Property to get a topology object, works well as a quick summary of structure.\n",
        "fixer.topology"
      ]
    },
    {
      "cell_type": "code",
      "execution_count": null,
      "metadata": {
        "id": "qxWh-dxxLCr9"
      },
      "outputs": [],
      "source": [
        "v = py3Dmol.view()\n",
        "v.addModel(open(f\"{protein_directory}/{pdb_id}_fix_heavy.pdb\").read())\n",
        "v.setStyle({'chain':'A'}, {'cartoon': {'color': '#0e9674'}})\n",
        "v.setStyle({'chain':'B'}, {'cartoon': {'color': '#c46225'}})\n",
        "# Check for ligand\n",
        "v.setStyle({'hetflag': True, 'not':{'resname': 'HOH'}}, {'stick': {'color': 'spectrum'}})\n",
        "# Check for water\n",
        "v.setStyle({'resn': 'HOH', 'elem': 'O'}, {\"sphere\": {\"radius\":0.5, 'color':'red'}})\n",
        "v.setStyle({'resn': 'HOH', 'elem': 'H'}, {\"sphere\": {\"radius\":0.5, 'color':'blue'}})\n",
        "# Look at our problematic tyrosines again to see they are all-atom finally\n",
        "v.setStyle({'resi': 154}, {\"stick\": {\"radius\":.2, 'color':'red'}})\n",
        "v.zoomTo({'model':0})\n",
        "v.rotate(90, \"z\")\n",
        "v.rotate(-25, \"y\")"
      ]
    },
    {
      "cell_type": "markdown",
      "metadata": {
        "id": "VkqXlQOmJkse"
      },
      "source": [
        "What we can see is that all the atoms we wanted are gone, all the atoms we added are present, and we have our protein structure of heavy atoms. We'll now deal with the fact that the hydrogens are all still missing as we need those for our physics-based docking.\n",
        "\n",
        "More specifically, we need the correct protonation states for a given pH on our residues. If you're working with a united atom or more generally coarse-grained model, you technically don't need to have atomistic hydrogens. However, we're working with a fully atomistic model, so we'll be including them.\n",
        "\n",
        "`PDBFixer` takes in pH information and optionally an atomic Force Field to add its hydrogens. If no force field is provided, it will assume positions that are generally reasonable, but not optimized. It should also be noted that no extensive electrostatic analysis is performed here, assuming default residue pKa's. For this example, we'll be pulling positions from the [Amber ff14SB](https://pubs.acs.org/doi/10.1021/acs.jctc.5b00255) force field natively available to OpenMM."
      ]
    },
    {
      "cell_type": "code",
      "execution_count": null,
      "metadata": {
        "id": "Qiu22MrmN44_"
      },
      "outputs": [],
      "source": [
        "# Import the ForceField object to access built-ins (or custom if you have them)\n",
        "from openmm.app import ForceField\n",
        "# Use the Amber ff14SB Force Field. This path is relative to OpenMM's internal\n",
        "# references, not the local directory.\n",
        "forcefield = ForceField(\"amber/protein.ff14SB.xml\")\n",
        "# also accepts a \"pH\" argument, default is pH=7.0\n",
        "fixer.addMissingHydrogens(forcefield=forcefield)"
      ]
    },
    {
      "cell_type": "markdown",
      "metadata": {
        "id": "jrmZyhi8bLst"
      },
      "source": [
        "Note that we didn't specify a pH here, so the default of 7.0 is assumed. The expierment for the 7LME structure was done at a pH of 7.5. Does this matter for our result? \"Maybe.\""
      ]
    },
    {
      "cell_type": "code",
      "execution_count": null,
      "metadata": {
        "id": "1nK1Js3yOohT"
      },
      "outputs": [],
      "source": [
        "with open(f\"{protein_directory}/{pdb_id}_all_atom.pdb\", 'w') as f:\n",
        "  # Toplology, Positions, file stream, and keep chain ID's\n",
        "  PDBFile.writeFile(fixer.topology, fixer.positions, f, True)"
      ]
    },
    {
      "cell_type": "code",
      "execution_count": null,
      "metadata": {
        "id": "v0CvkE8vOvbB"
      },
      "outputs": [],
      "source": [
        "v = py3Dmol.view()\n",
        "v.addModel(open(f\"{protein_directory}/{pdb_id}_all_atom.pdb\").read())\n",
        "v.setStyle({'chain':'A'}, {'cartoon': {'color': '#0e9674'}})\n",
        "v.setStyle({'chain':'B'}, {'cartoon': {'color': '#c46225'}})\n",
        "v.zoomTo({'model':0})\n",
        "v.rotate(90, \"z\")\n",
        "v.rotate(-25, \"y\")"
      ]
    },
    {
      "cell_type": "code",
      "execution_count": null,
      "metadata": {
        "id": "TT_GKvNfG-UB"
      },
      "outputs": [],
      "source": [
        "fixer.topology"
      ]
    },
    {
      "cell_type": "markdown",
      "metadata": {
        "id": "N5cSIUVaPqcf"
      },
      "source": [
        "By re-building our protein file with this pipeline, we've also taken care of the connectivity and the partial charges of the hydrogens on our receptor.\n",
        "\n",
        "### Additional Considerations for our Receptor Structure\n",
        "\n",
        "Because we're doing physics-based docking; we need to take into account the physics we are attempting to understand with respect to not only what we've done to our receptor, but also what methods and algorithms we're going to be subjecting to it.\n",
        "\n",
        "Let us first look ahead to figure out what program we're going to run for docking. We'll be using a program called [`gnina`](https://github.com/gnina/gnina) which is based on [smina](https://sourceforge.net/projects/smina/), which itself is based on [AutoDock Vina](https://github.com/ccsb-scripps/AutoDock-Vina), which itself uses a type of [Iterated Local Search](https://pmc.ncbi.nlm.nih.gov/articles/PMC3041641/) optimizer. For our purposes, all of that means we're only going to need the polar hydrogens on our receptor. The rest of the hydrogens can be ignored... or can they?\n",
        "\n",
        "Depending on the program(s) you chose, the behavior of your calculations may change even with the same input. `gnina`, the program we're using, assumes any hydrogens present on the input file we're going to generate here are polar hydrogens and uses them for calculations, it won't check first for us with how we're making our files. The instructors looked ahead and found if you leave all the hydrogens on your receptor, you get less accurate results for the reason that they're all treated as polar. Other codes may check this for you and simply remove or disable the non-polar hydrogens."
      ]
    },
    {
      "cell_type": "code",
      "execution_count": null,
      "metadata": {
        "cellView": "form",
        "colab": {
          "base_uri": "https://localhost:8080/",
          "height": 158
        },
        "id": "BnhqwY97UPpT",
        "outputId": "76b1a2e0-469e-4d38-cfaf-342d68df8cb3"
      },
      "outputs": [
        {
          "data": {
            "text/html": [
              "<style>\n",
              "div.warning { /* Based on Bootstrap Warning */\n",
              "    color: #856404; /* Darker shade of yellow-brown for text */\n",
              "    background-color: #fff3cd; /* Light faded yellow background */\n",
              "    border-left: 5px solid #fad975; /* saturated yellow border */\n",
              "    padding: 0.5em;\n",
              "    font-size: 1.25em; /* Matches the surrounding text size */\n",
              "    line-height: 1.5; /* Ensures readability */\n",
              "}\n",
              "div.info ul {\n",
              "    margin: 0.5em 0; /* Space around the list */\n",
              "}\n",
              "div.info li {\n",
              "    margin-bottom: 0.5em; /* Space between list items */\n",
              "}\n",
              "</style>\n",
              "\n",
              "<div class=\"warning\">\n",
              "\n",
              "<strong>Important: Understand your methods and software!</strong>\n",
              "\n",
              "<p>We're going to show actions you can do to modify your structure as examples.\n",
              "<p> Most of this remaining section uses ideas and methods which themselves are based in physics and can make intuitive sense, but\n",
              "  make this particular system less accurate when we dock with Gnina.\n",
              "\n",
              "</div>\n"
            ],
            "text/plain": [
              "<IPython.core.display.HTML object>"
            ]
          },
          "metadata": {},
          "output_type": "display_data"
        }
      ],
      "source": [
        "# @title\n",
        "\n",
        "%%html\n",
        "<style>\n",
        "div.warning { /* Based on Bootstrap Warning */\n",
        "    color: #856404; /* Darker shade of yellow-brown for text */\n",
        "    background-color: #fff3cd; /* Light faded yellow background */\n",
        "    border-left: 5px solid #fad975; /* saturated yellow border */\n",
        "    padding: 0.5em;\n",
        "    font-size: 1.25em; /* Matches the surrounding text size */\n",
        "    line-height: 1.5; /* Ensures readability */\n",
        "}\n",
        "div.info ul {\n",
        "    margin: 0.5em 0; /* Space around the list */\n",
        "}\n",
        "div.info li {\n",
        "    margin-bottom: 0.5em; /* Space between list items */\n",
        "}\n",
        "</style>\n",
        "\n",
        "<div class=\"warning\">\n",
        "\n",
        "<strong>Important: Understand your methods and software!</strong>\n",
        "\n",
        "<p>We're going to show actions you can do to modify your structure as examples.\n",
        "<p> Most of this remaining section uses ideas and methods which themselves are based in physics and can make intuitive sense, but\n",
        "  make this particular system less accurate when we dock with Gnina.\n",
        "\n",
        "</div>"
      ]
    },
    {
      "cell_type": "markdown",
      "metadata": {
        "id": "eVbE2g8PV0yV"
      },
      "source": [
        "## Relaxing the Receptor Structure with Hydrogens Present"
      ]
    },
    {
      "cell_type": "code",
      "execution_count": null,
      "metadata": {
        "cellView": "form",
        "colab": {
          "base_uri": "https://localhost:8080/",
          "height": 61
        },
        "id": "3TPbk1pPV1HR",
        "outputId": "736e8592-01b5-467c-918d-5e345caf00d7"
      },
      "outputs": [
        {
          "data": {
            "text/html": [
              "<style>\n",
              "div.warning { /* Based on Bootstrap Warning */\n",
              "    color: #856404; /* Darker shade of yellow-brown for text */\n",
              "    background-color: #fff3cd; /* Light faded yellow background */\n",
              "    border-left: 5px solid #fad975; /* saturated yellow border */\n",
              "    padding: 0.5em;\n",
              "    font-size: 1.25em; /* Matches the surrounding text size */\n",
              "    line-height: 1.5; /* Ensures readability */\n",
              "}\n",
              "div.info ul {\n",
              "    margin: 0.5em 0; /* Space around the list */\n",
              "}\n",
              "div.info li {\n",
              "    margin-bottom: 0.5em; /* Space between list items */\n",
              "}\n",
              "</style>\n",
              "\n",
              "<div class=\"warning\">\n",
              "\n",
              "<strong>Reminder: Additional energy minimization makes our current system worse for docking.</strong>\n",
              "\n",
              "</div>\n"
            ],
            "text/plain": [
              "<IPython.core.display.HTML object>"
            ]
          },
          "metadata": {},
          "output_type": "display_data"
        }
      ],
      "source": [
        "# @title\n",
        "%%html\n",
        "<style>\n",
        "div.warning { /* Based on Bootstrap Warning */\n",
        "    color: #856404; /* Darker shade of yellow-brown for text */\n",
        "    background-color: #fff3cd; /* Light faded yellow background */\n",
        "    border-left: 5px solid #fad975; /* saturated yellow border */\n",
        "    padding: 0.5em;\n",
        "    font-size: 1.25em; /* Matches the surrounding text size */\n",
        "    line-height: 1.5; /* Ensures readability */\n",
        "}\n",
        "div.info ul {\n",
        "    margin: 0.5em 0; /* Space around the list */\n",
        "}\n",
        "div.info li {\n",
        "    margin-bottom: 0.5em; /* Space between list items */\n",
        "}\n",
        "</style>\n",
        "\n",
        "<div class=\"warning\">\n",
        "\n",
        "<strong>Reminder: Additional energy minimization makes our current system worse for docking.</strong>\n",
        "\n",
        "</div>"
      ]
    },
    {
      "cell_type": "markdown",
      "metadata": {
        "id": "FDBPHZBQTm3s"
      },
      "source": [
        "We have added new atoms to our structure based on their predictable location as standard residues, specifically the hydrogens. However, standard residues or not, the atoms we added may still cause large steric and electrostatic clashes that we want to relax before docking.\n",
        "\n",
        "There was a short minimization which took place when we ran the `addMissingAtoms` commands, but that was only with the heavy atoms and only on the pairwise interactions the atoms which were added vs atoms which were already present (i.e. nonbonded interactions between unmodified atoms were ignored for speed, something you only know when [looking at the source code](https://github.com/openmm/pdbfixer/blob/master/pdbfixer/pdbfixer.py#L1277-L1279)). This process effectively minimized the impact removing the crystallographic waters and the ligand had- as well as the addition of hydrogens had on the structure of the protein."
      ]
    },
    {
      "cell_type": "code",
      "execution_count": null,
      "metadata": {
        "cellView": "form",
        "colab": {
          "base_uri": "https://localhost:8080/",
          "height": 158
        },
        "id": "Oypyds6OYYFe",
        "outputId": "c5ec4fad-8502-415a-af21-6dc4566705a2"
      },
      "outputs": [
        {
          "data": {
            "text/html": [
              "<style>\n",
              "div.info { /* Based on Bootstrap Secondary Alert */\n",
              "    color: #0c5460; /* Darker shade of blue for text */\n",
              "    background-color: #d1ecf1; /* Light blue background */\n",
              "    border-left: 5px solid #459db9; /* Bright blue border */\n",
              "    padding: 0.5em;\n",
              "    font-size: 1.25em; /* Matches the surrounding text size */\n",
              "    line-height: 1.5; /* Ensures readability */\n",
              "}\n",
              "div.info ul {\n",
              "    margin: 0.5em 0; /* Space around the list */\n",
              "}\n",
              "div.info li {\n",
              "    margin-bottom: 0.5em; /* Space between list items */\n",
              "}\n",
              "</style>\n",
              "\n",
              "<div class=\"info\">\n",
              "\n",
              "<strong>Do neglecting those changes we made impact the structure and docking? Maybe!</strong>\n",
              "\n",
              "<p>Each system is different and many papers have been written about each of the\n",
              "  steps we've done and will do and their potential impact.\n",
              "<p> Take our current protein as a specific example. Consider how the protein structure was found and at what temperature it was generated.\n",
              "  The 7LME structure we're crystalized by <a href=\"https://www.rcsb.org/experimental/7LME\">room temperature droplets for X-ray diffraction</a>; however, other structures may have been found via Cryo-EM and be generated at different temperatures.\n",
              "\n",
              "</div>\n"
            ],
            "text/plain": [
              "<IPython.core.display.HTML object>"
            ]
          },
          "metadata": {},
          "output_type": "display_data"
        }
      ],
      "source": [
        "# @title\n",
        "%%html\n",
        "<style>\n",
        "div.info { /* Based on Bootstrap Secondary Alert */\n",
        "    color: #0c5460; /* Darker shade of blue for text */\n",
        "    background-color: #d1ecf1; /* Light blue background */\n",
        "    border-left: 5px solid #459db9; /* Bright blue border */\n",
        "    padding: 0.5em;\n",
        "    font-size: 1.25em; /* Matches the surrounding text size */\n",
        "    line-height: 1.5; /* Ensures readability */\n",
        "}\n",
        "div.info ul {\n",
        "    margin: 0.5em 0; /* Space around the list */\n",
        "}\n",
        "div.info li {\n",
        "    margin-bottom: 0.5em; /* Space between list items */\n",
        "}\n",
        "</style>\n",
        "\n",
        "<div class=\"info\">\n",
        "\n",
        "<strong>Do neglecting those changes we made impact the structure and docking? Maybe!</strong>\n",
        "\n",
        "<p>Each system is different and many papers have been written about each of the\n",
        "  steps we've done and will do and their potential impact.\n",
        "<p> Take our current protein as a specific example. Consider how the protein structure was found and at what temperature it was generated.\n",
        "  The 7LME structure we're crystalized by <a href=\"https://www.rcsb.org/experimental/7LME\">room temperature droplets for X-ray diffraction</a>; however, other structures may have been found via Cryo-EM and be generated at different temperatures.\n",
        "\n",
        "</div>"
      ]
    },
    {
      "cell_type": "markdown",
      "metadata": {
        "id": "NAUNyY1RYYMj"
      },
      "source": [
        "Let's assume we actually do want a fully relaxed structure. If we were to do another energy minimization now, the binding sites would likely start to collapse due to the removal of the ligand. This would most likely be observed if we were to run an equilibration dynamics simulation to a much more extreme degree. We do wish to have some preservation of the binding site's in our minimization so we can dock new ligands in place.\n",
        "\n",
        "An alternate option would be to re-insert the ligand, do an energy minimization, and then run a short dynamics simulation to generate a structure from the equilibrium distribution at the conditions you're interested in. This is often something you'll need to do if you don't have a starting crystal structure! However, molecular mechanics/dynamics are beyond the scope of this course, even if we'll be taking similar initial steps.\n",
        "\n",
        "Did the addition of the hydrogens and the removal of the waters matter here? \"Maybe.\" Could we skip this step entirely? \"Maybe.\" It's important to understand the protein and the site you're working with on a case-by-case basis to accurately answer these questions. You can always just try and see what happens! We happen to know the answer is \"yes, we can skip it\" for our current problem, but that's not always the case."
      ]
    },
    {
      "cell_type": "markdown",
      "metadata": {
        "id": "qeIoAyFUfNMU"
      },
      "source": [
        "#### Simple Energy Minimization\n",
        "\n",
        "Energy minimizations of structures generally don't perturb the structure all that much when we're looking at before and after coordinates. If you consider the [Lennard-Jones](https://en.wikipedia.org/wiki/Lennard-Jones_potential) + point-charge potential that many classical molecular mechanics codes use for their pairwise potentials, steric clashes (and even electrostatic ones) are dominated by a $1/r^{12}$ scaling energy term at short ranges. Although the interactions are more complicated than this, energy minimization algorithms primarily help minimize that term, so the binding site *might* be minimally perturbed by a simple minimization. Even when we set-up a more complex minimization later, we'll still end with these basic steps.\n",
        "\n",
        "We'll perform a simple minimization with OpenMM while also exploring a bit about how OpenMM defines molecular environments for dynamics. Every program will be different, and as we've alluded to, knowing your programs are important for accurate scientific results. To setup this minimization, we'll first define a minimal simulation environment with OpenMM.\n"
      ]
    },
    {
      "cell_type": "code",
      "execution_count": null,
      "metadata": {
        "id": "t6KDtkQnhpjJ"
      },
      "outputs": [],
      "source": [
        "# Create OpenMM system for minimization\n",
        "system = forcefield.createSystem(fixer.topology)\n",
        "\n",
        "# Show our forces as OpenMM understands them\n",
        "system.getForces()"
      ]
    },
    {
      "cell_type": "markdown",
      "metadata": {
        "id": "gYBMP4Wrhtu0"
      },
      "source": [
        "OpenMM defines its `System` object as the collection of `Forces` which act on a set of mass-bearing particles in a molecular \"system.\" That is, neither the positions nor the time evolution of these forces, but instead just the collection of interactions. The concept of bonds, chains, residue names, and all the information in the PDB has been converted into a base 0-indexed list of generic particles in the `System`.\n",
        "\n",
        "We can take the molecular `System` in combination with an `Integrator` to say how the `Forces` should propagate to define our `Simulation`. For that, we will need an integrator to satisfy OpenMM, even though its logic is not used for the energy minimization."
      ]
    },
    {
      "cell_type": "code",
      "execution_count": null,
      "metadata": {
        "id": "XzrLs3EAi_J6"
      },
      "outputs": [],
      "source": [
        "from openmm import VerletIntegrator\n",
        "from openmm.app import Simulation\n",
        "import openmm.unit as unit\n",
        "\n",
        "# Use a generic VerletIntegrator\n",
        "integrator = VerletIntegrator(0.001 * unit.picoseconds)\n",
        "\n",
        "# Create simulation for minimization\n",
        "# Optional, if you have access to a CUDA GPU, comment out the next line and uncomment the one after it\n",
        "platform = None\n",
        "# platform = Platform.getPlatformByName('CUDA')\n",
        "\n",
        "# Define the OpenMM Simulation object, which serves as a convenince wrapper for the OpenMM Context and Reporter objects\n",
        "simulation = Simulation(fixer.topology, system, integrator, platform)\n",
        "# Set the position of our atoms\n",
        "simulation.context.setPositions(fixer.positions)"
      ]
    },
    {
      "cell_type": "markdown",
      "metadata": {
        "id": "8NbMONjujKzB"
      },
      "source": [
        "A small peak under the hood: The data `System` have been fed into the `Context` class constructor along with the `Integrator` which the `Simulation` class wraps around. The `System` is then compiled into a platform-specific implementation (CPU, CUDA, OpenCL) and bound to the `Integrator`. The `Integrator` is the class used to step forward in time, the `System` is decoupled, and the `Context` could be used entirely without a `Simulation` object.\n",
        "\n",
        "We have now set up a simulation-ready object, so we can now do our minimzation which will update the positions. This step will take a small amount of time.\n",
        "\n",
        "OpenMM did most of these steps for us when we ran `addMissingAtoms` earlier, it just had extra logic for only minimizing new atom positions rather than all atom positions."
      ]
    },
    {
      "cell_type": "code",
      "execution_count": null,
      "metadata": {
        "id": "L_C8iZ3CkmPP"
      },
      "outputs": [],
      "source": [
        "# Minimize energy\n",
        "print('Minimizing energy...')\n",
        "simulation.minimizeEnergy()"
      ]
    },
    {
      "cell_type": "markdown",
      "metadata": {
        "id": "aYkDM7tfkqH_"
      },
      "source": [
        "Up until now, we've also done similar steps if we wanted to take our molecular system and run dynamics on it. We would need enough atoms to define our system (all-atom here), and then a minimized structure under some physical conditions. Because we are using the leap-frog Verlet Integrator which has no temperature coupling (like a Langevin Integrator), and because we have no pressure coupling (which OpenMM uses a Monte Carlo Barostat `Force` to scale box vectors), we would be running a constant number of particles, volume, energy simulation (NVE) if we were to propagate time. It would be a 1 fs timestep, which may take a while to sample enough configurations to run statistics, but it would run.\n",
        "\n",
        "For now, let's leave the world of molecular dynamics and get back to docking by getting our minimized coordinates out of the RAM of the compute hardware to save."
      ]
    },
    {
      "cell_type": "code",
      "execution_count": null,
      "metadata": {
        "id": "WmjyS2NzkxOP"
      },
      "outputs": [],
      "source": [
        "# Get minimized positions. We have to copy the positions of the compiled object back into Python's memory\n",
        "minimized_positions = simulation.context.getState(getPositions=True).getPositions()\n",
        "\n",
        "# Write minimized structure to a PDB file\n",
        "with open(f\"{protein_directory}/{pdb_id}_fixed.pdb\", 'w') as output:\n",
        "    PDBFile.writeFile(fixer.topology, minimized_positions, output)\n",
        "\n",
        "print(f'Minimization complete. Minimized structure saved to {protein_directory}/{pdb_id}_fixed_simple.pdb')"
      ]
    },
    {
      "cell_type": "markdown",
      "source": [
        "We also may want to actually look at our binding site at some point, so let's define some helper objects to select the residues around the binding site with MDAnalysis"
      ],
      "metadata": {
        "id": "icYnXoCWl0hI"
      }
    },
    {
      "cell_type": "code",
      "source": [
        "# Determine residues nearby the ligand with MDAnalysis\n",
        "import MDAnalysis as mda\n",
        "\n",
        "# Load the original PDB\n",
        "u = mda.Universe(f\"{protein_directory}/{pdb_id}.pdb\")\n",
        "\n",
        "# Select atoms using the MDAnalysis selection language\n",
        "ligand_select = \"segid A and record_type HETATM and not resname HOH\"\n",
        "ligand = u.select_atoms(ligand_select)\n",
        "\n",
        "# Find and residues within a certain distance from the ligand\n",
        "active_site = u.select_atoms(f\"around 3.5 group ligand and segid A\",\n",
        "                             periodic=False,\n",
        "                             ligand=ligand)  # Uses generic select_name=object as kwargs\n",
        "print(active_site.residues.resids)\n",
        "print(ligand.residues.resids)"
      ],
      "metadata": {
        "id": "_xdsRn1el9jP"
      },
      "execution_count": null,
      "outputs": []
    },
    {
      "cell_type": "markdown",
      "metadata": {
        "id": "38zdzUtRxR8_"
      },
      "source": [
        "#### Restrained Minimzation"
      ]
    },
    {
      "cell_type": "code",
      "execution_count": null,
      "metadata": {
        "cellView": "form",
        "colab": {
          "base_uri": "https://localhost:8080/",
          "height": 99
        },
        "id": "GQke3jnNwxQc",
        "outputId": "619d7426-ae9b-49ac-e32e-27c06d298a88"
      },
      "outputs": [
        {
          "data": {
            "text/html": [
              "<style>\n",
              "div.warning { /* Based on Bootstrap Warning */\n",
              "    color: #856404; /* Darker shade of yellow-brown for text */\n",
              "    background-color: #fff3cd; /* Light faded yellow background */\n",
              "    border-left: 5px solid #fad975; /* saturated yellow border */\n",
              "    padding: 0.5em;\n",
              "    font-size: 1.25em; /* Matches the surrounding text size */\n",
              "    line-height: 1.5; /* Ensures readability */\n",
              "}\n",
              "div.info ul {\n",
              "    margin: 0.5em 0; /* Space around the list */\n",
              "}\n",
              "div.info li {\n",
              "    margin-bottom: 0.5em; /* Space between list items */\n",
              "}\n",
              "</style>\n",
              "\n",
              "<div class=\"warning\">\n",
              "\n",
              "<strong>This section is skipped in the online workshop for time and complexity.</strong>\n",
              "<p> However, this is a powerful tool in OpenMM and for dynamics generally.\n",
              "\n",
              "</div>\n"
            ],
            "text/plain": [
              "<IPython.core.display.HTML object>"
            ]
          },
          "metadata": {},
          "output_type": "display_data"
        }
      ],
      "source": [
        "# @title\n",
        "%%html\n",
        "<style>\n",
        "div.warning { /* Based on Bootstrap Warning */\n",
        "    color: #856404; /* Darker shade of yellow-brown for text */\n",
        "    background-color: #fff3cd; /* Light faded yellow background */\n",
        "    border-left: 5px solid #fad975; /* saturated yellow border */\n",
        "    padding: 0.5em;\n",
        "    font-size: 1.25em; /* Matches the surrounding text size */\n",
        "    line-height: 1.5; /* Ensures readability */\n",
        "}\n",
        "div.info ul {\n",
        "    margin: 0.5em 0; /* Space around the list */\n",
        "}\n",
        "div.info li {\n",
        "    margin-bottom: 0.5em; /* Space between list items */\n",
        "}\n",
        "</style>\n",
        "\n",
        "<div class=\"warning\">\n",
        "\n",
        "<strong>This section is skipped in the online workshop for time and complexity.</strong>\n",
        "<p> However, this is a powerful tool in OpenMM and for dynamics generally.\n",
        "\n",
        "</div>"
      ]
    },
    {
      "cell_type": "markdown",
      "metadata": {
        "id": "bA8-EeeWfFqT"
      },
      "source": [
        "Sometimes, we may want to run a minimization or dynamics in a way where certain regions may want to be preserved. One way to do that is to restrain the binding site to a certain shape.\n",
        "\n",
        "To help preserve our binding site, we're going to select the residues near the original ligand and restrain the heavy atoms with a spherical harmonic restraint around their coordinates. We'll be applying a bit of a simple approach by looking at the residues within a certain distance from the ligand in one chain. Remember: we're not looking for a perfect structure, just one that doesn't have steric clashes which will cause problems for docking. `PDBFixer` can't do this for us, so we either need to measure the distances ourselves and pick out the residues with vector math, or we can use other tools like `MDAnalysis`, [ProLIF](https://prolif.readthedocs.io/en/stable/), and others."
      ]
    },
    {
      "cell_type": "markdown",
      "metadata": {
        "id": "LArGO6gn0lgd"
      },
      "source": [
        "Using list of residues around our binding site, we can visualize the binding site. In this rendering, we're only showing the residues near the ligand and the ligand itself. The colors on the surface are just for visual distinction and do not indicate any electronegativity."
      ]
    },
    {
      "cell_type": "code",
      "execution_count": null,
      "metadata": {
        "id": "z5OQfeoof-A_"
      },
      "outputs": [],
      "source": [
        "v = py3Dmol.view()\n",
        "v.addModel(open(f\"{protein_directory}/{pdb_id}.pdb\").read())\n",
        "v.setStyle()\n",
        "v.setStyle({'resi':ligand.residues.resids.tolist(), \"chain\": \"A\"}, {'stick': {'color': 'spectrum'}})\n",
        "v.addSurface(\"VDW\", {'opacity':0.5}, {'resi':active_site.residues.resids.tolist(), \"chain\":\"A\"})\n",
        "v.zoomTo({'chain':\"A\"})\n",
        "v.rotate(90, \"z\")\n",
        "v.rotate(-25, \"y\")"
      ]
    },
    {
      "cell_type": "markdown",
      "metadata": {
        "id": "gm0PjLYmmIkt"
      },
      "source": [
        "We've now picked out our ligand and the nearby residues we want to select from. Now we want to perform a small energy minimization procedure with OpenMM while keeping the heavy atoms restrained in spherical harmonic shells to keep the binding site open. To setup this modified minimization, we'll first define a new simulation environment with OpenMM. We could have re-used the system we previously made, but to keep things separate we'll make a new one."
      ]
    },
    {
      "cell_type": "code",
      "execution_count": null,
      "metadata": {
        "id": "eoC4HPtTm51g"
      },
      "outputs": [],
      "source": [
        "# Create OpenMM system for minimization\n",
        "system_restrain = forcefield.createSystem(fixer.topology)\n",
        "\n",
        "# Show our forces\n",
        "system_restrain.getForces()"
      ]
    },
    {
      "cell_type": "markdown",
      "metadata": {
        "id": "Erc0gQI-nZ7O"
      },
      "source": [
        "This is so far identical to our original system.\n",
        "\n",
        "We're now going to create a new force by defining a `Force` object with OpenMM, specifically the `CustomExternalForce`. OpenMM's `Custom*Force` objects allow us to write potential energy strings which can be added to any `System` and subsequent simulation and behave as a force just like nonbonded, bonded, and other forces. We'll be borrowing from [the OpenMM Cookbook](https://openmm.github.io/openmm-cookbook/latest/notebooks/cookbook/Restraining%20Atom%20Positions.html) for this step, so feel free to look their for additional information."
      ]
    },
    {
      "cell_type": "code",
      "execution_count": null,
      "metadata": {
        "id": "EXu2QbN4pX0y"
      },
      "outputs": [],
      "source": [
        "from openmm import CustomExternalForce\n",
        "import openmm.unit as unit\n",
        "\n",
        "# Define the external force for our particles using a string\n",
        "# This one is a simple spring harmonic force\n",
        "# Uses built-in function for handling harmonics over periodic distances\n",
        "restraint = CustomExternalForce('k*periodicdistance(x, y, z, x0, y0, z0)^2')\n",
        "# Add the force to our system.\n",
        "# WARNING: If you run this cell again, it will add this force, again, and double up its effect\n",
        "system_restrain.addForce(restraint)\n",
        "# Define what the custom per-particle and global parameters are\n",
        "# This can be done before or after adding the force to the System because\n",
        "# the Python-side objects have not been converted into hardware-specific/compiled code\n",
        "restraint.addGlobalParameter('k', 100.0*unit.kilojoules_per_mole/unit.nanometer**2)\n",
        "restraint.addPerParticleParameter('x0')\n",
        "restraint.addPerParticleParameter('y0')\n",
        "restraint.addPerParticleParameter('z0')"
      ]
    },
    {
      "cell_type": "markdown",
      "metadata": {
        "id": "yYw0bpIjrNIZ"
      },
      "source": [
        "Now let's add the heavy atoms of the residues near the binding site to our `CustomNonbondedForce` (`restraint`) to keep them in place."
      ]
    },
    {
      "cell_type": "code",
      "execution_count": null,
      "metadata": {
        "id": "zHDO8xzAs13u"
      },
      "outputs": [],
      "source": [
        "# Cycle through residues with generator. We could also start on chains and then\n",
        "# break after 1 cycle for tiny optimization, not really needed here.\n",
        "for residue in fixer.topology.residues():\n",
        "  # Skip over residues we dont care about\n",
        "  # Both MDAnalysis and OpenMM are 0-index based, no need to shift by 1\n",
        "  if residue.index in active_site.residues.resids:\n",
        "    # Loop over atoms in the residue with generator\n",
        "    for atom in residue.atoms():\n",
        "      # Check for heavy atoms\n",
        "      if atom.element.symbol != \"H\":\n",
        "        # Add atom to the restraint force\n",
        "        # We add the index (which topology and system match) as first arg\n",
        "        # We then add the iterable of the per-particle parameters, which in\n",
        "        # this case is the coordinate, as the centroid of the harmonic restraint\n",
        "        restraint.addParticle(atom.index, fixer.positions[atom.index])"
      ]
    },
    {
      "cell_type": "markdown",
      "metadata": {
        "id": "RuJv2YctyVUd"
      },
      "source": [
        "We've now added the heavy atoms to our `restraint` `CustomExternalForce` which has also already been added to our `System` object. We can check that the number of atoms added to the restraint is less than the number of atoms in the system by looking at the particle count the restraint is tracking."
      ]
    },
    {
      "cell_type": "code",
      "execution_count": null,
      "metadata": {
        "id": "E2qkRYQ7vAC8"
      },
      "outputs": [],
      "source": [
        "restraint.getNumParticles()"
      ]
    },
    {
      "cell_type": "markdown",
      "metadata": {
        "id": "rCVUd8T6yvwx"
      },
      "source": [
        "And if we look at our `system`, we can see our new restraint there and ready to be set up for a simulation."
      ]
    },
    {
      "cell_type": "code",
      "execution_count": null,
      "metadata": {
        "id": "_z0BN1kgy0lQ"
      },
      "outputs": [],
      "source": [
        "system_restrain.getForces()"
      ]
    },
    {
      "cell_type": "markdown",
      "metadata": {
        "id": "UTS19Ztjy56p"
      },
      "source": [
        "The rest of the setup for a new minimization is the same as before. We'll need to make a new `Integrator` since our original one is bound to our original simulation."
      ]
    },
    {
      "cell_type": "code",
      "execution_count": null,
      "metadata": {
        "id": "rzJg2M8gnW3u"
      },
      "outputs": [],
      "source": [
        "# Use a generic VerletIntegrator\n",
        "integrator_restrain = VerletIntegrator(0.001 * unit.picoseconds)\n",
        "\n",
        "# Create simulation for minimization\n",
        "# Optional, if you have access to a CUDA GPU, comment out the next line and uncomment the one after it\n",
        "platform = None\n",
        "# platform = Platform.getPlatformByName('CUDA')\n",
        "\n",
        "# Define the OpenMM Simulation object, which serves as a convenince wrapper for the OpenMM Context and Reporter objects\n",
        "simulation_restrain = Simulation(fixer.topology, system_restrain, integrator_restrain, platform)\n",
        "# Set the position of our atoms\n",
        "simulation_restrain.context.setPositions(fixer.positions)"
      ]
    },
    {
      "cell_type": "markdown",
      "metadata": {
        "id": "3GyANE0M0gQ7"
      },
      "source": [
        "And just like last time, we run our minimization."
      ]
    },
    {
      "cell_type": "code",
      "execution_count": null,
      "metadata": {
        "id": "aYyKPinO0wwm"
      },
      "outputs": [],
      "source": [
        "# Minimize energy\n",
        "print('Minimizing energy...')\n",
        "simulation_restrain.minimizeEnergy()"
      ]
    },
    {
      "cell_type": "markdown",
      "metadata": {
        "id": "Gp0-ZGiA1j0u"
      },
      "source": [
        "And save our final coordinates."
      ]
    },
    {
      "cell_type": "code",
      "execution_count": null,
      "metadata": {
        "id": "N_OLAqVm1mza"
      },
      "outputs": [],
      "source": [
        "# Get minimized positions. We have to copy the positions of the compiled object back into Python's memory\n",
        "min_res_positions = simulation_restrain.context.getState(getPositions=True).getPositions()\n",
        "\n",
        "# Write minimized structure to a PDB file\n",
        "with open(f\"{protein_directory}/{pdb_id}_restrain.pdb\", 'w') as output:\n",
        "    PDBFile.writeFile(fixer.topology, min_res_positions, output)\n",
        "\n",
        "print(f'Minimization complete. Minimized structure saved to {protein_directory}/{pdb_id}_restrain.pdb')"
      ]
    },
    {
      "cell_type": "markdown",
      "metadata": {
        "id": "dWGoujcC4Ft5"
      },
      "source": [
        "## Comparing the minimized structure to the original"
      ]
    },
    {
      "cell_type": "markdown",
      "metadata": {
        "id": "MTQxMQIf4lcL"
      },
      "source": [
        "To see the impact of our efforts, we can visualize our structure, and compare it to the original."
      ]
    },
    {
      "cell_type": "code",
      "execution_count": null,
      "metadata": {
        "id": "Oc4ZH6-22KSe"
      },
      "outputs": [],
      "source": [
        "v = py3Dmol.view()\n",
        "v.addModel(open(f\"{protein_directory}/{pdb_id}_fixed.pdb\").read())\n",
        "v.setStyle({'chain':'A'}, {'cartoon': {'color': '#0e9674'}})\n",
        "v.setStyle({'chain':'B'}, {'cartoon': {'color': '#c46225'}})\n",
        "v.zoomTo({'model':0})\n",
        "v.rotate(90, \"z\")\n",
        "v.rotate(-25, \"y\")"
      ]
    },
    {
      "cell_type": "markdown",
      "metadata": {
        "id": "hRxzrol52ILk"
      },
      "source": [
        "On quick visual inspection, it might be hard to see if anything is different. Instead, we will superimpose our final structure superimposed over our original, using MDAnalysis to align them. The entire block below may seem daunting, but that is only because our final structure has a different number of atoms compared to our original structure, we have to be clever about how to pick a set of atoms from each structure to get equal sized sets."
      ]
    },
    {
      "cell_type": "code",
      "execution_count": null,
      "metadata": {
        "id": "Am0ezUW34R-F"
      },
      "outputs": [],
      "source": [
        "from MDAnalysis.analysis import align\n",
        "\n",
        "# Load the final PDB\n",
        "u_fixed = mda.Universe(f\"{protein_directory}/{pdb_id}_fixed.pdb\")\n",
        "\n",
        "# IF the number of CA atoms matched between the structures, this next line\n",
        "# would be all you need. Instead, we have to do a bit more.\n",
        "\n",
        "#align.alignto(u_fixed, u, select=\"name CA\", weights=\"mass\")"
      ]
    },
    {
      "cell_type": "code",
      "execution_count": null,
      "metadata": {
        "cellView": "form",
        "colab": {
          "base_uri": "https://localhost:8080/",
          "height": 99
        },
        "id": "0-fbQdEi6VT8",
        "outputId": "b7be35c8-0e57-4e52-e948-154d8def54ec"
      },
      "outputs": [
        {
          "data": {
            "text/html": [
              "<style>\n",
              "div.info { /* Based on Bootstrap Secondary Alert */\n",
              "    color: #0c5460; /* Darker shade of blue for text */\n",
              "    background-color: #d1ecf1; /* Light blue background */\n",
              "    border-left: 5px solid #459db9; /* Bright blue border */\n",
              "    padding: 0.5em;\n",
              "    font-size: 1.25em; /* Matches the surrounding text size */\n",
              "    line-height: 1.5; /* Ensures readability */\n",
              "}\n",
              "div.info ul {\n",
              "    margin: 0.5em 0; /* Space around the list */\n",
              "}\n",
              "div.info li {\n",
              "    margin-bottom: 0.5em; /* Space between list items */\n",
              "}\n",
              "</style>\n",
              "\n",
              "<div class=\"info\">\n",
              "\n",
              "<strong>Note: This is just one possible choice of alignment!</strong>\n",
              "\n",
              "<p>I'm choosing to align to the Alpha Carbons, but you may want to align to something else.\n",
              "\n",
              "</div>\n"
            ],
            "text/plain": [
              "<IPython.core.display.HTML object>"
            ]
          },
          "metadata": {},
          "output_type": "display_data"
        }
      ],
      "source": [
        "# @title\n",
        "%%html\n",
        "<style>\n",
        "div.info { /* Based on Bootstrap Secondary Alert */\n",
        "    color: #0c5460; /* Darker shade of blue for text */\n",
        "    background-color: #d1ecf1; /* Light blue background */\n",
        "    border-left: 5px solid #459db9; /* Bright blue border */\n",
        "    padding: 0.5em;\n",
        "    font-size: 1.25em; /* Matches the surrounding text size */\n",
        "    line-height: 1.5; /* Ensures readability */\n",
        "}\n",
        "div.info ul {\n",
        "    margin: 0.5em 0; /* Space around the list */\n",
        "}\n",
        "div.info li {\n",
        "    margin-bottom: 0.5em; /* Space between list items */\n",
        "}\n",
        "</style>\n",
        "\n",
        "<div class=\"info\">\n",
        "\n",
        "<strong>Note: This is just one possible choice of alignment!</strong>\n",
        "\n",
        "<p>I'm choosing to align to the Alpha Carbons, but you may want to align to something else.\n",
        "\n",
        "</div>"
      ]
    },
    {
      "cell_type": "code",
      "execution_count": null,
      "metadata": {
        "id": "JwUJ-jfy561M"
      },
      "outputs": [],
      "source": [
        "# Note: Other options would work besides alpha carbons\n",
        "fixed_alphas = u_fixed.select_atoms(\"name CA\")\n",
        "ref_alphas = u.select_atoms(\"name CA\")\n",
        "\n",
        "unmatched_fixed_residues = []\n",
        "ref_res_index = 0\n",
        "for idx, residue in enumerate(fixed_alphas.residues):\n",
        "  # Check for exceeding the original structure. Some new residues may not be aligned, thats okay\n",
        "  if ref_res_index > len(ref_alphas.residues) - 1:\n",
        "    continue\n",
        "  # A simple check to see if its the same residue at an index\n",
        "  fixed_res_name = residue.resname\n",
        "  ref_res_name = ref_alphas.residues[ref_res_index].resname\n",
        "  if fixed_res_name != ref_res_name:  # Residues are different, which will only happen because we added the missing ones\n",
        "    unmatched_fixed_residues.append(idx)\n",
        "    # Move on the main one to find the next out of place resiude\n",
        "    continue\n",
        "  ref_res_index += 1\n",
        "\n",
        "# Not an elegant selection string, but works well enough for us\n",
        "ref_select = \"name CA and segid A\"\n",
        "fixed_select = \"name CA and segid A and not \" + \"(resid \" + \" or resid \".join(str(fix) for fix in unmatched_fixed_residues) + \")\"\n",
        "selection_dict = {\"mobile\": fixed_select,\n",
        "                  \"reference\": ref_select}\n",
        "print(f\"Fixed Structure Selection String: '{fixed_select}'\")\n",
        "print(f\"Original Structure Selection String: '{ref_select}'\")\n",
        "\n",
        "align.alignto(u_fixed, u, select=selection_dict, weights=\"mass\")\n",
        "\n",
        "# Now write the aligned structure out.\n",
        "all_fixed_atoms = u_fixed.select_atoms(\"all\")\n",
        "all_fixed_atoms.write(f\"{protein_directory}/{pdb_id}_aligned.pdb\")"
      ]
    },
    {
      "cell_type": "markdown",
      "metadata": {
        "id": "R2v_NroR6_r8"
      },
      "source": [
        "Our aligned structure is now just another PDB, so lets load the two structures together."
      ]
    },
    {
      "cell_type": "code",
      "execution_count": null,
      "metadata": {
        "id": "TjfCTTIZSKAp"
      },
      "outputs": [],
      "source": [
        "# Visualize the alignment\n",
        "v = py3Dmol.view()\n",
        "v.addModel(open(f\"{protein_directory}/{pdb_id}.pdb\").read())\n",
        "v.addModel(open(f\"{protein_directory}/{pdb_id}_aligned.pdb\").read())\n",
        "v.setStyle({'model': 0}, {'cartoon': {'color': '#0e9674'}})\n",
        "v.setStyle({'model':1}, {'cartoon': {'color': '#c46225'}})\n",
        "v.zoomTo({'model':0})\n",
        "v.rotate(90, \"z\")\n",
        "v.rotate(-25, \"y\")"
      ]
    },
    {
      "cell_type": "markdown",
      "metadata": {
        "id": "vNaLxzkx7U61"
      },
      "source": [
        "And we can look at how our binding site has changed (if at all)"
      ]
    },
    {
      "cell_type": "code",
      "execution_count": null,
      "metadata": {
        "id": "2I8S7XZB7FA0"
      },
      "outputs": [],
      "source": [
        "v = py3Dmol.view()\n",
        "v.addModel(open(f\"{protein_directory}/{pdb_id}.pdb\").read())\n",
        "v.addModel(open(f\"{protein_directory}/{pdb_id}_aligned.pdb\").read())\n",
        "v.setStyle()\n",
        "v.addSurface(\"VDW\", {'opacity':0.75, \"color\": '#0e9674'}, {'resi':active_site.residues.resids.tolist(), \"chain\":\"A\", \"model\": 0})\n",
        "v.addSurface(\"VDW\", {'opacity':0.75, \"color\": '#c46225'}, {'resi':active_site.residues.resids.tolist(), \"chain\":\"A\", \"model\": 1})\n",
        "v.zoomTo({'chain':\"A\"})\n",
        "v.rotate(90, \"z\")\n",
        "v.rotate(-25, \"y\")"
      ]
    },
    {
      "cell_type": "markdown",
      "metadata": {
        "id": "4fnK3Rjk7r09"
      },
      "source": [
        "We now have the protein in a relaxed structure with all atoms present while performing minimal adjustments to the binding site."
      ]
    },
    {
      "cell_type": "code",
      "execution_count": null,
      "metadata": {
        "cellView": "form",
        "colab": {
          "base_uri": "https://localhost:8080/",
          "height": 61
        },
        "id": "RjaLOAs-7qL8",
        "outputId": "2564a82e-1538-4904-bc3f-87b2c8784665"
      },
      "outputs": [
        {
          "data": {
            "text/html": [
              "<style>\n",
              "div.warning { /* Based on Bootstrap Warning */\n",
              "    color: #856404; /* Darker shade of yellow-brown for text */\n",
              "    background-color: #fff3cd; /* Light faded yellow background */\n",
              "    border-left: 5px solid #fad975; /* saturated yellow border */\n",
              "    padding: 0.5em;\n",
              "    font-size: 1.25em; /* Matches the surrounding text size */\n",
              "    line-height: 1.5; /* Ensures readability */\n",
              "}\n",
              "div.info ul {\n",
              "    margin: 0.5em 0; /* Space around the list */\n",
              "}\n",
              "div.info li {\n",
              "    margin-bottom: 0.5em; /* Space between list items */\n",
              "}\n",
              "</style>\n",
              "\n",
              "<div class=\"warning\">\n",
              "\n",
              "<strong>The next visualization requires the Restrained Minimization from above to have been run</strong>\n",
              "\n",
              "</div>\n"
            ],
            "text/plain": [
              "<IPython.core.display.HTML object>"
            ]
          },
          "metadata": {},
          "output_type": "display_data"
        }
      ],
      "source": [
        "# @title\n",
        "%%html\n",
        "<style>\n",
        "div.warning { /* Based on Bootstrap Warning */\n",
        "    color: #856404; /* Darker shade of yellow-brown for text */\n",
        "    background-color: #fff3cd; /* Light faded yellow background */\n",
        "    border-left: 5px solid #fad975; /* saturated yellow border */\n",
        "    padding: 0.5em;\n",
        "    font-size: 1.25em; /* Matches the surrounding text size */\n",
        "    line-height: 1.5; /* Ensures readability */\n",
        "}\n",
        "div.info ul {\n",
        "    margin: 0.5em 0; /* Space around the list */\n",
        "}\n",
        "div.info li {\n",
        "    margin-bottom: 0.5em; /* Space between list items */\n",
        "}\n",
        "</style>\n",
        "\n",
        "<div class=\"warning\">\n",
        "\n",
        "<strong>The next visualization requires the Restrained Minimization from above to have been run</strong>\n",
        "\n",
        "</div>"
      ]
    },
    {
      "cell_type": "markdown",
      "metadata": {
        "id": "0l5KLWxE9lMw"
      },
      "source": [
        "If you ran the restrained minimization, we can also compare its binding pocket as well. Overlapping three visual surfaces probably isn't very clear, so you may wish to use a more quantitative measure such as RMSD."
      ]
    },
    {
      "cell_type": "code",
      "execution_count": null,
      "metadata": {
        "id": "S4xtq_1E7_Cy"
      },
      "outputs": [],
      "source": [
        "# We'll skip some steps and align our \"fixed\" structure to our \"restrained\" structure\n",
        "u_res = mda.Universe(f\"{protein_directory}/{pdb_id}_restrain.pdb\")\n",
        "align.alignto(u_res, u_fixed, select=\"name CA\", weights=\"mass\")\n",
        "\n",
        "# Now write the aligned structure out.\n",
        "all_restrained_atoms = u_res.select_atoms(\"all\")\n",
        "all_restrained_atoms.write(f\"{protein_directory}/{pdb_id}_restrain_aligned.pdb\")"
      ]
    },
    {
      "cell_type": "code",
      "execution_count": null,
      "metadata": {
        "id": "S-ZUSI5886au"
      },
      "outputs": [],
      "source": [
        "v = py3Dmol.view()\n",
        "v.addModel(open(f\"{protein_directory}/{pdb_id}.pdb\").read())\n",
        "v.addModel(open(f\"{protein_directory}/{pdb_id}_aligned.pdb\").read())\n",
        "v.addModel(open(f\"{protein_directory}/{pdb_id}_restrain_aligned.pdb\").read())\n",
        "v.setStyle()\n",
        "v.addSurface(\"VDW\", {'opacity':0.75, \"color\": '#0e9674'}, {'resi':active_site.residues.resids.tolist(), \"chain\":\"A\", \"model\": 0})\n",
        "v.addSurface(\"VDW\", {'opacity':0.75, \"color\": '#c46225'}, {'resi':active_site.residues.resids.tolist(), \"chain\":\"A\", \"model\": 1})\n",
        "v.addSurface(\"VDW\", {'opacity':0.75, \"color\": '#4287f5'}, {'resi':active_site.residues.resids.tolist(), \"chain\":\"A\", \"model\": 2})\n",
        "v.zoomTo({'chain':\"A\"})\n",
        "v.rotate(90, \"z\")\n",
        "v.rotate(-25, \"y\")"
      ]
    },
    {
      "cell_type": "code",
      "execution_count": null,
      "metadata": {
        "id": "B4JEGQd7-N0I"
      },
      "outputs": [],
      "source": [
        "from MDAnalysis.analysis.rms import RMSD\n",
        "\n",
        "# Select our residues\n",
        "residue_select = \"resid \" + \" or resid \".join(str(x) for x in active_site.residues.resids)\n",
        "residue_select = \"name CA and (\" + residue_select + \")\"\n",
        "print(residue_select)\n",
        "\n",
        "fixed_select_rmsd = u_fixed.select_atoms(residue_select)\n",
        "restrined_select_rmsd = u_res.select_atoms(residue_select)\n",
        "ref_select_rmsd = u.select_atoms(residue_select)\n",
        "\n",
        "rmsd_fixed = RMSD(fixed_select_rmsd,\n",
        "                  reference=ref_select_rmsd,\n",
        "                  weights=\"mass\").run().results.rmsd\n",
        "rmsd_restrined = RMSD(restrined_select_rmsd,\n",
        "                      reference=ref_select_rmsd,\n",
        "                      weights=\"mass\").run().results.rmsd\n",
        "print(f\"RMSD of binding site Alpha Carbons after basic minimization: {rmsd_fixed}\")\n",
        "print(f\"RMSD of binding site Alpha Carbons after restrained minimization: {rmsd_restrined}\")"
      ]
    },
    {
      "cell_type": "markdown",
      "metadata": {
        "id": "fds1KWNBTcZA"
      },
      "source": [
        "## Adding Partial Charge Information to the Receptor for Docking\n",
        "\n",
        "Molecular docking can sometimes require charge information about the protein in order to correctly handle the physics calculations. Many programs for docking specifically (i.e. the `gnina` program we'll use next, or e.g. Autodock VINA) can use an extended PDB format called PDBQT. Although we technically assigned charges when we did the minimization with the Amber ff14SB force field, those were kept in OpenMM for dynamics simulations. If we want those partial charges in our docking, we need to either take those partial charges from our `System` and write them out to a PDBQT file (for which OpenMM does not have nor should have a writer for), OR, we can use a program like `OpenBabel` to write the file for us from our completed structure.\n",
        "\n",
        "This workshop will use docking scoring functions that don't require the partial charges, but we'll show you how to generate them should you choose to need them.\n",
        "\n",
        "Technically speaking, MDAnalysis can write to PDBQT file formats, but doesn't have auto-charge generation. We're choosing to show another program which also supports auto-charge generation and is still quite popular today."
      ]
    },
    {
      "cell_type": "code",
      "execution_count": null,
      "metadata": {
        "id": "R4gRY0NhXNmQ"
      },
      "outputs": [],
      "source": [
        "# Invoke OpenBabel's CLI from Python. Can also use subprocess as its safer, but os.system works fine here.\n",
        "receptor_pdbqt_path = f\"{protein_directory}/{pdb_id}.pdbqt\"\n",
        "recepetor_fixed_path = f\"{protein_directory}/{pdb_id}_fixed.pdb\"\n",
        "# Generate the PDBQT file.\n",
        "# We could have \"--partialcharge <method>\" as a flag if we wanted to compute the partial charges, but this will just assume they are all \"0\"\n",
        "# The \"-xh\" flag preserves the hydrogens we worked so hard to get.\n",
        "os.system(f\"obabel -ipdb {recepetor_fixed_path} -opdbqt -O {receptor_pdbqt_path}\")\n",
        "\n",
        "# If you get a status code \"2\" here, rerun it. You want status code 0"
      ]
    },
    {
      "cell_type": "markdown",
      "metadata": {
        "id": "HG6yVycDDXI_"
      },
      "source": [
        "OpenBabel is doing quite alot behind the scenes for us. Because we've specified that we want a PDBQT file, OpenBabel is stripping out all of the non-polar hydrogens from our system. We could have added an [additional flag](https://open-babel.readthedocs.io/en/latest/FileFormats/AutoDock_PDBQT_format.html) to the command in the form of `-xh`, which tells the PDBQT writter to keep all hydrogens (`x` indicates flags for outputs, `h` is hydrogen). We also could have specified a `--partialcharge` method in the command to have OpenBabel place partial charges on our receptor.\n",
        "\n",
        "Did we need to do either of those flags though? For our case: No. In fact, for our case, its actually a bad idea. Why though? We have to understand our tools to know why.\n",
        "\n",
        "What impact does the `-xh` flag have?\n",
        "* If we only provide a PDB file to `gnina`, it will automatically strip out any non-polar hydrogens.\n",
        "* If we give a PDBQT file to `gnina` though, it will use the file **as is**. That means all hydrogens present in the file will be treated as polar hydrogens; which can and do give erroneous results. Not all codes will make this assumption though.\n",
        "\n",
        "What impact does the `--partialcharge` flag have?\n",
        "* We're not using a docking method that need partial charges, so adding the charges doesn't change the result at all (we tested this to make sure). Some actually do use this information and without the flag, it assigns a partial charge of 0 to all atoms, which will give you incorrect results when charges are needed.\n",
        "* Computing partial charges does take more time, so if you're running this command with some regularity, its just adding empty compute time when not needed."
      ]
    },
    {
      "cell_type": "markdown",
      "metadata": {
        "id": "bFsiJwDSGCcm"
      },
      "source": [
        "Congratulations! We've now prepped our receptor protein molecule for docking. We still need to do the ligand, which has less regular data we can draw from (such as adding in missing hydrogens based on standard residues), but the process is still straightforward, and in fewer steps often.\n"
      ]
    },
    {
      "cell_type": "code",
      "execution_count": null,
      "metadata": {
        "cellView": "form",
        "colab": {
          "base_uri": "https://localhost:8080/",
          "height": 61
        },
        "id": "LIZPRaHiF_-_",
        "outputId": "3a172a6a-6055-4ee0-f4c6-8d2450e3bb1e"
      },
      "outputs": [
        {
          "data": {
            "text/html": [
              "<style>\n",
              "div.info { /* Based on Bootstrap Secondary Alert */\n",
              "    color: #0c5460; /* Darker shade of blue for text */\n",
              "    background-color: #d1ecf1; /* Light blue background */\n",
              "    border-left: 5px solid #459db9; /* Bright blue border */\n",
              "    padding: 0.5em;\n",
              "    font-size: 1.25em; /* Matches the surrounding text size */\n",
              "    line-height: 1.5; /* Ensures readability */\n",
              "}\n",
              "div.info ul {\n",
              "    margin: 0.5em 0; /* Space around the list */\n",
              "}\n",
              "div.info li {\n",
              "    margin-bottom: 0.5em; /* Space between list items */\n",
              "}\n",
              "</style>\n",
              "\n",
              "<div class=\"info\">\n",
              "\n",
              "<strong>Workshop: Checkpoint for Questions</strong>\n",
              "\n",
              "</div>\n"
            ],
            "text/plain": [
              "<IPython.core.display.HTML object>"
            ]
          },
          "metadata": {},
          "output_type": "display_data"
        }
      ],
      "source": [
        "# @title\n",
        "%%html\n",
        "<style>\n",
        "div.info { /* Based on Bootstrap Secondary Alert */\n",
        "    color: #0c5460; /* Darker shade of blue for text */\n",
        "    background-color: #d1ecf1; /* Light blue background */\n",
        "    border-left: 5px solid #459db9; /* Bright blue border */\n",
        "    padding: 0.5em;\n",
        "    font-size: 1.25em; /* Matches the surrounding text size */\n",
        "    line-height: 1.5; /* Ensures readability */\n",
        "}\n",
        "div.info ul {\n",
        "    margin: 0.5em 0; /* Space around the list */\n",
        "}\n",
        "div.info li {\n",
        "    margin-bottom: 0.5em; /* Space between list items */\n",
        "}\n",
        "</style>\n",
        "\n",
        "<div class=\"info\">\n",
        "\n",
        "<strong>Workshop: Checkpoint for Questions</strong>\n",
        "\n",
        "</div>"
      ]
    },
    {
      "cell_type": "markdown",
      "metadata": {
        "id": "7wdporBGXN4b"
      },
      "source": [
        "# Building Atomistic Ligand Model\n",
        "\n",
        "Let's review what we need to prepare our ligand for docking from our list above:\n",
        "\n",
        "* Where on the receptor we want to dock\n",
        "* Atomistic level coordinates of ligand (here: small molecule)\n",
        "* Partial charge and protonation states for ligand\n",
        "* Descriptor of how atoms interact with each other\n",
        "\n",
        "Going down the list one at a time, we can work to build our ligand."
      ]
    },
    {
      "cell_type": "markdown",
      "metadata": {
        "id": "Qya8dZfGwdUg"
      },
      "source": [
        "## Where on the Receptor We Want to Dock\n",
        "\n",
        "The location we want to dock to can be programmatically determined from the experimentally bound ligand itself. Some docking programs, including the `gnina` program we'll be using, determine the docking location based on an existing ligand and a buffer zone around it. We'll need to make sure its location is well defined, especially because we pulled it's experimental positions out of the binding site earlier before relaxing. In practice, this step will be resolved with the following ones on its own. We could also use a tool like `MDAnalysis` to define our binding region (similar to how we identified nearby residues to the ligand) and provide that for the search grid into our program.\n",
        "\n",
        "This process works well when you already know the rough region of the receptor you want to dock to. You'll have to identify active and/or target sites through other means if you don't already have this information; which in itself is a whole field of research beyond the scope here.\n"
      ]
    },
    {
      "cell_type": "markdown",
      "metadata": {
        "id": "VXo-0dpZwfAl"
      },
      "source": [
        "## Atomistic Level Coordinates of Ligand\n",
        "\n",
        "Looking at the original PDB file, we can see that our ligand doesn't have hydrogens either. That is not surprising, however, we can't \"fix\" this problem in the same was as we did the protein because a ligand doesn't have the concept of \"standard\" components the same way a protein does. It still follows chemistry though, so we can still fill in the missing information; lucky us!\n",
        "\n",
        "The RCSB keeps a record of all the ligands it has in its structures as well. Much in the same way it codes proteins, it does the same for ligands. We'll pull down the \"ideal\" structure for this ligand to make sure we get the correct chemistry for it, and then modify it for our purposes. The \"ideal\" structures are those which have been constructed with optimized bonds, collisions, and alignments for computational analysis; as opposed to the coordinates found in experimental structures. They will be 3D, but you might not always have a ligand which has a 3D structure provided (especially given the information there are $10^{60}$ possible small molecules following Lipinski's rule-of-five and at least 166.4 billion enumerated since 2015; see [The Chemical Space Project](https://pubs.acs.org/doi/10.1021/ar500432k)). For now, let's focus on what we do have.\n",
        "\n",
        "We know the ID for this ligand from the PDB file is \"Y6J\" and *could* use that in our code. However, if you're screening many compounds, you may not want to manually look at every PDF file to find the alpha-numeric ID for the ligand(s), so lets extract it programmatically with tools we already have."
      ]
    },
    {
      "cell_type": "code",
      "source": [
        "# Reloading the fixed protein in case restrained minimization block wasn't run\n",
        "import MDAnalysis as mda\n",
        "\n",
        "# Load the original PDB\n",
        "u = mda.Universe(f\"{protein_directory}/{pdb_id}.pdb\")"
      ],
      "metadata": {
        "id": "tRy31gUqtONM"
      },
      "execution_count": null,
      "outputs": []
    },
    {
      "cell_type": "code",
      "execution_count": null,
      "metadata": {
        "id": "rJEggYkPhTwB"
      },
      "outputs": [],
      "source": [
        "import numpy as np\n",
        "\n",
        "# This works well enough for single bound ligand, but is not general for more complicated or non-standard PDB codes\n",
        "ligands = u.select_atoms(\"not protein and not water\")\n",
        "ligand_residue_names = ligands.residues.resnames\n",
        "# This is a dimer, so pull out one name.\n",
        "ligand_id = np.unique(ligand_residue_names)[0]\n",
        "print(ligand_id)"
      ]
    },
    {
      "cell_type": "code",
      "execution_count": null,
      "metadata": {
        "id": "eGrw95tElNA-"
      },
      "outputs": [],
      "source": [
        "# Pull the ideal ligand from the RCSB\n",
        "ligand_directory = \"ligand_structures\"\n",
        "os.makedirs(ligand_directory, exist_ok=True)\n",
        "\n",
        "ideal_ligand_filename = f\"{ligand_id}_ideal.sdf\"\n",
        "print(f\"Downloading ligand {ligand_id}...\")\n",
        "ligand_url = f\"https://files.rcsb.org/ligands/download/{ideal_ligand_filename}\"\n",
        "# dont break the RCSB for the workshop\n",
        "ligand_url = f\"https://raw.githubusercontent.com/MolSSI-Education/iqb-2025/refs/heads/main/data/{ideal_ligand_filename}\"\n",
        "ligand_request = requests.get(ligand_url)\n",
        "ligand_request.raise_for_status() # Check for errors\n",
        "\n",
        "ideal_filepath = f\"{ligand_directory}/{ideal_ligand_filename}\"\n",
        "\n",
        "with open(ideal_filepath, \"w\") as f:\n",
        "    f.write(ligand_request.text)\n",
        "print(f\"Saved ligand to {ideal_filepath}\")"
      ]
    },
    {
      "cell_type": "markdown",
      "metadata": {
        "id": "EmgTv6d6m09r"
      },
      "source": [
        "And we can look at this file much like we did the PDB"
      ]
    },
    {
      "cell_type": "code",
      "execution_count": null,
      "metadata": {
        "id": "Bcr5zy1xm0bY"
      },
      "outputs": [],
      "source": [
        "# Helper function from above\n",
        "render_text(ligand_request.text)"
      ]
    },
    {
      "cell_type": "markdown",
      "metadata": {
        "id": "fxEeOi5cm_Zy"
      },
      "source": [
        "The Structured Data File (SDF) format is great for small molecules, including multiple molecules in one file, full coordinates for all atoms, bond type information, formal charge information (although 0 here), and supports other metadata not present in this particular file.\n",
        "\n",
        "This ideal structure has plenty of information that the structure in the experimental PDB is missing, however, it also has coordinates which have no relation to how this molecule will be configured in the active site we're investigating. So we'll need to map the information from one to the other. We can start by pulling the coordinates from the PDB file and saving those. Even if we test other ligands that were not experimentally bound, we'll need the originally bound ligand in our specific workflow to define the active site box."
      ]
    },
    {
      "cell_type": "code",
      "execution_count": null,
      "metadata": {
        "id": "CqFT47FWptS8"
      },
      "outputs": [],
      "source": [
        "# Split the ligand out into its own PDB file from the experimental one\n",
        "\n",
        "# Use only Chain A since this is a dimer and our target site for docking\n",
        "single_pose_ligand = ligand.select_atoms(\"segid A\")\n",
        "single_pose_ligand.write(f\"{ligand_directory}/{ligand_id}_fromPDB.pdb\")"
      ]
    },
    {
      "cell_type": "markdown",
      "metadata": {
        "id": "tQKnlr6Are6N"
      },
      "source": [
        "MDAnalyis [cannot write SDF files](https://userguide.mdanalysis.org/stable/formats/index.html#id10), but we're only really interested in the heavy atom coordinates so the PDB file format is fine for our purposes.\n",
        "\n",
        "The tools we've worked with so far in prep are not built to handle bond orders and other types of chemistry we'll need to map the two ligands onto each other. So we'll instead be using RDKit to do that. Specifically, we need to map the bond orders and hydrogens from our ideal molecule onto the coordinates from the experimental pose. RDKit can handle that in a few lines."
      ]
    },
    {
      "cell_type": "code",
      "execution_count": null,
      "metadata": {
        "id": "RavzgbRMskJ9"
      },
      "outputs": [],
      "source": [
        "from rdkit import Chem\n",
        "from rdkit.Chem import AllChem\n",
        "\n",
        "# Load and remove the hydrogens that we can't map anyways yet.\n",
        "ideal_mol = Chem.MolFromMolFile(f\"{ligand_directory}/{ligand_id}_ideal.sdf\", removeHs=True)\n",
        "pose_mol = Chem.MolFromPDBFile(f\"{ligand_directory}/{ligand_id}_fromPDB.pdb\", removeHs=True)\n",
        "\n",
        "# Assign bond orders from the template to the pose molecule\n",
        "corrected_pose = AllChem.AssignBondOrdersFromTemplate(ideal_mol, pose_mol)\n",
        "\n",
        "# Add hydrogens back to the corrected pose\n",
        "corrected_pose_with_H = Chem.AddHs(corrected_pose, addCoords=True)\n",
        "\n",
        "# Sanity to check to make sure the molecule is right (check smiles of both)\n",
        "assert Chem.MolToSmiles(corrected_pose) == Chem.MolToSmiles(ideal_mol)\n",
        "\n",
        "# Save the corrected pose to an SDF file\n",
        "ligand_corrected_pose_file = f\"{ligand_directory}/{ligand_id}_corrected_pose.sdf\"\n",
        "writer = Chem.SDWriter(ligand_corrected_pose_file)\n",
        "writer.write(corrected_pose_with_H)\n",
        "writer.close()"
      ]
    },
    {
      "cell_type": "code",
      "execution_count": null,
      "metadata": {
        "id": "GpiMRNYdtuhK"
      },
      "outputs": [],
      "source": [
        "# Compare the two models\n",
        "v = py3Dmol.view()\n",
        "v.addModel(open(f\"{ligand_directory}/{ligand_id}_fromPDB.pdb\").read())\n",
        "v.addModel(open(f\"{ligand_corrected_pose_file}\").read())\n",
        "#v.setStyle()\n",
        "v.setStyle({\"model\":0}, {'stick': {'color': '#0e9674'}})\n",
        "v.setStyle({\"model\":1}, {'stick': {'color': '#c46225'}})\n",
        "v.zoomTo({'model':0})"
      ]
    },
    {
      "cell_type": "markdown",
      "metadata": {
        "id": "6IdSfQaguwBc"
      },
      "source": [
        "You can see in the overlaid rendering here that both the original experimental pose (green) and the structure corrected pose (brown) are present, but the structure corrected one has the added hydrogens.\n",
        "\n",
        "We now have a fully atomistic ligand and for some docking programs, this is all we need to do. We've got a bit more to do to have the docking program we want to use, `gnina` behave."
      ]
    },
    {
      "cell_type": "markdown",
      "metadata": {
        "id": "xegDiRrFzOba"
      },
      "source": [
        "### Partial Charge for the Ligand\n",
        "\n",
        "We won't explicitly be needing the partial charges for our small molecule as we won't need them pre-defined for docking here. If you want to make your own partial charges for ligands, you can use an array of tools such as\n",
        "[Amber's `antechamber`](https://ambermd.org/antechamber/ac.html#antechamber),\n",
        "[Open Free Energy's charging CLI](https://docs.openfree.energy/en/latest/tutorials/charge_molecules_cli_tutorial.html),\n",
        "[OpenEye's `molcharge`](https://docs.eyesopen.com/toolkits/cpp/quacpactk/molchargetheory.html),\n",
        "and OpenBabel (like we'll do here) to name a few.\n",
        "\n",
        "We'll be generating a PDBQT file for our ligand just like we did with the receptor due to a quirk in how `gnina` runs its code. If you do *not* provide a PDBQT file, `gnina` will run OpenBabel behind the scenes and strip out all the hydrogens we worked so hard to build up. Not every code does this mind you, but in order to preserve our work, we're going to make a PDBQT file for our ligand so the hydrogens will be preserved.\n"
      ]
    },
    {
      "cell_type": "code",
      "execution_count": null,
      "metadata": {
        "id": "30SRmo5N7a1Z"
      },
      "outputs": [],
      "source": [
        "# Create our PDBQT to keep our hydrogens\n",
        "ligand_simple_pdbqt_filename = f\"{ligand_directory}/{ligand_id}_obabel.pdbqt\"\n",
        "os.system(f\"obabel {ligand_corrected_pose_file} -O {ligand_simple_pdbqt_filename} -xh\")"
      ]
    },
    {
      "cell_type": "markdown",
      "metadata": {
        "id": "84ki26MC9ZLf"
      },
      "source": [
        "If you want just a single basic resonant structure of your ligand, than you're likely ready to go! However, we may not always want just one structure, especially if we can build tautomers."
      ]
    },
    {
      "cell_type": "markdown",
      "metadata": {
        "id": "oBGUCfnf0P32"
      },
      "source": [
        "### Building Ligand Tautomers and Protomers\n",
        "\n",
        "Tautomers and protomers, especially in the biosciences, can drastically change the interactions between a ligand and receptor. One example of this is in drug chemistry where one tautomer may form in compounding, and then decay to another while the drug is on the shelf. If we only explore resonance structures, or only one tautomer of a ligand, then we may miss critical interactions which have real-world impacts later.\n",
        "\n",
        "For the purposes of this workshop, I'm referring to \"protomer\" as the moving of a single proton on a small molecule to generate different tautomers, usually as a result of pH. As such, I'll treat them roughly the same and will just use \"tautomer\" for word choice, even if you can get multiple tautomers at a fixed pH.\n",
        "\n",
        "Generating tautomers is no easy task, I strongly recommend looking through the literature on this topic to better understand what we'll be doing here. We'll be using `RDKit` and [`Scrubber`](https://github.com/forlilab/molscrub); from the lab which also makes [`meeko`](https://meeko.readthedocs.io/en/release-doc/); to generate our tautomers. You can use these programs separately, or together (`Scrubber` uses `RDKit` under the hood with extra logic). There is also an [excellent blog post by Jeremy Monat](https://bertiewooster.github.io/2024/05/01/Tautomer-Sources-Comparison.html) which compares tautomer generation codes from 2024, one of which we'll be using here.\n",
        "\n",
        "Even though tautomers themselves can be complicated, our tool developers have taken great strides to make it as straightforward as possible to generate said tautomers."
      ]
    },
    {
      "cell_type": "code",
      "execution_count": null,
      "metadata": {
        "cellView": "form",
        "colab": {
          "base_uri": "https://localhost:8080/",
          "height": 131
        },
        "id": "btmju_oV-wTd",
        "outputId": "a928e583-7d08-4399-9890-ec2dc5f1f91e"
      },
      "outputs": [
        {
          "data": {
            "text/html": [
              "<style>\n",
              "div.warning { /* Based on Bootstrap Warning */\n",
              "    color: #856404; /* Darker shade of yellow-brown for text */\n",
              "    background-color: #fff3cd; /* Light faded yellow background */\n",
              "    border-left: 5px solid #fad975; /* saturated yellow border */\n",
              "    padding: 0.5em;\n",
              "    font-size: 1.25em; /* Matches the surrounding text size */\n",
              "    line-height: 1.5; /* Ensures readability */\n",
              "}\n",
              "div.info ul {\n",
              "    margin: 0.5em 0; /* Space around the list */\n",
              "}\n",
              "div.info li {\n",
              "    margin-bottom: 0.5em; /* Space between list items */\n",
              "}\n",
              "</style>\n",
              "\n",
              "<div class=\"warning\">\n",
              "\n",
              "<strong>Meeko doesn't work for this protein system</strong>\n",
              "\n",
              "<p>We didn't use Meeko to prepare our protein because it makes infernces based on atomic distances about bonds.\n",
              "\n",
              "<p>This dimer structure has interatomic distances which make some atoms bonded that should not be, so we had to take other steps to prepare the receptor.\n",
              "\n",
              "</div>\n"
            ],
            "text/plain": [
              "<IPython.core.display.HTML object>"
            ]
          },
          "metadata": {},
          "output_type": "display_data"
        }
      ],
      "source": [
        "# @title\n",
        "%%html\n",
        "<style>\n",
        "div.warning { /* Based on Bootstrap Warning */\n",
        "    color: #856404; /* Darker shade of yellow-brown for text */\n",
        "    background-color: #fff3cd; /* Light faded yellow background */\n",
        "    border-left: 5px solid #fad975; /* saturated yellow border */\n",
        "    padding: 0.5em;\n",
        "    font-size: 1.25em; /* Matches the surrounding text size */\n",
        "    line-height: 1.5; /* Ensures readability */\n",
        "}\n",
        "div.info ul {\n",
        "    margin: 0.5em 0; /* Space around the list */\n",
        "}\n",
        "div.info li {\n",
        "    margin-bottom: 0.5em; /* Space between list items */\n",
        "}\n",
        "</style>\n",
        "\n",
        "<div class=\"warning\">\n",
        "\n",
        "<strong>Meeko doesn't work for this protein system</strong>\n",
        "\n",
        "<p>We didn't use Meeko to prepare our protein because it makes infernces based on atomic distances about bonds.\n",
        "\n",
        "<p>This dimer structure has interatomic distances which make some atoms bonded that should not be, so we had to take other steps to prepare the receptor.\n",
        "\n",
        "</div>"
      ]
    },
    {
      "cell_type": "code",
      "execution_count": null,
      "metadata": {
        "id": "8-bdg56H44cH"
      },
      "outputs": [],
      "source": [
        "# Check our molecule from RDKit. Doesn't have rotation, but its neat to see in a Jupyer Notebook for just invoking it\n",
        "corrected_pose_with_H"
      ]
    },
    {
      "cell_type": "markdown",
      "metadata": {
        "id": "bRMB2GZinpSS"
      },
      "source": [
        "RDKit can help us generate tautomers, however, RDKit also works on the principal that hydrogens are generally implicit (i.e. `removeHs=True`, default). If you leave hydrogens in your structure, [you can get some very odd and incorrect results depending on what you are doing](https://www.rdkit.org/docs/source/rdkit.Chem.rdmolops.html#rdkit.Chem.rdmolops.AddHs). So we'll work with the structure before we added hydrogens."
      ]
    },
    {
      "cell_type": "code",
      "execution_count": null,
      "metadata": {
        "cellView": "form",
        "colab": {
          "base_uri": "https://localhost:8080/",
          "height": 99
        },
        "id": "AzRt3wzerSly",
        "outputId": "ec994b30-8143-403a-ad4c-a7fc08d03689"
      },
      "outputs": [
        {
          "data": {
            "text/html": [
              "<style>\n",
              "div.info { /* Based on Bootstrap Secondary Alert */\n",
              "    color: #0c5460; /* Darker shade of blue for text */\n",
              "    background-color: #d1ecf1; /* Light blue background */\n",
              "    border-left: 5px solid #459db9; /* Bright blue border */\n",
              "    padding: 0.5em;\n",
              "    font-size: 1.25em; /* Matches the surrounding text size */\n",
              "    line-height: 1.5; /* Ensures readability */\n",
              "}\n",
              "div.info ul {\n",
              "    margin: 0.5em 0; /* Space around the list */\n",
              "}\n",
              "div.info li {\n",
              "    margin-bottom: 0.5em; /* Space between list items */\n",
              "}\n",
              "</style>\n",
              "\n",
              "<div class=\"info\">\n",
              "\n",
              "<strong>RDKit's Tautomer Enumeration routine generates ALL POSSIBLE tautomers</strong>\n",
              "\n",
              "<p>Not all tautomers are stable, or even energetically favored, especially with at certain pH. Without additional logic and code, this is just a set of all possible ones.\n",
              "\n",
              "</div>\n"
            ],
            "text/plain": [
              "<IPython.core.display.HTML object>"
            ]
          },
          "metadata": {},
          "output_type": "display_data"
        }
      ],
      "source": [
        "# @title\n",
        "%%html\n",
        "<style>\n",
        "div.info { /* Based on Bootstrap Secondary Alert */\n",
        "    color: #0c5460; /* Darker shade of blue for text */\n",
        "    background-color: #d1ecf1; /* Light blue background */\n",
        "    border-left: 5px solid #459db9; /* Bright blue border */\n",
        "    padding: 0.5em;\n",
        "    font-size: 1.25em; /* Matches the surrounding text size */\n",
        "    line-height: 1.5; /* Ensures readability */\n",
        "}\n",
        "div.info ul {\n",
        "    margin: 0.5em 0; /* Space around the list */\n",
        "}\n",
        "div.info li {\n",
        "    margin-bottom: 0.5em; /* Space between list items */\n",
        "}\n",
        "</style>\n",
        "\n",
        "<div class=\"info\">\n",
        "\n",
        "<strong>RDKit's Tautomer Enumeration routine generates ALL POSSIBLE tautomers</strong>\n",
        "\n",
        "<p>Not all tautomers are stable, or even energetically favored, especially with at certain pH. Without additional logic and code, this is just a set of all possible ones.\n",
        "\n",
        "</div>"
      ]
    },
    {
      "cell_type": "markdown",
      "metadata": {
        "id": "C5yBSTWDrNMh"
      },
      "source": [
        "Further Reading: [RDKit has a blogpost](https://rdkit.blogspot.com/2020/01/trying-out-new-tautomer.html) with a helpful function to re-order tautomers with the canonical one first. Take a look if you're interested. Note: [\"Canonical\" does not mean most stable, and is likely not the most stable](https://www.rdkit.org/docs/cppapi/classRDKit_1_1MolStandardize_1_1TautomerEnumerator.html#a7e4f2a393b92f09ee1447d2af50918dc)."
      ]
    },
    {
      "cell_type": "code",
      "execution_count": null,
      "metadata": {
        "id": "IdiqdjPf5hjp"
      },
      "outputs": [],
      "source": [
        "from rdkit.Chem.MolStandardize import rdMolStandardize\n",
        "# Initialize enumerator\n",
        "tautomer_enumerator = rdMolStandardize.TautomerEnumerator()\n",
        "# Provide RDKit Mol object to generate.\n",
        "# We already made this, but you may start from a SMILE string or other source\n",
        "# Remember, use the structure with implicit hydrogens!\n",
        "tautomers = tautomer_enumerator.Enumerate(corrected_pose)\n",
        "# Take the TautomerEnumerationResults object and iterate over to get a list of structures\n",
        "tautomers_list = [t for t in tautomers]\n",
        "\n",
        "'''\n",
        "Note! This may generate duplicate structures,\n",
        "You may want to cast these Mol objects into SMILES strings, de-duplicate,\n",
        "then rebuild the Mol objects to map their coordinates back onto the reference structure\n",
        "'''\n",
        "\n",
        "# Cast to a set to make unique, then back to a list (as some tautomers can be enumerated again for some structures)\n",
        "smiles_set_tautomers = set(Chem.MolToSmiles(t) for t in tautomers_list)\n",
        "tautomer_list_unique = list(smiles_set_tautomers)\n",
        "# We know the Y6J structure does have unique tautomers, this is just a sanity check\n",
        "assert len(tautomers_list) == len(tautomer_list_unique)"
      ]
    },
    {
      "cell_type": "code",
      "execution_count": null,
      "metadata": {
        "id": "vTbCvLJ85_Hn"
      },
      "outputs": [],
      "source": [
        "ligand_tautomers = f\"{ligand_directory}/{ligand_id}_tautomers.sdf\"\n",
        "writer = Chem.SDWriter(ligand_tautomers)\n",
        "for t in tautomers_list:\n",
        "  writer.write(t)\n",
        "writer.close()"
      ]
    },
    {
      "cell_type": "markdown",
      "metadata": {
        "id": "kBoaBf6U7tSv"
      },
      "source": [
        "Rendering all these tautomers at once in 3D, or looking through the SDF file isn't going to show many differences, so let's instead just look at the SMILES strings."
      ]
    },
    {
      "cell_type": "code",
      "execution_count": null,
      "metadata": {
        "id": "Yx4zsrq58R0n"
      },
      "outputs": [],
      "source": [
        "for t in tautomer_list_unique:\n",
        "  print(t)"
      ]
    },
    {
      "cell_type": "markdown",
      "metadata": {
        "id": "aFjmLV0yqTBp"
      },
      "source": [
        "However, rendering their 2D smiles strings can be done with a built-in RDKit module and function. Neat!"
      ]
    },
    {
      "cell_type": "code",
      "execution_count": null,
      "metadata": {
        "id": "hZcCDj7emckn"
      },
      "outputs": [],
      "source": [
        "from rdkit.Chem import Draw\n",
        "Draw.MolsToGridImage([Chem.MolFromSmiles(t) for t in tautomer_list_unique])"
      ]
    },
    {
      "cell_type": "code",
      "execution_count": null,
      "metadata": {
        "cellView": "form",
        "colab": {
          "base_uri": "https://localhost:8080/",
          "height": 125
        },
        "id": "mWrk-IGOqtMy",
        "outputId": "90fcb358-784c-41c8-d863-b8f4e5ee0905"
      },
      "outputs": [
        {
          "data": {
            "text/html": [
              "<style>\n",
              "div.warning { /* Based on Bootstrap Warning */\n",
              "    color: #856404; /* Darker shade of yellow-brown for text */\n",
              "    background-color: #fff3cd; /* Light faded yellow background */\n",
              "    border-left: 5px solid #fad975; /* saturated yellow border */\n",
              "    padding: 0.5em;\n",
              "    font-size: 1.25em; /* Matches the surrounding text size */\n",
              "    line-height: 1.5; /* Ensures readability */\n",
              "}\n",
              "div.info ul {\n",
              "    margin: 0.5em 0; /* Space around the list */\n",
              "}\n",
              "div.info li {\n",
              "    margin-bottom: 0.5em; /* Space between list items */\n",
              "}\n",
              "</style>\n",
              "\n",
              "<div class=\"warning\">\n",
              "\n",
              "<strong>SMILES strings from explicit hydrogen structures breaks RDKit</strong>\n",
              "\n",
              "<p>If we made the tautomers with explicit hydrogens, we would have made 24 and RDKit could not have rebuilt the Mol objects from the strings; throwing errors because of too many valence electrons.\n",
              "\n",
              "</div>\n"
            ],
            "text/plain": [
              "<IPython.core.display.HTML object>"
            ]
          },
          "metadata": {},
          "output_type": "display_data"
        }
      ],
      "source": [
        "# @title\n",
        "%%html\n",
        "<style>\n",
        "div.warning { /* Based on Bootstrap Warning */\n",
        "    color: #856404; /* Darker shade of yellow-brown for text */\n",
        "    background-color: #fff3cd; /* Light faded yellow background */\n",
        "    border-left: 5px solid #fad975; /* saturated yellow border */\n",
        "    padding: 0.5em;\n",
        "    font-size: 1.25em; /* Matches the surrounding text size */\n",
        "    line-height: 1.5; /* Ensures readability */\n",
        "}\n",
        "div.info ul {\n",
        "    margin: 0.5em 0; /* Space around the list */\n",
        "}\n",
        "div.info li {\n",
        "    margin-bottom: 0.5em; /* Space between list items */\n",
        "}\n",
        "</style>\n",
        "\n",
        "<div class=\"warning\">\n",
        "\n",
        "<strong>SMILES strings from explicit hydrogen structures breaks RDKit</strong>\n",
        "\n",
        "<p>If we made the tautomers with explicit hydrogens, we would have made 24 and RDKit could not have rebuilt the Mol objects from the strings; throwing errors because of too many valence electrons.\n",
        "\n",
        "</div>"
      ]
    },
    {
      "cell_type": "markdown",
      "metadata": {
        "id": "WaDnfUbw-H7D"
      },
      "source": [
        "We've now generated many tautomers we could use for docking. The good news is, many docking codes, including `gnina` will accept multi-ligand input files for us. We could convert the SDF file into a set of PDBQT files for `gnina` like we did with `OpenBabel`, but consider that we've only enumerated *all* tautomers, not the most likely ones for pH. We could do that with `RDKit` and our own logic, or we can use `Scrubber` which has a handy command-line utility we can just call."
      ]
    },
    {
      "cell_type": "code",
      "execution_count": null,
      "metadata": {
        "id": "ieMr_SAX_vDl"
      },
      "outputs": [],
      "source": [
        "print(f\"{ligand_directory}/{ligand_id}_corrected_pose.sdf\")\n",
        "print(f\"{ligand_directory}/{ligand_id}.pdbqt\")"
      ]
    },
    {
      "cell_type": "code",
      "execution_count": null,
      "metadata": {
        "id": "Y31WsDZL_mFW"
      },
      "outputs": [],
      "source": [
        "!scrub.py ligand_structures/Y6J_corrected_pose.sdf -o ligand_structures/Y6J.sdf"
      ]
    },
    {
      "cell_type": "markdown",
      "metadata": {
        "id": "zBH6tftqAEO-"
      },
      "source": [
        "Scrubber took a pre-set pH, did the following actions for us (from [their documentation](https://github.com/forlilab/molscrub)) using RDKit under the hood:\n",
        "* Generate 3D coordinates using RDKit's ETKDGv3 and UFF minimization\n",
        "* Enumerate tautomers (aiming at low energy states only)\n",
        "* Enumerate pH corrections\n",
        "* Convert boats to chairs (6-member rings) and enumerate both chair states\n",
        "\n",
        "There are plenty of command line options and a Python API for Scrubber as well.\n",
        "\n",
        "And now with our SDF file which has been \"scrubbed,\" we can finally generate our ready-to-feed-into `gnina` PDBQT file that we'll use for docking."
      ]
    },
    {
      "cell_type": "code",
      "execution_count": null,
      "metadata": {
        "id": "1TmiRxslADpi"
      },
      "outputs": [],
      "source": [
        "# Create our PDBQT to keep our hydrogens\n",
        "ligand_pdbqt_filename = f\"{ligand_directory}/{ligand_id}.pdbqt\"\n",
        "os.system(f\"obabel {ligand_corrected_pose_file} -O {ligand_pdbqt_filename} -xh\")"
      ]
    },
    {
      "cell_type": "markdown",
      "metadata": {
        "id": "8zdAfY3B0NGL"
      },
      "source": [
        "And now we have 1 ligand ready to go for docking. But what if we want to have multiple ligands, such as the ones we made from the [second notebook of this workshop?](https://colab.research.google.com/github/MolSSI-Education/iqb-2025/blob/main/02_Cheminfo_crash_course.ipynb)\n",
        "\n",
        "## Preparing multiple ligands from SMILES strings\n",
        "\n",
        "If you want to upload your own CSV file of SMILES strings, feel free to do so. Or you can pull down a sample output by running the code below. There are other codes which can go about this, but this is one example where we can prep from data we've already worked with."
      ]
    },
    {
      "cell_type": "code",
      "execution_count": null,
      "metadata": {
        "id": "jw2FL0M_ccoq"
      },
      "outputs": [],
      "source": [
        "# Run this cell if you want some sample SMILE strings from the\n",
        "# US20240293380 set for 7LME docking. You can also use your own.\n",
        "!wget https://github.com/MolSSI-Education/iqb-2025/raw/refs/heads/main/data/US20240293380_examples.csv"
      ]
    },
    {
      "cell_type": "markdown",
      "metadata": {
        "id": "VAM3CXltd-gU"
      },
      "source": [
        "We'll be using RDKit to pull these SMILES strings back into `Mol` objects (which if we were doing this whole workshop in one notebook we could have skipped), then casting the molecules to SDF, and then back into 3D structures with `Scrubber`. The back and forth between the programs may seem a bit silly because we had the `Mol` objects earlier, but sometimes you will only have SMILE strings to start your research, so we'll work from that basis here."
      ]
    },
    {
      "cell_type": "code",
      "execution_count": null,
      "metadata": {
        "id": "aWXB5EF3fQjW"
      },
      "outputs": [],
      "source": [
        "# Load the SMILES strings into RDKit and write back out an SDF file.\n",
        "# Default delimiter is tab (\\t), so we need to specify \",\"\n",
        "smiles_supplier = Chem.SmilesMolSupplier(\"US20240293380_examples.csv\", delimiter=\",\")\n",
        "mols = []  # Could do this in list comprehension, adding a sanity check\n",
        "for mol in smiles_supplier:\n",
        "  print(Chem.MolToSmiles(mol))  # Sanity check that we got the smiles strings and not metadata\n",
        "  mols.append(mol)\n",
        "\n",
        "# Write out our molecules\n",
        "ligands_to_dock_dirty = f\"{ligand_directory}/ligands_to_dock_dirty.sdf\"\n",
        "writer = Chem.SDWriter(ligands_to_dock_dirty)\n",
        "for m in mols:\n",
        "  writer.write(m)\n",
        "writer.close()"
      ]
    },
    {
      "cell_type": "markdown",
      "metadata": {
        "id": "THd3to70h-71"
      },
      "source": [
        "The file is labeled as \"dirty\" since there is more preparation work to do before these molecules are ready to insert into docking. Because we started with SMILES, we got a 2D structure by default with RDKit. we can see that by just declaring the most recent `mol` object from our list."
      ]
    },
    {
      "cell_type": "code",
      "execution_count": null,
      "metadata": {
        "id": "2x9SqbOCiIZA"
      },
      "outputs": [],
      "source": [
        "mol"
      ]
    },
    {
      "cell_type": "markdown",
      "metadata": {
        "id": "-EtTtZR9iNWy"
      },
      "source": [
        "We can also see that there are some erroneous fields here because we did a very, very simple read of the CSV file with our SMILES strings. We don't need that information here, but you might in the future; make sure you parse your data correctly as needed. (e.g. with the Python built-in `csv` module or manipulate the Pandas `DataFrame` directly). We'll use `Scrubber` to clean up our structures for us all at once."
      ]
    },
    {
      "cell_type": "code",
      "execution_count": null,
      "metadata": {
        "id": "0-IvNYnwjFSb"
      },
      "outputs": [],
      "source": [
        "!scrub.py ligand_structures/ligands_to_dock_dirty.sdf -o ligand_structures/ligands_to_dock.sdf"
      ]
    },
    {
      "cell_type": "markdown",
      "metadata": {
        "id": "EVnXg8m8jf8P"
      },
      "source": [
        "We got some text output, but did that do what we wanted? We could assume we did, or we can make sure."
      ]
    },
    {
      "cell_type": "code",
      "execution_count": null,
      "metadata": {
        "id": "VEu5EJRfjoIO"
      },
      "outputs": [],
      "source": [
        "# Sanity check we got a structure with hydrogens\n",
        "# RDKit automatically removes hydrogens by default (needed for most of the kit to work)\n",
        "# But we're explicitly looking for them here, we can just load them and check\n",
        "supplier = Chem.SDMolSupplier(f\"{ligand_directory}/ligands_to_dock.sdf\", removeHs=False)\n",
        "reloaded_ligands = [mol for mol in supplier]\n",
        "# The last structure will be the same as the last in list comprehension above\n",
        "reloaded_ligands[-1]"
      ]
    },
    {
      "cell_type": "markdown",
      "metadata": {
        "id": "XZdrl6_6cYIj"
      },
      "source": [
        "Our receptor, experimental ligand, and additional ligands have now been downloaded, separated, cleaned, and modified starting from both a single structure on the RCSB and through BindingDB. We applied our bioinformatics and molecular modeling tools to create computational-ready models that we will now feed into docking."
      ]
    }
  ],
  "metadata": {
    "colab": {
      "provenance": []
    },
    "kernelspec": {
      "display_name": "Python 3 (ipykernel)",
      "language": "python",
      "name": "python3"
    },
    "language_info": {
      "codemirror_mode": {
        "name": "ipython",
        "version": 3
      },
      "file_extension": ".py",
      "mimetype": "text/x-python",
      "name": "python",
      "nbconvert_exporter": "python",
      "pygments_lexer": "ipython3",
      "version": "3.11.11"
    }
  },
  "nbformat": 4,
  "nbformat_minor": 0
}