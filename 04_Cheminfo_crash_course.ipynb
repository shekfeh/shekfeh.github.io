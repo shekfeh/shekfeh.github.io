{
  "cells": [
    {
      "cell_type": "markdown",
      "metadata": {
        "id": "Hz731IZ6sXmi"
      },
      "source": [
        "<div style=\"text-align:center;\">\n",
        "  <img src=\"https://github.com/MolSSI-Education/iqb-2025/blob/main/images/molssi_main_outline.png?raw=true\" style=\"display: block; margin: 0 auto; max-height:325px;\">\n",
        "</div>\n",
        "\n",
        "\n",
        "# Molecular Docking using gnina\n",
        "\n",
        "*This tutorial was written by Jessica Nash (Software Scientist) at The Molecular Sciences Software Institue for the [Cheminformatic-Driven Molecular Docking Workshop](https://pdb101.rcsb.org/news/67d9853eaddf75595bd158f7) held as a Crash Course with the Institute for Quantitative Biomedicine (IQB) and the Protein Data Bank (PDB). Special thanks to Pat Walters and David Koes for feedback, suggestions, and proofreading on this notebook.*\n",
        "\n",
        "*This notebook is Part 4 of 4 in the notebook series.*\n",
        "\n",
        "Other notebooks in this series:\n",
        "1. [Digital Representation of Molecules](https://colab.research.google.com/github/MolSSI-Education/iqb-2025/blob/main/01_Cheminfo_crash_course.ipynb)\n",
        "2. [Exploring Chemical and Biological Data with BindingDB and the RDKit](https://colab.research.google.com/github/MolSSI-Education/iqb-2025/blob/main/02_Cheminfo_crash_course.ipynb)\n",
        "3. [Preparing Structures for Docking](https://colab.research.google.com/github/MolSSI-Education/iqb-2025/blob/main/03_Cheminfo_crash_course.ipynb)\n",
        "4. **Molecular Docking using gnina** (this notebook)\n",
        "\n",
        "In this notebook, we will perform molecular docking of our original bound ligand along with the ligands we prepared in the last notebook.\n",
        "Molecular docking is a computational method that predicts the preferred orientation of one molecule (the ligand) when bound to another molecule (the receptor, often a protein).\n",
        "\n",
        "For docking, we will use a program called [gnina](https://github.com/gnina/gnina). gnina is pronounced `nee-na` (silent g) and is a fork of a software program called smina, which is itself a fork of Autodock Vina.\n",
        "For those unfamiliar with software development lingo, a \"fork\" is a copy of a project. Forks may be modified and diverge from the original project.\n",
        "Autodock Vina is the program we used for docking in last year's PDB Crash Course.\n",
        "\n",
        "smina was created from AutoDock Vina in order to allow easier set up of docking calculations as well as to allow more customization of the scoring function. smina allows you to set the binding site automatically based on distance from a ligand as well as to define your own scoring functions. gnina builds on that by adding rescoring with convoluational neural networks to improve pose prediction. In this notebook, we will use gnina.\n",
        "\n",
        "If you find gnina useful and use it in your own research, please be sure to cite the appropriate papers:\n",
        "\n",
        "Citation\n",
        "========\n",
        "\n",
        "**GNINA 1.0: Molecular docking with deep learning** (Primary application citation)  \n",
        "A McNutt, P Francoeur, R Aggarwal, T Masuda, R Meli, M Ragoza, J Sunseri, DR Koes. *J. Cheminformatics*, 2021  \n",
        "[link](https://jcheminf.biomedcentral.com/articles/10.1186/s13321-021-00522-2) [PubMed](https://www.ncbi.nlm.nih.gov/pmc/articles/PMC8191141/) [ChemRxiv](https://chemrxiv.org/articles/preprint/GNINA_1_0_Molecular_Docking_with_Deep_Learning/13578140)\n",
        "\n",
        "**Protein–Ligand Scoring with Convolutional Neural Networks**  (Primary methods citation)  \n",
        "M Ragoza, J Hochuli, E Idrobo, J Sunseri, DR Koes. *J. Chem. Inf. Model*, 2017  \n",
        "[link](http://pubs.acs.org/doi/full/10.1021/acs.jcim.6b00740) [PubMed](https://www.ncbi.nlm.nih.gov/pmc/articles/PMC5479431/) [arXiv](https://arxiv.org/abs/1612.02751)  \n",
        "\n",
        "**Ligand pose optimization with atomic grid-based convolutional neural networks**  \n",
        "M Ragoza, L Turner, DR Koes. *Machine Learning for Molecules and Materials NIPS 2017 Workshop*, 2017  \n",
        "[arXiv](https://arxiv.org/abs/1710.07400)  \n",
        "\n",
        "**Visualizing convolutional neural network protein-ligand scoring**  \n",
        "J Hochuli, A Helbling, T Skaist, M Ragoza, DR Koes.  *Journal of Molecular Graphics and Modelling*, 2018  \n",
        "[link](https://www.sciencedirect.com/science/article/pii/S1093326318301670) [PubMed](https://www.ncbi.nlm.nih.gov/pmc/articles/PMC6343664/) [arXiv](https://arxiv.org/abs/1803.02398)\n",
        "\n",
        "**Convolutional neural network scoring and minimization in the D3R 2017 community challenge**  \n",
        "J Sunseri, JE King, PG Francoeur, DR Koes.  *Journal of computer-aided molecular design*, 2018  \n",
        "[link](https://link.springer.com/article/10.1007/s10822-018-0133-y) [PubMed](https://www.ncbi.nlm.nih.gov/pubmed/29992528)\n",
        "\n",
        "**Three-Dimensional Convolutional Neural Networks and a Cross-Docked Data Set for Structure-Based Drug Design**  \n",
        "PG Francoeur, T Masuda, J Sunseri, A Jia, RB Iovanisci, I Snyder, DR Koes. *J. Chem. Inf. Model*, 2020  \n",
        "[link](https://pubs.acs.org/doi/abs/10.1021/acs.jcim.0c00411) [PubMed](https://pubmed.ncbi.nlm.nih.gov/32865404/) [Chemrxiv](https://chemrxiv.org/articles/preprint/3D_Convolutional_Neural_Networks_and_a_CrossDocked_Dataset_for_Structure-Based_Drug_Design/11833323/1)\n",
        "\n",
        "**Virtual Screening with Gnina 1.0**\n",
        "J Sunseri, DR Koes D. *Molecules*, 2021\n",
        "[link](https://www.mdpi.com/1420-3049/26/23/7369) [Preprints](https://www.preprints.org/manuscript/202111.0329/v1)"
      ]
    },
    {
      "cell_type": "code",
      "execution_count": null,
      "metadata": {
        "cellView": "form",
        "colab": {
          "base_uri": "https://localhost:8080/",
          "height": 490
        },
        "id": "BcDfbcA5seGI",
        "outputId": "1b8a4a16-cf6d-4f8d-82c3-aaa6d7480775"
      },
      "outputs": [
        {
          "data": {
            "text/html": [
              "<style>\n",
              "div.alert {\n",
              "    color: #0056b3;\n",
              "    background-color: #d9edf7;\n",
              "    border-left: 5px solid #31708f;\n",
              "    padding: 0.5em;\n",
              "    font-size: 1.25em;\n",
              "    line-height: 1.5;\n",
              "}\n",
              "div.alert ul {\n",
              "    margin: 0.5em 0;\n",
              "}\n",
              "div.alert li {\n",
              "    margin-bottom: 0.5em;\n",
              "}\n",
              "</style>\n",
              "\n",
              "<div class=\"alert alert-block alert-info\">\n",
              "    <strong>Questions:</strong>\n",
              "    <ul>\n",
              "        <li>How can I perform molecular docking using the gnina software?</li>\n",
              "        <li>What is redocking and how do I perform it?</li>\n",
              "        <li>What is crossdocking and how do I perform it?</li>\n",
              "        <li>How are docking results evaluated using scores and Root Mean Square Deviation (RMSD)?</li>\n",
              "        <li>How do `gnina`'s CNN scores differ from traditional Vina scores in practice?</li>\n",
              "        <li>How can I dock multiple ligands with gnina?</li>\n",
              "        <li>How can docking results for multiple compounds be compared?</li>\n",
              "    </ul>\n",
              "\n",
              "    <strong>Objectives:</strong>\n",
              "    <ul>\n",
              "        <li>Use `gnina` to perform molecular docking for single and multiple ligands.</li>\n",
              "        <li>Visualize docked poses within the protein binding site.</li>\n",
              "        <li>Calculate RMSD to evaluate redocking and cross docking accuracy.</li>\n",
              "        <li>Interpret the different scoring outputs from `gnina`.</li>\n",
              "    </ul>\n",
              "</div>\n"
            ],
            "text/plain": [
              "<IPython.core.display.HTML object>"
            ]
          },
          "metadata": {},
          "output_type": "display_data"
        }
      ],
      "source": [
        "# @title Overview\n",
        "%%html\n",
        "<style>\n",
        "div.alert {\n",
        "    color: #0056b3;\n",
        "    background-color: #d9edf7;\n",
        "    border-left: 5px solid #31708f;\n",
        "    padding: 0.5em;\n",
        "    font-size: 1.25em;\n",
        "    line-height: 1.5;\n",
        "}\n",
        "div.alert ul {\n",
        "    margin: 0.5em 0;\n",
        "}\n",
        "div.alert li {\n",
        "    margin-bottom: 0.5em;\n",
        "}\n",
        "</style>\n",
        "\n",
        "<div class=\"alert alert-block alert-info\">\n",
        "    <strong>Questions:</strong>\n",
        "    <ul>\n",
        "        <li>How can I perform molecular docking using the gnina software?</li>\n",
        "        <li>What is redocking and how do I perform it?</li>\n",
        "        <li>What is crossdocking and how do I perform it?</li>\n",
        "        <li>How are docking results evaluated using scores and Root Mean Square Deviation (RMSD)?</li>\n",
        "        <li>How do `gnina`'s CNN scores differ from traditional Vina scores in practice?</li>\n",
        "        <li>How can I dock multiple ligands with gnina?</li>\n",
        "        <li>How can docking results for multiple compounds be compared?</li>\n",
        "    </ul>\n",
        "\n",
        "    <strong>Objectives:</strong>\n",
        "    <ul>\n",
        "        <li>Use `gnina` to perform molecular docking for single and multiple ligands.</li>\n",
        "        <li>Visualize docked poses within the protein binding site.</li>\n",
        "        <li>Calculate RMSD to evaluate redocking and cross docking accuracy.</li>\n",
        "        <li>Interpret the different scoring outputs from `gnina`.</li>\n",
        "    </ul>\n",
        "</div>"
      ]
    },
    {
      "cell_type": "markdown",
      "metadata": {
        "id": "AsAJ6XjquK-X"
      },
      "source": [
        "## Set Up\n",
        "The cells in this section set up the software and files we will need for our calculations.\n",
        "\n"
      ]
    },
    {
      "cell_type": "markdown",
      "metadata": {
        "id": "Km6XsVhTSlxW"
      },
      "source": [
        "\n",
        "### Install Python Packages  \n",
        "1. `useful_rdkit_utils` is a Python package written and maintained by Pat Walters that contains useful RDKit functions. We will use it for the functions `mcs_rmsd` (explained later).\n",
        "2. `py3Dmol` is used for molecular visualization.\n",
        "3. The RDKit is a popular cheminiformatics package we will use for processing molecules.\n"
      ]
    },
    {
      "cell_type": "code",
      "execution_count": null,
      "metadata": {
        "id": "Bf5bjLD0uLfv"
      },
      "outputs": [],
      "source": [
        "%%capture\n",
        "!pip install useful_rdkit_utils py3Dmol rdkit\n",
        "!apt install openbabel"
      ]
    },
    {
      "cell_type": "markdown",
      "metadata": {
        "id": "SdpafOZWSeXd"
      },
      "source": [
        "### Download gnina\n",
        "\n",
        "We are downloading the pre-compiled binary of gnina. You may also compile gnina yourself by following the directions on the [gnina GitHub repository](https://github.com/gnina/gnina)."
      ]
    },
    {
      "cell_type": "code",
      "execution_count": null,
      "metadata": {
        "id": "WnjkCEiA08o_"
      },
      "outputs": [],
      "source": [
        "# Download gnina\n",
        "!wget https://github.com/gnina/gnina/releases/download/v1.3/gnina.fix"
      ]
    },
    {
      "cell_type": "code",
      "execution_count": null,
      "metadata": {
        "id": "Tir5QGznJ-iA"
      },
      "outputs": [],
      "source": [
        "# Make gnina executable\n",
        "!mv gnina.fix gnina\n",
        "!chmod +x gnina"
      ]
    },
    {
      "cell_type": "markdown",
      "metadata": {
        "id": "8XkECD7sSTGH"
      },
      "source": [
        "### Get Lesson Files\n",
        "\n",
        "We have stored the files created in the last notebook as a zip file and stored it on GitHub. This cell downloads that file as well as `util.py` which contains a custom utility function for visualizing our ligand and protein.\n",
        "\n"
      ]
    },
    {
      "cell_type": "code",
      "execution_count": null,
      "metadata": {
        "id": "vbznC0r_4IdM"
      },
      "outputs": [],
      "source": [
        "%%capture\n",
        "!wget https://github.com/MolSSI-Education/iqb-2025/raw/refs/heads/main/data/docking_files.zip\n",
        "!wget https://raw.githubusercontent.com/MolSSI-Education/iqb-2025/refs/heads/main/util.py"
      ]
    },
    {
      "cell_type": "code",
      "execution_count": null,
      "metadata": {
        "id": "bzzSgnUr4Z5d"
      },
      "outputs": [],
      "source": [
        "!unzip docking_files.zip"
      ]
    },
    {
      "cell_type": "markdown",
      "metadata": {
        "id": "YJ8KQSrcY0nd"
      },
      "source": [
        "## Docking with gnina\n",
        "\n",
        "Molecular Docking involves involves two main stages:\n",
        "\n",
        "1. Sampling: The algorithm explores many possible positions and orientations (or \"poses\") of the ligand within the receptor's active site. In AutoDock Vina, smina, and gnina, conformations are generated using Monte Carlo Sampling.\n",
        "2. Scoring: Each generated pose is evaluated using a scoring function which estimates the binding affinity. Poses are then ranked on these scores. For Vina scores, lower energy scores indicating more favorable interactions.\n",
        "\n",
        "In addition to the traditional scoring functions avaiable in Vina and smina, gnina adds convolutional neural networks (CNNs) to scoring.  These deep learning models analyze a 3D grid representation of the protein-ligand complex, essentially evaluating a \"picture\" of the interaction based on atomic densities.\n",
        "\n",
        "By default, gnina uses results from the CNN for **rescoring**, meaning that poses are initially sampled and scored with the traditional Vina scoring function but re-ranked after sampling using CNN models. You can, however, choose to use the CNN for all scoring, refinement, or not at all (using CNN scoring for refinement or all scoring is more computationally intensive).\n",
        "\n",
        "For more details see the paper on [gnina v1.0](https://jcheminf.biomedcentral.com/articles/10.1186/s13321-021-00522-2) and [gnina v1.3](https://jcheminf.biomedcentral.com/articles/10.1186/s13321-025-00973-x)."
      ]
    },
    {
      "cell_type": "markdown",
      "metadata": {
        "id": "WYzeWNO5uHxL"
      },
      "source": [
        "## Redocking the Ligand\n",
        "\n",
        "Redocking (also called \"cognate docking\") involves redocking a ligand back into the receptor structure from which the bound pose was experimentally determined.\n",
        "Redocking is typically done to evaluate how well a docking program's sampling algorithm and scoring function and reproduce a known experimental binding pose.\n",
        "\n",
        "We will begin our docking journey with gnina by performing a redock of our ligand."
      ]
    },
    {
      "cell_type": "code",
      "execution_count": null,
      "metadata": {
        "id": "nDaEbegLZVzr"
      },
      "outputs": [],
      "source": [
        "from util import visualize_poses\n",
        "\n",
        "v = visualize_poses(\n",
        "    \"docking_files/protein_structures/7LME_fixed.pdb\",\n",
        "    \"docking_files/ligand_structures/Y6J_corrected_pose.sdf\",\n",
        ")\n",
        "v.show()"
      ]
    },
    {
      "cell_type": "markdown",
      "metadata": {
        "id": "gyJOkQp0ZW2Y"
      },
      "source": [
        "You may execute the cell below, and read the following explanation on the input parameters for gnina. gnina works through the command line, so we cannot use in-line comments.\n",
        "\n",
        "```\n",
        "./gnina \\\n",
        "  # Specify the receptor structure file (-r).\n",
        "  # This file (7LME.pdbqt) should be prepared for docking (e.g., with hydrogens added).\n",
        "  -r docking_files/7LME_all_atom.pdbqt \\\n",
        "  # Specify the ligand structure file (-l) to be docked.\n",
        "  # This file (Y6J_ideal.pdbqt) contains the 3D coordinates of the ligand.\n",
        "  -l docking_files/Y6J_ideal.pdbqt \\\n",
        "  # Define the docking search box automatically (--autobox_ligand).\n",
        "  # The box will be centered around the coordinates of the ligand in the specified file\n",
        "  # (Y6J_corrected_pose.sdf), which is the known experimental pose in this redocking example.\n",
        "  # An optional padding (default 4Å) is added.\n",
        "  --autobox_ligand docking_files/Y6J_corrected_pose.sdf \\\n",
        "  # Specify the output file path (-o) where the resulting docked poses will be saved.\n",
        "  # The output format will be SDF, containing multiple poses ranked by score.\n",
        "  -o docking_results/Y6J_docked_e12.sdf \\\n",
        "  # Set the random number generator seed (--seed) to 0.\n",
        "  # Using a fixed seed makes the docking calculation reproducible.\n",
        "  --seed 0 \\\n",
        "  # Set the exhaustiveness level (--exhaustiveness) to 12.\n",
        "  # This controls the number of Monte Carlo chains for the ligand.\n",
        "  # The default is 8\n",
        "  --exhaustiveness 16\n",
        "  ```\n",
        "\n",
        "  Execute the next cell to run gnina.\n"
      ]
    },
    {
      "cell_type": "code",
      "execution_count": null,
      "metadata": {
        "cellView": "form",
        "colab": {
          "base_uri": "https://localhost:8080/",
          "height": 273
        },
        "id": "7cAKRSGwYxo6",
        "outputId": "79380cef-982a-411f-fad2-9a0964cc4b4f"
      },
      "outputs": [
        {
          "data": {
            "text/html": [
              "<style>\n",
              "div.purple-box {\n",
              "    color: #4b0082; /* Indigo for text */\n",
              "    background-color: #f3e5f5; /* Light lavender background */\n",
              "    border-left: 5px solid #7b1fa2; /* Medium purple border */\n",
              "    padding: 0.5em;\n",
              "    font-size: 1.25em; /* Matches the surrounding text size */\n",
              "    line-height: 1.5; /* Ensures readability */\n",
              "    font-family: Arial, sans-serif; /* Clean, modern font */\n",
              "}\n",
              "div.purple-box ul {\n",
              "    margin: 0.5em 0; /* Space around the list */\n",
              "}\n",
              "div.purple-box li {\n",
              "    margin-bottom: 0.5em; /* Space between list items */\n",
              "}\n",
              "</style>\n",
              "<div class=\"purple-box\">\n",
              "   <p> Execute the next cell below to start running\n",
              "your docking calculation. Then, come back and try these navigation tips for Py3DMol.</p>\n",
              "    <strong>Py3DMol Visualization Navigation:</strong>\n",
              "    <table border=\"1\" style=\"border-collapse: collapse; width: 100%;\">\n",
              "  <thead>\n",
              "    <tr>\n",
              "      <th>Movement</th>\n",
              "      <th>Mouse Input</th>\n",
              "      <th>Touch Input</th>\n",
              "    </tr>\n",
              "  </thead>\n",
              "  <tbody>\n",
              "    <tr>\n",
              "      <td>Rotation</td>\n",
              "      <td>Primary Mouse Button</td>\n",
              "      <td>Single touch</td>\n",
              "    </tr>\n",
              "    <tr>\n",
              "      <td>Translation</td>\n",
              "      <td>Middle Mouse Button or Ctrl+Primary</td>\n",
              "      <td>Triple touch</td>\n",
              "    </tr>\n",
              "    <tr>\n",
              "      <td>Zoom</td>\n",
              "      <td>Scroll Wheel or Second Mouse Button or Shift+Primary</td>\n",
              "      <td>Pinch (double touch)</td>\n",
              "    </tr>\n",
              "    <tr>\n",
              "      <td>Slab</td>\n",
              "      <td>Ctrl+Second</td>\n",
              "      <td>Not Available</td>\n",
              "    </tr>\n",
              "  </tbody>\n",
              "</table>\n",
              "</div>\n"
            ],
            "text/plain": [
              "<IPython.core.display.HTML object>"
            ]
          },
          "metadata": {},
          "output_type": "display_data"
        }
      ],
      "source": [
        "# @title While you Wait: Navigating py3DMol visualizations\n",
        "%%html\n",
        "<style>\n",
        "div.purple-box {\n",
        "    color: #4b0082; /* Indigo for text */\n",
        "    background-color: #f3e5f5; /* Light lavender background */\n",
        "    border-left: 5px solid #7b1fa2; /* Medium purple border */\n",
        "    padding: 0.5em;\n",
        "    font-size: 1.25em; /* Matches the surrounding text size */\n",
        "    line-height: 1.5; /* Ensures readability */\n",
        "    font-family: Arial, sans-serif; /* Clean, modern font */\n",
        "}\n",
        "div.purple-box ul {\n",
        "    margin: 0.5em 0; /* Space around the list */\n",
        "}\n",
        "div.purple-box li {\n",
        "    margin-bottom: 0.5em; /* Space between list items */\n",
        "}\n",
        "</style>\n",
        "<div class=\"purple-box\">\n",
        "   <p> Execute the next cell below to start running\n",
        "your docking calculation. Then, come back and try these navigation tips for Py3DMol.</p>\n",
        "    <strong>Py3DMol Visualization Navigation:</strong>\n",
        "    <table border=\"1\" style=\"border-collapse: collapse; width: 100%;\">\n",
        "  <thead>\n",
        "    <tr>\n",
        "      <th>Movement</th>\n",
        "      <th>Mouse Input</th>\n",
        "      <th>Touch Input</th>\n",
        "    </tr>\n",
        "  </thead>\n",
        "  <tbody>\n",
        "    <tr>\n",
        "      <td>Rotation</td>\n",
        "      <td>Primary Mouse Button</td>\n",
        "      <td>Single touch</td>\n",
        "    </tr>\n",
        "    <tr>\n",
        "      <td>Translation</td>\n",
        "      <td>Middle Mouse Button or Ctrl+Primary</td>\n",
        "      <td>Triple touch</td>\n",
        "    </tr>\n",
        "    <tr>\n",
        "      <td>Zoom</td>\n",
        "      <td>Scroll Wheel or Second Mouse Button or Shift+Primary</td>\n",
        "      <td>Pinch (double touch)</td>\n",
        "    </tr>\n",
        "    <tr>\n",
        "      <td>Slab</td>\n",
        "      <td>Ctrl+Second</td>\n",
        "      <td>Not Available</td>\n",
        "    </tr>\n",
        "  </tbody>\n",
        "</table>\n",
        "</div>"
      ]
    },
    {
      "cell_type": "code",
      "execution_count": null,
      "metadata": {
        "id": "Fw7fjHKQshRM"
      },
      "outputs": [],
      "source": [
        "# make a folder for our results\n",
        "!mkdir -p docking_results\n",
        "\n",
        "# use gnina\n",
        "!./gnina \\\n",
        "  -r docking_files/protein_structures/7LME.pdbqt \\\n",
        "  -l docking_files/ligand_structures/Y6J_ideal.sdf \\\n",
        "  --autobox_ligand docking_files/ligand_structures/Y6J_corrected_pose.sdf \\\n",
        "  -o docking_results/Y6J_docked_7LME.sdf \\\n",
        "  --seed 0 \\\n",
        "  --exhaustiveness 16"
      ]
    },
    {
      "cell_type": "markdown",
      "metadata": {
        "id": "V9rQtIt1BAbi"
      },
      "source": [
        "### Interpreting the output\n",
        "\n",
        "When `gnina` finishes a docking run, it prints a summary table for the generated poses. This table is sorted by pose rank, with the poses `gnina` determined to be the best at the top.\n",
        "\n",
        "The columns are the following:\n",
        "\n",
        "* `mode`: pose rank\n",
        "* `affinity (kcal/mol)`: the Vina score\n",
        "* `intra (kcal/mol)`: the ligand's internal strain energy according to the Vina function\n",
        "* `CNN pose score`: the score from the convolutional neural network predicting pose quality, where higher values closer to 1 indicate higher confidence in the pose's geometric accuracy and are used for ranking.\n",
        "* `CNN affinity`: The CNN's prediction of binding affinity, expressed in pK units (higher values mean stronger binding, e.g., a predicted score of 9 corresponds to nanomolar (nM) affinity).\n",
        "\n",
        "Looking at tscores for the redocked Y6J ligand, the table shows the poses ranked by `CNN pose score` (higher is better), with `mode 1` scoring highest (approx. 0.81). Notably, this differs from the ranking by the Vina `affinity` score (lower is better), where `mode 3` is most favorable (-7.51 kcal/mol) but has a much lower `CNN pose score` (approx. 0.49).\n"
      ]
    },
    {
      "cell_type": "markdown",
      "metadata": {
        "id": "WY5_D7aD_KyU"
      },
      "source": [
        "### Visualizing the Docked Structures\n",
        "\n",
        "In the cell below, we use a function called `visualize_docked_structures`, a custom function defined for this workshop that we obtained above when we retreived `util.py`.\n",
        "This function allows us to view our generated docked structures along with ligand it its original experimentally determined position."
      ]
    },
    {
      "cell_type": "code",
      "execution_count": null,
      "metadata": {
        "id": "NMR8YzT_47me"
      },
      "outputs": [],
      "source": [
        "v = visualize_poses(\n",
        "    \"docking_files/protein_structures/7LME_fixed.pdb\",\n",
        "    \"docking_results/Y6J_docked_7LME.sdf\",\n",
        "    cognate_file=\"docking_files/ligand_structures/Y6J_corrected_pose.sdf\",\n",
        "    animate=False,\n",
        ")  # Change to True to see an animation of all of the poses\n",
        "v.show()"
      ]
    },
    {
      "cell_type": "markdown",
      "metadata": {
        "id": "Ky5T3UaU1lDP"
      },
      "source": [
        "### Measuring Root-Mean-Square-Deviation (RMSD)\n",
        "\n",
        "After generating docked poses, we next need to quantitatively evaluate how close the known reference structure.\n",
        "The standard metric used for this comparison is the **Root Mean Square Deviation (RMSD)**.\n",
        "RMSD measures the average distance between corresponding atoms of two molecular structures.\n",
        "A lower RMSD value indicates greater similarity between the docked pose and the reference structure.\n",
        "Mathematically, it's calculated as:\n",
        "\n",
        "$$\n",
        "RMSD = \\sqrt[2]{\\frac{1}{N} \\sum_{i=1}^{N} \\delta_i^2}\n",
        "$$\n",
        "\n",
        "\n",
        "\n",
        "where $N$ is the number of corresponding atom pairs being compared, and $\\delta_i$ is the Euclidean distance between the $i$-th pair of atoms\n",
        "In docking studies, a common threshold for considering a docked pose \"successful\" or accurate is an RMSD below 2 Angstroms compared to the crystal structure.\n",
        "\n",
        "In this notebook, we will use the `mcs_rmsd` function from the `useful_rdkit_utils` package, written by Pat Walters (a co-instructor of this workshop!).\n",
        "This function calculates the RMSD, but with a useful modification: it first identifies the **Maximum Common Substructure (MCS)** between the two input molecules using RDKit's `FindMCS` functionality.\n",
        "It then calculates the RMSD using only the corresponding atoms belonging to this shared substructure.\n",
        "This approach is particularly valuable when comparing molecules that are similar but not identical, as it focuses the RMSD calculation on the parts of the molecules that match.\n",
        "While for redocking the original ligand the MCS will typically be the entire molecule, this function can be used later when we compare the poses of different (but similar) docked ligands to the original crystal ligand.\n",
        "\n"
      ]
    },
    {
      "cell_type": "code",
      "execution_count": null,
      "metadata": {
        "id": "EcrJ1i77uQO2"
      },
      "outputs": [],
      "source": [
        "import useful_rdkit_utils as uru\n",
        "from rdkit import Chem\n",
        "\n",
        "cognate = Chem.MolFromMolFile(\"docking_files/ligand_structures/Y6J_corrected_pose.sdf\")\n",
        "poses = Chem.SDMolSupplier(\"docking_results/Y6J_docked_7LME.sdf\")\n",
        "\n",
        "for i, pose in enumerate(poses):\n",
        "    n_match, rmsd = uru.mcs_rmsd(cognate, pose)\n",
        "    print(f\"{n_match}\\t{rmsd:.2f}\")"
      ]
    },
    {
      "cell_type": "code",
      "execution_count": null,
      "metadata": {
        "cellView": "form",
        "colab": {
          "base_uri": "https://localhost:8080/",
          "height": 152
        },
        "id": "9IKXZt1GJD59",
        "outputId": "b0fa9f6e-96fb-47bb-e031-35fc6389fd84"
      },
      "outputs": [
        {
          "data": {
            "text/html": [
              "<style>\n",
              "div.orange-alert {\n",
              "    color: #854f00; /* Darker shade of orange for text */\n",
              "    background-color: #ffe6cc; /* Light orange background */\n",
              "    border-left: 5px solid #ff9933; /* Bright orange border */\n",
              "    padding: 0.5em;\n",
              "    font-size: 1.25em; /* Matches the surrounding text size */\n",
              "    line-height: 1.5; /* Ensures readability */\n",
              "}\n",
              "div.orange-alert ul {\n",
              "    margin: 0.5em 0; /* Space around the list */\n",
              "}\n",
              "div.orange-alert li {\n",
              "    margin-bottom: 0.5em; /* Space between list items */\n",
              "}\n",
              "</style>\n",
              "\n",
              "<div class=\"orange-alert\">\n",
              "\n",
              "<strong>How is docking without the CNN rescoring?</strong>\n",
              "\n",
              "<p>You can turn off CNN rescoring with gnina by adding <code>--cnn_scoring none</code> to\n",
              "  your gnina command. Try doing this - make sure to save your results in a new file.\n",
              "\n",
              "  How does it affect redocking, particularly the measured RMSD score of the docked structures?\n",
              "\n",
              "</div>\n"
            ],
            "text/plain": [
              "<IPython.core.display.HTML object>"
            ]
          },
          "metadata": {},
          "output_type": "display_data"
        }
      ],
      "source": [
        "# @title Exercise\n",
        "%%html\n",
        "<style>\n",
        "div.orange-alert {\n",
        "    color: #854f00; /* Darker shade of orange for text */\n",
        "    background-color: #ffe6cc; /* Light orange background */\n",
        "    border-left: 5px solid #ff9933; /* Bright orange border */\n",
        "    padding: 0.5em;\n",
        "    font-size: 1.25em; /* Matches the surrounding text size */\n",
        "    line-height: 1.5; /* Ensures readability */\n",
        "}\n",
        "div.orange-alert ul {\n",
        "    margin: 0.5em 0; /* Space around the list */\n",
        "}\n",
        "div.orange-alert li {\n",
        "    margin-bottom: 0.5em; /* Space between list items */\n",
        "}\n",
        "</style>\n",
        "\n",
        "<div class=\"orange-alert\">\n",
        "\n",
        "<strong>How is docking without the CNN rescoring?</strong>\n",
        "\n",
        "<p>You can turn off CNN rescoring with gnina by adding <code>--cnn_scoring none</code> to\n",
        "  your gnina command. Try doing this - make sure to save your results in a new file.\n",
        "\n",
        "  How does it affect redocking, particularly the measured RMSD score of the docked structures?\n",
        "\n",
        "</div>"
      ]
    },
    {
      "cell_type": "code",
      "execution_count": null,
      "metadata": {
        "id": "ha9UX8Y4nI03"
      },
      "outputs": [],
      "source": []
    },
    {
      "cell_type": "code",
      "execution_count": null,
      "metadata": {
        "id": "01yc6AghnOev"
      },
      "outputs": [],
      "source": []
    },
    {
      "cell_type": "markdown",
      "metadata": {
        "id": "0UCtKY_MeMwM"
      },
      "source": [
        "## Cross Docking the Ligand\n",
        "\n",
        "We've seen that gnina does a great job fitting the ligand back into its original structure. However, this is an \"easier\" problem than docking a ligand into an unknown structure. When we redock, the binding cavity for the ligand will be perfectly fit for the ligand we are testing.\n",
        "\n",
        "When performing cross-docking, you dock the ligand into the structure, but with a different version of the protein structure (a main protease structure from a different PDB ID with a different ligand bound, or with no ligand). If our docking is working well, we should get the same structure for the ligand regardless of the PDB ID we are docking to.\n"
      ]
    },
    {
      "cell_type": "code",
      "execution_count": null,
      "metadata": {
        "cellView": "form",
        "colab": {
          "base_uri": "https://localhost:8080/",
          "height": 315
        },
        "id": "GsGJWgeFJ1Do",
        "outputId": "3ea4c37f-8872-4df8-df5e-d5d4f11addc8"
      },
      "outputs": [
        {
          "data": {
            "text/html": [
              "<style>\n",
              "div.purple-box {\n",
              "    color: #4b0082; /* Indigo for text */\n",
              "    background-color: #f3e5f5; /* Light lavender background */\n",
              "    border-left: 5px solid #7b1fa2; /* Medium purple border */\n",
              "    padding: 0.5em;\n",
              "    font-size: 1.25em; /* Matches the surrounding text size */\n",
              "    line-height: 1.5; /* Ensures readability */\n",
              "    font-family: Arial, sans-serif; /* Clean, modern font */\n",
              "}\n",
              "div.purple-box ul {\n",
              "    margin: 0.5em 0; /* Space around the list */\n",
              "}\n",
              "div.purple-box li {\n",
              "    margin-bottom: 0.5em; /* Space between list items */\n",
              "}\n",
              "</style>\n",
              "\n",
              "<div class=\"purple-box\">\n",
              "    <strong>Cross Docking Structure Prep:</strong>\n",
              "    <p>\n",
              "        If you want to perform cross-docking and measure the RMSD of the docked ligands, you will need your two protein structures to be aligned.\n",
              "        Although two PDB IDs may have the same protein, they may differ in the translation and orientation of the protein.\n",
              "        If you do not align the structures, the RMSD you measure will primarily be from the translation and rotation of the structure and will not give you an idea of how close the fit is.\n",
              "    </p>\n",
              "\n",
              "    <p>We are going to cross dock with structure <strong>7L11</strong>.\n",
              "    To prep this file, we loaded into VMD and aligned the protein backbone with the protein backbone of 7LME using\n",
              "    VMD's Calculate RMSD Tool (use \"Align\" to align your structures!). We have not included this prep in the workshop\n",
              "    </p>\n",
              "    <pre>\n",
              "    </pre>\n",
              "</div>\n"
            ],
            "text/plain": [
              "<IPython.core.display.HTML object>"
            ]
          },
          "metadata": {},
          "output_type": "display_data"
        }
      ],
      "source": [
        "# @title Cross Docking Structure Prep\n",
        "%%html\n",
        "<style>\n",
        "div.purple-box {\n",
        "    color: #4b0082; /* Indigo for text */\n",
        "    background-color: #f3e5f5; /* Light lavender background */\n",
        "    border-left: 5px solid #7b1fa2; /* Medium purple border */\n",
        "    padding: 0.5em;\n",
        "    font-size: 1.25em; /* Matches the surrounding text size */\n",
        "    line-height: 1.5; /* Ensures readability */\n",
        "    font-family: Arial, sans-serif; /* Clean, modern font */\n",
        "}\n",
        "div.purple-box ul {\n",
        "    margin: 0.5em 0; /* Space around the list */\n",
        "}\n",
        "div.purple-box li {\n",
        "    margin-bottom: 0.5em; /* Space between list items */\n",
        "}\n",
        "</style>\n",
        "\n",
        "<div class=\"purple-box\">\n",
        "    <strong>Cross Docking Structure Prep:</strong>\n",
        "    <p>\n",
        "        If you want to perform cross-docking and measure the RMSD of the docked ligands, you will need your two protein structures to be aligned.\n",
        "        Although two PDB IDs may have the same protein, they may differ in the translation and orientation of the protein.\n",
        "        If you do not align the structures, the RMSD you measure will primarily be from the translation and rotation of the structure and will not give you an idea of how close the fit is.\n",
        "    </p>\n",
        "\n",
        "    <p>We are going to cross dock with structure <strong>7L11</strong>.\n",
        "    To prep this file, we loaded into VMD and aligned the protein backbone with the protein backbone of 7LME using\n",
        "    VMD's Calculate RMSD Tool (use \"Align\" to align your structures!). We have not included this prep in the workshop\n",
        "    </p>\n",
        "    <pre>\n",
        "    </pre>\n",
        "</div>"
      ]
    },
    {
      "cell_type": "code",
      "execution_count": null,
      "metadata": {
        "id": "glGrshWkKuai"
      },
      "outputs": [],
      "source": [
        "v = visualize_poses(\n",
        "    \"docking_files/protein_structures/7LME_fixed.pdb\",\n",
        "    \"docking_files/ligand_structures/Y6J_corrected_pose.sdf\",\n",
        "    cognate_file=\"docking_files/ligand_structures/XF1_corrected_pose.sdf\",\n",
        "    animate=False,\n",
        ")  # Change to True to see an animation of all of the poses\n",
        "v.show()"
      ]
    },
    {
      "cell_type": "code",
      "execution_count": null,
      "metadata": {
        "id": "pWZCFCLozV8M"
      },
      "outputs": [],
      "source": [
        "# use gnina\n",
        "!./gnina \\\n",
        "  -r docking_files/protein_structures/7L11.pdbqt \\\n",
        "  -l docking_files/ligand_structures/Y6J_ideal.sdf \\\n",
        "  --autobox_ligand docking_files/ligand_structures/XF1_corrected_pose.sdf \\\n",
        "  -o docking_results/Y6J_docked_7L11.sdf \\\n",
        "  --seed 0 \\\n",
        "  --exhaustiveness 16"
      ]
    },
    {
      "cell_type": "code",
      "execution_count": null,
      "metadata": {
        "id": "guj5TXQE0nKg"
      },
      "outputs": [],
      "source": [
        "cognate = Chem.MolFromMolFile(\"docking_files/ligand_structures/Y6J_corrected_pose.sdf\")\n",
        "poses = Chem.SDMolSupplier(\"docking_results/Y6J_docked_7L11.sdf\")\n",
        "\n",
        "for i, pose in enumerate(poses):\n",
        "    n_match, rmsd = uru.mcs_rmsd(cognate, pose)\n",
        "    print(f\"{n_match}\\t{rmsd:.2f}\")"
      ]
    },
    {
      "cell_type": "markdown",
      "metadata": {
        "id": "seIdOWw3Lpim"
      },
      "source": [
        "Our crossdocking scores show very good agreement with our native structure and with redocking."
      ]
    },
    {
      "cell_type": "code",
      "execution_count": null,
      "metadata": {
        "id": "-MQcT2ZIOoI_"
      },
      "outputs": [],
      "source": [
        "v = visualize_poses(\n",
        "    \"docking_files/protein_structures/7LME_fixed.pdb\",\n",
        "    \"docking_results/Y6J_docked_7L11.sdf\",\n",
        "    cognate_file=\"docking_files/ligand_structures/Y6J_corrected_pose.sdf\",\n",
        "    animate=False,\n",
        ")  # Change to True to see an animation of all of the poses\n",
        "v.show()"
      ]
    },
    {
      "cell_type": "markdown",
      "metadata": {
        "id": "k1K70FlGuQaS"
      },
      "source": [
        "## Docking our Prepared Ligands\n",
        "\n",
        "In this section, we will dock the ligands we prepared in our previous notebook. Luckily, gnina allows docking of multiple ligands by providing an SDF with your ligands of choice."
      ]
    },
    {
      "cell_type": "markdown",
      "metadata": {
        "id": "oUkfIkFSltIC"
      },
      "source": [
        "We can run gnina for multiple ligands by providing this SDF with our ligands of interest to the `-l` argument.\n",
        "\n",
        "The command you can use to run gnina with multiple ligands is below:\n",
        "\n",
        "```\n",
        "!./gnina \\\n",
        "  -r docking_files/protein_structures/7LME.pdbqt \\\n",
        "  -l docking_files/ligand_structures/ligands_to_dock.sdf \\\n",
        "  --autobox_ligand docking_files/ligand_structures/Y6J_corrected_pose.sdf \\\n",
        "  -o docking_results/multiple_ligands_docked.sdf \\\n",
        "  --seed 0 \\\n",
        "  --exhaustiveness 16\n",
        "```\n",
        "\n",
        "In the interest of time for this tutorial, we will retrieve precomputed results from running this command. If you later return to this tutorial, feel free to run this calculation yourself by replacing the next cell with the command above!"
      ]
    },
    {
      "cell_type": "code",
      "execution_count": null,
      "metadata": {
        "collapsed": true,
        "id": "IL_DE5_AIXwT",
        "jupyter": {
          "outputs_hidden": true
        }
      },
      "outputs": [],
      "source": [
        "!wget https://github.com/MolSSI-Education/iqb-2025/raw/refs/heads/main/data/docking_results.zip\n",
        "!unzip -o docking_results.zip"
      ]
    },
    {
      "cell_type": "markdown",
      "metadata": {
        "id": "2WOYZBufEw2E"
      },
      "source": [
        "### Extracting the Scores\n",
        "\n",
        "gnina stores information docking poses and the score information in the SDF written for the dock.\n",
        "To analyze and compare the results from all our docking runs (the redocked `Y6J` and all the `Compound_*` ligands), we need to extract this scoring information from the SDF and put it into a structured table.\n",
        "\n",
        "We can use RDKit PandasTools to read the molecular structures (poses) and their associated properties (scores) from the output SDF. The SDF will contain multiple poses for the docked ligands, and each pose record has the calculated scores (like `minimizedAffinity`, `CNNscore`, `CNNaffinity`, `CNN_VS`, etc.) stored as data fields. The `CNN_VS` score is the product of `CNNscore` and `CNNaffinity`. We would typically want ligands that score highly for both (and thus have a high `CNN_VS` score."
      ]
    },
    {
      "cell_type": "code",
      "execution_count": null,
      "metadata": {
        "id": "rtHWd6JsDRFz"
      },
      "outputs": [],
      "source": [
        "# uncomment to see file\n",
        "#!cat docking_results/multiple_ligands_results.sdf"
      ]
    },
    {
      "cell_type": "code",
      "execution_count": null,
      "metadata": {
        "id": "LGaIIRBCAiX8"
      },
      "outputs": [],
      "source": [
        "from rdkit.Chem import PandasTools\n",
        "from rdkit.rdBase import BlockLogs\n",
        "import pandas as pd\n",
        "\n",
        "score_columns = [\n",
        "    \"minimizedAffinity\",\n",
        "    \"CNNscore\",\n",
        "    \"CNNaffinity\",\n",
        "    \"CNN_VS\",\n",
        "    \"CNNaffinity_variance\",\n",
        "]\n",
        "\n",
        "sdf_paths = [\n",
        "    \"docking_results/multiple_ligands_docked.sdf\",\n",
        "    \"docking_results/Y6J_docked_7LME.sdf\",\n",
        "]\n",
        "\n",
        "df_list = []\n",
        "for filename in sdf_paths:\n",
        "    with BlockLogs():\n",
        "        df_list.append(PandasTools.LoadSDF(filename))\n",
        "\n",
        "combo_df = pd.concat(df_list)\n",
        "\n",
        "# PandasTools reads all SDTags as strings, convert score columns to float\n",
        "for col in score_columns:\n",
        "    combo_df[col] = combo_df[col].astype(float)\n",
        "\n",
        "combo_df"
      ]
    },
    {
      "cell_type": "code",
      "execution_count": null,
      "metadata": {
        "id": "RXyqs_TK5eKH"
      },
      "outputs": [],
      "source": [
        "top_poses = combo_df.sort_values(\n",
        "    by=\"minimizedAffinity\", ascending=True\n",
        ").drop_duplicates(\"ID\")\n",
        "top_poses"
      ]
    },
    {
      "cell_type": "markdown",
      "metadata": {
        "id": "Mg1n66U3UUg3"
      },
      "source": [
        "Interestingly, the compounds sorted by `minimizedAffinity` (the Vina score) correlates well with the observed `IC50` value from our table."
      ]
    },
    {
      "cell_type": "code",
      "execution_count": null,
      "metadata": {
        "id": "t8Wxhbh2TqSn"
      },
      "outputs": [],
      "source": [
        "ligand_data = pd.read_csv(\n",
        "    \"https://raw.githubusercontent.com/MolSSI-Education/iqb-2025/refs/heads/main/data/US20240293380_examples.csv\"\n",
        ")\n",
        "ligand_data.sort_values(by=\"IC50 (nM)\")"
      ]
    },
    {
      "cell_type": "markdown",
      "metadata": {
        "id": "-O7sRVPTFOoT"
      },
      "source": [
        "We can also use our visualization function to visualize the docked ligands to look at how they interact with the binding site."
      ]
    },
    {
      "cell_type": "code",
      "execution_count": null,
      "metadata": {
        "id": "2xKRmAl7KZt2"
      },
      "outputs": [],
      "source": [
        "v = visualize_poses(\n",
        "    \"docking_files/protein_structures/7LME_fixed.pdb\",\n",
        "    \"docking_results/multiple_ligands_docked.sdf\",\n",
        "    cognate_file=\"docking_files/ligand_structures/Y6J_corrected_pose.sdf\",\n",
        "    animate=True,\n",
        ")  # Change to True to see an animation of all of the poses\n",
        "v.show()"
      ]
    },
    {
      "cell_type": "markdown",
      "metadata": {
        "id": "VhMEb6CibvOD"
      },
      "source": [
        "If we would like to visualize poses for only one molecule, we can use the RDKit's PandasTools again to write an SDF for just that compound."
      ]
    },
    {
      "cell_type": "code",
      "execution_count": null,
      "metadata": {
        "id": "IxhoYC2KMzwF"
      },
      "outputs": [],
      "source": [
        "compound_name = \"Compound_12_i0\"\n",
        "\n",
        "compound_df = combo_df[combo_df[\"ID\"] == compound_name]\n",
        "\n",
        "PandasTools.WriteSDF(\n",
        "    compound_df,\n",
        "    f\"docking_results/individual_{compound_name}.sdf\",  # Output file path\n",
        "    molColName=\"ROMol\",  # Name of the column with RDKit molecules\n",
        "    properties=score_columns,  # List of property columns to include\n",
        ")\n",
        "\n",
        "\n",
        "cognate = Chem.MolFromMolFile(\"docking_files/ligand_structures/Y6J_corrected_pose.sdf\")\n",
        "poses = Chem.SDMolSupplier(f\"docking_results/individual_{compound_name}.sdf\")\n",
        "\n",
        "for i, pose in enumerate(poses):\n",
        "    n_match, rmsd = uru.mcs_rmsd(cognate, pose)\n",
        "    print(f\"{n_match}\\t{rmsd:.2f}\")"
      ]
    },
    {
      "cell_type": "code",
      "execution_count": null,
      "metadata": {
        "id": "r9ThxHGXZxPa"
      },
      "outputs": [],
      "source": [
        "v = visualize_poses(\n",
        "    \"docking_files/protein_structures/7LME_fixed.pdb\",\n",
        "    f\"docking_results/individual_{compound_name}.sdf\",\n",
        "    cognate_file=f\"docking_results/individual_{compound_name}.sdf\",\n",
        "    animate=False,\n",
        ")  # Change to True to see an animation of all of the poses\n",
        "v.show()"
      ]
    },
    {
      "cell_type": "code",
      "execution_count": null,
      "metadata": {
        "cellView": "form",
        "colab": {
          "base_uri": "https://localhost:8080/",
          "height": 402
        },
        "id": "uRm7Jby4V6Pq",
        "outputId": "7b34345e-d644-4ac5-b2f9-713d93383633"
      },
      "outputs": [
        {
          "data": {
            "text/html": [
              "<style>\n",
              "div.purple-box {\n",
              "    color: #4b0082; /* Indigo for text */\n",
              "    background-color: #f3e5f5; /* Light lavender background */\n",
              "    border-left: 5px solid #7b1fa2; /* Medium purple border */\n",
              "    padding: 0.5em;\n",
              "    font-size: 1.25em; /* Matches the surrounding text size */\n",
              "    line-height: 1.5; /* Ensures readability */\n",
              "    font-family: Arial, sans-serif; /* Clean, modern font */\n",
              "}\n",
              "div.purple-box ul {\n",
              "    margin: 0.5em 0; /* Space around the list */\n",
              "}\n",
              "div.purple-box li {\n",
              "    margin-bottom: 0.5em; /* Space between list items */\n",
              "}\n",
              "</style>\n",
              "\n",
              "<div class=\"purple-box\">\n",
              "    <strong>Flexible & Whole Protein Docking with GNINA</strong>\n",
              "    <ul>\n",
              "        <li><b>Flexible Docking:</b> <code>gnina</code> allows specific receptor sidechains to be treated as flexible during docking. This is typically enabled using command-line options like <code>--flexdist_ligand</code> (to specify a reference point, often the ligand) and <code>--flexdist</code> (to set a distance threshold around that point for selecting flexible residues).</li>\n",
              "        <li><b>Whole Protein Docking:</b> When the binding site isn't known beforehand, <code>gnina</code> can perform whole protein docking. This is usually done by setting the search box to encompass the entire receptor, commonly achieved by providing the receptor file itself as the argument to <code>--autobox_ligand</code>. This allows the ligand to explore the entire protein surface for potential binding pockets. <i>Note: Due to the much larger search space, significantly higher <code>--exhaustiveness</code> settings are strongly recommended for whole protein docking.</i></li>\n",
              "    </ul>\n",
              "\n",
              "    However, be careful using these options as they are much more computationally expensive than rigid docking.\n",
              "</div>\n"
            ],
            "text/plain": [
              "<IPython.core.display.HTML object>"
            ]
          },
          "metadata": {},
          "output_type": "display_data"
        }
      ],
      "source": [
        "# @title More gnina Docking Options\n",
        "%%html\n",
        "<style>\n",
        "div.purple-box {\n",
        "    color: #4b0082; /* Indigo for text */\n",
        "    background-color: #f3e5f5; /* Light lavender background */\n",
        "    border-left: 5px solid #7b1fa2; /* Medium purple border */\n",
        "    padding: 0.5em;\n",
        "    font-size: 1.25em; /* Matches the surrounding text size */\n",
        "    line-height: 1.5; /* Ensures readability */\n",
        "    font-family: Arial, sans-serif; /* Clean, modern font */\n",
        "}\n",
        "div.purple-box ul {\n",
        "    margin: 0.5em 0; /* Space around the list */\n",
        "}\n",
        "div.purple-box li {\n",
        "    margin-bottom: 0.5em; /* Space between list items */\n",
        "}\n",
        "</style>\n",
        "\n",
        "<div class=\"purple-box\">\n",
        "    <strong>Flexible & Whole Protein Docking with GNINA</strong>\n",
        "    <ul>\n",
        "        <li><b>Flexible Docking:</b> <code>gnina</code> allows specific receptor sidechains to be treated as flexible during docking. This is typically enabled using command-line options like <code>--flexdist_ligand</code> (to specify a reference point, often the ligand) and <code>--flexdist</code> (to set a distance threshold around that point for selecting flexible residues).</li>\n",
        "        <li><b>Whole Protein Docking:</b> When the binding site isn't known beforehand, <code>gnina</code> can perform whole protein docking. This is usually done by setting the search box to encompass the entire receptor, commonly achieved by providing the receptor file itself as the argument to <code>--autobox_ligand</code>. This allows the ligand to explore the entire protein surface for potential binding pockets. <i>Note: Due to the much larger search space, significantly higher <code>--exhaustiveness</code> settings are strongly recommended for whole protein docking.</i></li>\n",
        "    </ul>\n",
        "\n",
        "    However, be careful using these options as they are much more computationally expensive than rigid docking.\n",
        "</div>"
      ]
    },
    {
      "cell_type": "markdown",
      "metadata": {
        "id": "8azkxhAJ8acU"
      },
      "source": [
        "## Flexible Docking\n",
        "\n",
        "Throughout this tutorial, we've performed docking calculations treating the protein as a rigid receptor. This is a common thing to do and is computationally efficient. However, sometimes the binding site needs to adjust its  shape to accommodate a ligand. This is called \"induced fit\".\n",
        "\n",
        "Induced fit is observed for our structure, according to the [reference](https://pubs.acs.org/doi/10.1021/acs.jmedchem.1c00598), particularly Gln 189 and Met49 have flexible sidechains. We have likely observed good docking results because all of our ligands bind to this site in a similar way and the structures we have started from already fit this well.\n",
        "\n",
        "In the cell below, we add an argument to highlight residues to show where these residues are relative to our binding site."
      ]
    },
    {
      "cell_type": "code",
      "execution_count": null,
      "metadata": {
        "id": "kD0e9a945TBC"
      },
      "outputs": [],
      "source": []
    },
    {
      "cell_type": "code",
      "execution_count": null,
      "metadata": {
        "cellView": "form",
        "colab": {
          "base_uri": "https://localhost:8080/",
          "height": 359
        },
        "id": "P-JeC8EoWPrI",
        "outputId": "8b28ef90-8103-4730-df91-b217f2551fd9"
      },
      "outputs": [
        {
          "data": {
            "text/html": [
              "<style>\n",
              "div.orange-alert {\n",
              "    color: #854f00; /* Darker shade of orange for text */\n",
              "    background-color: #ffe6cc; /* Light orange background */\n",
              "    border-left: 5px solid #ff9933; /* Bright orange border */\n",
              "    padding: 0.5em;\n",
              "    font-size: 1.25em; /* Matches the surrounding text size */\n",
              "    line-height: 1.5; /* Ensures readability */\n",
              "}\n",
              "div.orange-alert ul {\n",
              "    margin: 0.5em 0; /* Space around the list */\n",
              "}\n",
              "div.orange-alert li {\n",
              "    margin-bottom: 0.5em; /* Space between list items */\n",
              "}\n",
              "</style>\n",
              "\n",
              "<div class=\"orange-alert\">\n",
              "\n",
              "<strong>Final Challenge</strong>\n",
              "\n",
              "<p>\n",
              "<i>Challenge 1: Flexible Docking</i>\n",
              "</p>\n",
              "\n",
              "<p>\n",
              "As stated above, sometimes your docking site may be flexible. `gnina` allows for flexible docking in a few different ways.\n",
              "You may either use a cut off distance from a target with <code>--flexdist_ligand ARG</code> and <code>--flexdist DISTANCE`</code>,\n",
              "or you may specify a set of flexible residues using <code>`--flexres`</code>. It is recommended to have as few flexible residues as possible\n",
              "due to the increased computational cost. To specify the residues highlighted above as flexible, you can add <code>`--flexres A:49,A189`</code> to your\n",
              "`gnina` command line argument. Here \"A\" refers to chain A.\n",
              "</p>\n",
              "\n",
              "<p>Try redocking or crossdocking using Y6J and flexible docking.</p>\n",
              "\n",
              "<p>\n",
              "    <i>\n",
              "        Challenge 2: Cross Docking all ligands\n",
              "    </i>\n",
              "</p>\n",
              "<p>\n",
              "    Try docking all of your ligands to `7L11` using rigid docking. Do you observe the same ordering of ligands?\n",
              "    </p>\n",
              "\n",
              "</div>\n"
            ],
            "text/plain": [
              "<IPython.core.display.HTML object>"
            ]
          },
          "metadata": {},
          "output_type": "display_data"
        }
      ],
      "source": [
        "# @title Final Exercise\n",
        "%%html\n",
        "<style>\n",
        "div.orange-alert {\n",
        "    color: #854f00; /* Darker shade of orange for text */\n",
        "    background-color: #ffe6cc; /* Light orange background */\n",
        "    border-left: 5px solid #ff9933; /* Bright orange border */\n",
        "    padding: 0.5em;\n",
        "    font-size: 1.25em; /* Matches the surrounding text size */\n",
        "    line-height: 1.5; /* Ensures readability */\n",
        "}\n",
        "div.orange-alert ul {\n",
        "    margin: 0.5em 0; /* Space around the list */\n",
        "}\n",
        "div.orange-alert li {\n",
        "    margin-bottom: 0.5em; /* Space between list items */\n",
        "}\n",
        "</style>\n",
        "\n",
        "<div class=\"orange-alert\">\n",
        "\n",
        "<strong>Final Challenge</strong>\n",
        "\n",
        "<p>\n",
        "<i>Challenge 1: Flexible Docking</i>\n",
        "</p>\n",
        "\n",
        "<p>\n",
        "As stated above, sometimes your docking site may be flexible. `gnina` allows for flexible docking in a few different ways.\n",
        "You may either use a cut off distance from a target with <code>--flexdist_ligand ARG</code> and <code>--flexdist DISTANCE`</code>,\n",
        "or you may specify a set of flexible residues using <code>`--flexres`</code>. It is recommended to have as few flexible residues as possible\n",
        "due to the increased computational cost. To specify the residues highlighted above as flexible, you can add <code>`--flexres A:49,A189`</code> to your\n",
        "`gnina` command line argument. Here \"A\" refers to chain A.\n",
        "</p>\n",
        "\n",
        "<p>Try redocking or crossdocking using Y6J and flexible docking.</p>\n",
        "\n",
        "<p>\n",
        "    <i>\n",
        "        Challenge 2: Cross Docking all ligands\n",
        "    </i>\n",
        "</p>\n",
        "<p>\n",
        "    Try docking all of your ligands to `7L11` using rigid docking. Do you observe the same ordering of ligands?\n",
        "    </p>\n",
        "\n",
        "</div>"
      ]
    },
    {
      "cell_type": "code",
      "execution_count": null,
      "metadata": {
        "id": "f-1QUCH9WtkL"
      },
      "outputs": [],
      "source": []
    },
    {
      "cell_type": "code",
      "execution_count": null,
      "metadata": {
        "id": "eQ5KkIRlWtz7"
      },
      "outputs": [],
      "source": []
    },
    {
      "cell_type": "code",
      "execution_count": null,
      "metadata": {
        "id": "3HNmRoarWt4t"
      },
      "outputs": [],
      "source": []
    },
    {
      "cell_type": "code",
      "execution_count": null,
      "metadata": {
        "id": "KJfVTr24WuCH"
      },
      "outputs": [],
      "source": []
    },
    {
      "cell_type": "code",
      "execution_count": null,
      "metadata": {
        "id": "icevL2HiWuT8"
      },
      "outputs": [],
      "source": []
    },
    {
      "cell_type": "code",
      "execution_count": null,
      "metadata": {
        "id": "-RSTDEes_wZB"
      },
      "outputs": [],
      "source": []
    },
    {
      "cell_type": "code",
      "execution_count": null,
      "metadata": {
        "cellView": "form",
        "colab": {
          "base_uri": "https://localhost:8080/",
          "height": 428
        },
        "id": "-rfPfYovWkL_",
        "outputId": "1d920b53-c18d-474a-ab03-fd8923e0b61f"
      },
      "outputs": [
        {
          "data": {
            "text/html": [
              "<style>\n",
              "div.green-note {\n",
              "    color: #155724; /* Dark green for text */\n",
              "    background-color: #d4edda; /* Light green background */\n",
              "    border-left: 5px solid #28a745; /* Bright green border */\n",
              "    padding: 0.5em;\n",
              "    font-size: 1.25em; /* Consistent with text size */\n",
              "    line-height: 1.5; /* Ensures readability */\n",
              "    font-family: Arial, sans-serif; /* Clean and modern font */\n",
              "}\n",
              "div.green-note ul {\n",
              "    margin: 0.5em 0; /* Space around the list */\n",
              "}\n",
              "div.green-note li {\n",
              "    margin-bottom: 0.5em; /* Space between list items */\n",
              "}\n",
              "</style>\n",
              "\n",
              "<div class=\"green-note\">\n",
              "    <strong>Key Points:</strong>\n",
              "    <ul>\n",
              "        <li><code>gnina</code> is used for molecular docking via the command line, requiring prepared receptor (<code>-r</code>) and ligand (<code>-l</code>) files, defining a search box (e.g., <code>--autobox_ligand</code>), and specifying an output file (<code>-o</code>).</li>\n",
              "        <li>Docking results are evaluated using scoring functions (<code>minimizedAffinity</code> from Vina, <code>CNNscore</code> and <code>CNNaffinity</code> from the neural network) and Root Mean Square Deviation (RMSD) to measure geometric similarity to a known pose.</li>\n",
              "        <li><code>gnina</code>'s default <code>CNNscore</code> ranks poses based on predicted geometric accuracy (likelihood of low RMSD) and often differs from rankings based on the Vina affinity score (<code>minimizedAffinity</code>).</li>\n",
              "        <li>Redocking assesses reproducibility against a known structure, while cross-docking (using a different but related receptor structure) tests robustness, requiring protein alignment for meaningful RMSD comparison.</li>\n",
              "        <li>Multiple ligands can be docked efficiently by providing a multi-molecule SDF file to <code>gnina</code>, and results can be compiled and analyzed using RDKit and Pandas in Python.</li>\n",
              "    </ul>\n",
              "</div>\n"
            ],
            "text/plain": [
              "<IPython.core.display.HTML object>"
            ]
          },
          "metadata": {},
          "output_type": "display_data"
        }
      ],
      "source": [
        "# @title Key Points\n",
        "%%html\n",
        "<style>\n",
        "div.green-note {\n",
        "    color: #155724; /* Dark green for text */\n",
        "    background-color: #d4edda; /* Light green background */\n",
        "    border-left: 5px solid #28a745; /* Bright green border */\n",
        "    padding: 0.5em;\n",
        "    font-size: 1.25em; /* Consistent with text size */\n",
        "    line-height: 1.5; /* Ensures readability */\n",
        "    font-family: Arial, sans-serif; /* Clean and modern font */\n",
        "}\n",
        "div.green-note ul {\n",
        "    margin: 0.5em 0; /* Space around the list */\n",
        "}\n",
        "div.green-note li {\n",
        "    margin-bottom: 0.5em; /* Space between list items */\n",
        "}\n",
        "</style>\n",
        "\n",
        "<div class=\"green-note\">\n",
        "    <strong>Key Points:</strong>\n",
        "    <ul>\n",
        "        <li><code>gnina</code> is used for molecular docking via the command line, requiring prepared receptor (<code>-r</code>) and ligand (<code>-l</code>) files, defining a search box (e.g., <code>--autobox_ligand</code>), and specifying an output file (<code>-o</code>).</li>\n",
        "        <li>Docking results are evaluated using scoring functions (<code>minimizedAffinity</code> from Vina, <code>CNNscore</code> and <code>CNNaffinity</code> from the neural network) and Root Mean Square Deviation (RMSD) to measure geometric similarity to a known pose.</li>\n",
        "        <li><code>gnina</code>'s default <code>CNNscore</code> ranks poses based on predicted geometric accuracy (likelihood of low RMSD) and often differs from rankings based on the Vina affinity score (<code>minimizedAffinity</code>).</li>\n",
        "        <li>Redocking assesses reproducibility against a known structure, while cross-docking (using a different but related receptor structure) tests robustness, requiring protein alignment for meaningful RMSD comparison.</li>\n",
        "        <li>Multiple ligands can be docked efficiently by providing a multi-molecule SDF file to <code>gnina</code>, and results can be compiled and analyzed using RDKit and Pandas in Python.</li>\n",
        "    </ul>\n",
        "</div>"
      ]
    },
    {
      "cell_type": "code",
      "execution_count": null,
      "metadata": {
        "id": "fY45SjZbXHwb"
      },
      "outputs": [],
      "source": []
    }
  ],
  "metadata": {
    "accelerator": "GPU",
    "colab": {
      "gpuType": "T4",
      "provenance": []
    },
    "kernelspec": {
      "display_name": "Python 3 (ipykernel)",
      "language": "python",
      "name": "python3"
    },
    "language_info": {
      "codemirror_mode": {
        "name": "ipython",
        "version": 3
      },
      "file_extension": ".py",
      "mimetype": "text/x-python",
      "name": "python",
      "nbconvert_exporter": "python",
      "pygments_lexer": "ipython3",
      "version": "3.11.11"
    }
  },
  "nbformat": 4,
  "nbformat_minor": 0
}