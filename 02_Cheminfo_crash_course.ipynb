{
  "cells": [
    {
      "cell_type": "markdown",
      "id": "7292e8f4-a8c2-4cb3-8dc3-6300be2e232f",
      "metadata": {
        "id": "7292e8f4-a8c2-4cb3-8dc3-6300be2e232f"
      },
      "source": [
        "<div style=\"text-align:center;\">\n",
        "  <img src=\"https://github.com/MolSSI-Education/iqb-2025/blob/main/images/molssi_main_outline.png?raw=true\" style=\"display: block; margin: 0 auto; max-height:325px;\">\n",
        "</div>\n",
        "\n",
        "# Exploring Chemical and Biological Data With BidingDB and the RDKit\n",
        "\n",
        "This tutorial was written by [Pat Walters](https://patwalters.github.io) for the [Cheminformatic-Driven Molecular Docking Workshop](https://pdb101.rcsb.org/news/67d9853eaddf75595bd158f7) held as a Crash Course with the Institute for Quantitative Biomedicine (IQB) and the Protein Data Bank (PDB).\n",
        "\n",
        "*This notebook is Part 2 of 4 in the notebook series.*\n",
        "\n",
        "Other notebooks in this series:\n",
        "1. [Digital Representation of Molecules](https://colab.research.google.com/github/MolSSI-Education/iqb-2025/blob/main/01_Cheminfo_crash_course.ipynb)\n",
        "2. **Exploring Chemical and Biological Data with BindingDB and the RDKit** (This notebook)\n",
        "3. [Preparing Structures for Docking](https://colab.research.google.com/github/MolSSI-Education/iqb-2025/blob/main/03_Cheminfo_crash_course.ipynb)\n",
        "4. [Molecular Docking using gnina](https://colab.research.google.com/github/MolSSI-Education/iqb-2025/blob/main/04_Cheminfo_crash_course.ipynb)\n",
        "\n",
        "In this notebook we will use the [BindingDB](https://bindingdb.org/rwd/bind/index.jsp), database of chemical structures and biological activity values extracted from the chemical literature, to search for compounds that bind to the [SARS-CoV-2 main  protease](https://pubmed.ncbi.nlm.nih.gov/35845352/).  In addition to hosting data from the scientifiic literature, BindingDB also has data extracted from chemical patents.  We will extract the data from a SARS-CoV-2 inhibitor patent, explore this data, and save a representative subset for a subsequent docking analysis."
      ]
    },
    {
      "cell_type": "markdown",
      "id": "87d30109-723d-41c1-95b3-93f18f430919",
      "metadata": {
        "id": "87d30109-723d-41c1-95b3-93f18f430919"
      },
      "source": [
        "### 1. Searching BindingDB and Downloading Chemical Structures and Data\n",
        "We begin by accessing the BindingDB website at [https://bindingdb.org](https://bindingdb.org). Click on the **Publications** link on the left, then click on the **US Patent** link.\n",
        "   \n",
        "<img src=\"https://raw.githubusercontent.com/PatWalters/practical_cheminformatics_tutorials/refs/heads/main/pdb/binding_db_01.png\"/>     \n",
        "   \n",
        "This will bring up a results page like the one below.  This page shows recently curated patents and allows us to search by patent number.  Enter this text into the box, [US20240293380](https://patents.google.com/patent/US20240293380A1/fr).  Once you click on the **Search** button, BindingDB will find compounds that were curated from this patent by scientists as the Cleveland Clinic, describing a set of protease inhibitors.\n",
        "   \n",
        "<img src=\"https://raw.githubusercontent.com/PatWalters/practical_cheminformatics_tutorials/refs/heads/main/pdb/binding_db_02.png\"/>  \n",
        "   \n",
        "This will take you to a page with details the 75 compounds extracted from US20240293380.  The page shows chemical structures as well as links to other databases. To download the information about all structures from this patent, first click on the **Add all pages** link, followed by the **Make dataset** button indicated by the arrows in figure below.\n",
        "   \n",
        "<img src=\"https://raw.githubusercontent.com/PatWalters/practical_cheminformatics_tutorials/refs/heads/main/pdb/binding_db_03.png\"/>   \n",
        "   \n",
        "By selecting the **Tab Delimited (TSV)** radio button and pressing the **Go** button, we can download the data.  This download requires registration with BindingDB.  To streamline this tutorial, we will load the file directly from GitHub instead.\n",
        "   \n",
        "<img src=\"https://raw.githubusercontent.com/PatWalters/practical_cheminformatics_tutorials/refs/heads/main/pdb/binding_db_04.png\"/>    "
      ]
    },
    {
      "cell_type": "markdown",
      "id": "33813b32-fb34-4619-9626-2570314da35b",
      "metadata": {
        "id": "33813b32-fb34-4619-9626-2570314da35b"
      },
      "source": [
        "### 2. Install and Import the necessary Python libraries\n",
        "The next cell will install the Python libraries necessary for this notebook.  Note that the libraries are only installed if the notebook is running in Google Colab.  The installation process generates a lot of output, which we suppress with the **%%caputure%%** magic command.  If you run into problems, remove **%%capture%%** to see the cell output."
      ]
    },
    {
      "cell_type": "code",
      "execution_count": null,
      "id": "86ecf69a-363e-42c1-aa39-9743c98fea00",
      "metadata": {
        "id": "86ecf69a-363e-42c1-aa39-9743c98fea00"
      },
      "outputs": [],
      "source": [
        "%%capture\n",
        "import sys\n",
        "IN_COLAB = 'google.colab' in sys.modules\n",
        "if IN_COLAB:\n",
        "    !pip install pandas mols2grid seaborn rdkit matplotlib useful_rdkit_utils scikit-learn ipywidgets"
      ]
    },
    {
      "cell_type": "markdown",
      "id": "7e438f85-f87e-4189-922f-c36b90c4bf4a",
      "metadata": {
        "id": "7e438f85-f87e-4189-922f-c36b90c4bf4a"
      },
      "source": [
        "We are the capabilities provided by these libraries.\n",
        "\n",
        "- [pandas](https://pandas.pydata.org/) - data analysis and manipulation\n",
        "- [mols2grid](https://github.com/cbouy/mols2grid) - display interactive grids of chemical structures and data\n",
        "- [seaborn](https://seaborn.pydata.org/) - plotting and data visualization\n",
        "- [rdkit](https://www.rdkit.org/) - Open source cheminformatics\n",
        "- [matplotlib](https://matplotlib.org/) - data visualization\n",
        "- [useful_rdkit_utils](https://useful-rdkit-utils.readthedocs.io/en/latest/) - Cheminformatics utilities\n",
        "- [scikit-learn](https://scikit-learn.org/stable/) - Machine learning\n",
        "- [ipywidgets](https://ipywidgets.readthedocs.io/en/stable/) - Interactive tools in Jupyter notebooks"
      ]
    },
    {
      "cell_type": "markdown",
      "id": "5c123a41-5301-4017-980b-7731583d228d",
      "metadata": {
        "id": "5c123a41-5301-4017-980b-7731583d228d"
      },
      "source": [
        "In the cell below, we load the python libraries"
      ]
    },
    {
      "cell_type": "code",
      "execution_count": null,
      "id": "5bff75b8-4b18-449e-9e48-cadfad05677e",
      "metadata": {
        "id": "5bff75b8-4b18-449e-9e48-cadfad05677e"
      },
      "outputs": [],
      "source": [
        "import pandas as pd\n",
        "import mols2grid\n",
        "import seaborn as sns\n",
        "import numpy as np\n",
        "from rdkit import Chem\n",
        "from rdkit.Chem import rdFMCS\n",
        "from rdkit.Chem.Scaffolds.MurckoScaffold import GetScaffoldForMol\n",
        "import useful_rdkit_utils as uru\n",
        "from IPython.core.display import HTML"
      ]
    },
    {
      "cell_type": "markdown",
      "id": "d5f9b7ac-bc09-4e3b-b4cc-c55b393808c5",
      "metadata": {
        "id": "d5f9b7ac-bc09-4e3b-b4cc-c55b393808c5"
      },
      "source": [
        "### 3. Read the file we downloaded from PDBBind into a Pandas dataframe."
      ]
    },
    {
      "cell_type": "code",
      "execution_count": null,
      "id": "cea639bd-5492-4023-808c-0a6523ecf257",
      "metadata": {
        "id": "cea639bd-5492-4023-808c-0a6523ecf257"
      },
      "outputs": [],
      "source": [
        "df = pd.read_csv(\"https://raw.githubusercontent.com/PatWalters/practical_cheminformatics_tutorials/refs/heads/main/pdb/monomers_12285.tsv\",sep=\"\\t\")"
      ]
    },
    {
      "cell_type": "markdown",
      "id": "3e53ea31-b52e-4690-91dd-643d632ce11c",
      "metadata": {
        "id": "3e53ea31-b52e-4690-91dd-643d632ce11c"
      },
      "source": [
        "As we can see, the data we extracted from BindingDB has many fields."
      ]
    },
    {
      "cell_type": "code",
      "execution_count": null,
      "id": "cebbdfc9-fcc7-4b23-8e45-b2116fed6c06",
      "metadata": {
        "id": "cebbdfc9-fcc7-4b23-8e45-b2116fed6c06"
      },
      "outputs": [],
      "source": [
        "df.columns"
      ]
    },
    {
      "cell_type": "markdown",
      "id": "7a73360d-304f-4c52-a063-a77007addbbd",
      "metadata": {
        "id": "7a73360d-304f-4c52-a063-a77007addbbd"
      },
      "source": [
        "To make things simpler, we'll rename a couple of columns."
      ]
    },
    {
      "cell_type": "code",
      "execution_count": null,
      "id": "04f3e39d-fbf4-4808-ac42-c6602fb0e896",
      "metadata": {
        "id": "04f3e39d-fbf4-4808-ac42-c6602fb0e896"
      },
      "outputs": [],
      "source": [
        "df.rename(columns={'Ligand SMILES':'SMILES'},inplace=True)\n",
        "df.rename(columns={'BindingDB Ligand Name':'Name'},inplace=True)"
      ]
    },
    {
      "cell_type": "markdown",
      "id": "073c89bd-33ad-48eb-a5be-d4d61efe1de6",
      "metadata": {
        "id": "073c89bd-33ad-48eb-a5be-d4d61efe1de6"
      },
      "source": [
        "We can aslo see that the data has 75 rows, with each compound corresponding to a row.  For our purposes, we'll focus on a few fields.\n",
        "- SMILES - the chemical structure of the compound\n",
        "- Name - the internal identifier Binding DB provides for each compund\n",
        "- IC50 (nM) - the IC50 in nM.\n",
        "\n",
        "The IC50, or half maximal inhibitory concentration, is a measure of a substance's potency in inhibiting a specific biological or biochemical function. It represents the concentration of an inhibitor needed to reduce a particular biological process or component by 50% in vitro, and is commonly used to assess the effectiveness of drugs in pharmacological research. IC50 values are typically expressed as nM concentrations and provide a quantitative indication of how much of an inhibitory substance is required to achieve half-maximal inhibition of a given target or process"
      ]
    },
    {
      "cell_type": "code",
      "execution_count": null,
      "id": "b7c07462-8238-46ef-b171-65e103d0a83f",
      "metadata": {
        "id": "b7c07462-8238-46ef-b171-65e103d0a83f"
      },
      "outputs": [],
      "source": [
        "len(df)"
      ]
    },
    {
      "cell_type": "markdown",
      "id": "be1dc358-bbe6-41c9-85fd-d0ea0d955d3d",
      "metadata": {
        "id": "be1dc358-bbe6-41c9-85fd-d0ea0d955d3d"
      },
      "source": [
        "We can use [mols2grid](https://github.com/cbouy/mols2grid) to browse the chemcial structures of the 75 compounds."
      ]
    },
    {
      "cell_type": "code",
      "execution_count": null,
      "id": "075e6dc4-a36b-451d-9c97-55d03999be9c",
      "metadata": {
        "id": "075e6dc4-a36b-451d-9c97-55d03999be9c"
      },
      "outputs": [],
      "source": [
        "mols2grid.display(df,smiles_col=\"SMILES\",subset=[\"img\",\"IC50 (nM)\"])"
      ]
    },
    {
      "cell_type": "markdown",
      "id": "90c2d976-4d01-4056-ab2d-b7c2849bce0b",
      "metadata": {
        "id": "90c2d976-4d01-4056-ab2d-b7c2849bce0b"
      },
      "source": [
        "### Exercise #1\n",
        "1. Explort the SMILES, Name, and IC50 fields to a csv <br/>\n",
        "2. Read that into a dataframe called **my_df**\n",
        "3. Sort **my_df** by the IC50 column"
      ]
    },
    {
      "cell_type": "code",
      "execution_count": null,
      "id": "fe327af3-e02b-41db-b2d5-2917260cc5f5",
      "metadata": {
        "id": "fe327af3-e02b-41db-b2d5-2917260cc5f5"
      },
      "outputs": [],
      "source": []
    },
    {
      "cell_type": "markdown",
      "id": "089fcf8d-9533-4344-ae19-ae732cbd3a2a",
      "metadata": {
        "id": "089fcf8d-9533-4344-ae19-ae732cbd3a2a"
      },
      "source": [
        "### 3. Visualizing the Activity Distribution\n",
        "First, let's set some reasonable defaults for plots."
      ]
    },
    {
      "cell_type": "code",
      "execution_count": null,
      "id": "495a6dfa-d9d6-46ad-8b53-f28be105c38e",
      "metadata": {
        "id": "495a6dfa-d9d6-46ad-8b53-f28be105c38e"
      },
      "outputs": [],
      "source": [
        "sns.set(rc={'figure.figsize': (5,5 )})\n",
        "sns.set_style('whitegrid')\n",
        "sns.set_context('notebook')"
      ]
    },
    {
      "cell_type": "markdown",
      "id": "acb39da2-99ae-4484-bd2a-3e826ee4fd67",
      "metadata": {
        "id": "acb39da2-99ae-4484-bd2a-3e826ee4fd67"
      },
      "source": [
        "Let's look at the the IC50 distribution for the 75 compounds.  As we can see below, the default view isn't very helpful."
      ]
    },
    {
      "cell_type": "code",
      "execution_count": null,
      "id": "0da4ac05-34e4-4166-b5d4-9d9e8c4fd0f4",
      "metadata": {
        "id": "0da4ac05-34e4-4166-b5d4-9d9e8c4fd0f4"
      },
      "outputs": [],
      "source": [
        "ax = sns.histplot(df[\"IC50 (nM)\"])"
      ]
    },
    {
      "cell_type": "markdown",
      "id": "a015dbab-c887-4aa1-bc16-b3f54d31cf31",
      "metadata": {
        "id": "a015dbab-c887-4aa1-bc16-b3f54d31cf31"
      },
      "source": [
        "It's oftent easier to look at the distribution of **pIC50** values, where pIC50 is the negative log of the IC50."
      ]
    },
    {
      "cell_type": "code",
      "execution_count": null,
      "id": "0c25bede-fc06-4737-8c7f-af0454aaea30",
      "metadata": {
        "id": "0c25bede-fc06-4737-8c7f-af0454aaea30"
      },
      "outputs": [],
      "source": [
        "df[\"pIC50\"] = -np.log10(df[\"IC50 (nM)\"] * 1e-9)"
      ]
    },
    {
      "cell_type": "code",
      "execution_count": null,
      "id": "9ef18725-ca13-45d0-84a1-4bef43ccb6f8",
      "metadata": {
        "id": "9ef18725-ca13-45d0-84a1-4bef43ccb6f8"
      },
      "outputs": [],
      "source": [
        "ax = sns.histplot(df.pIC50)"
      ]
    },
    {
      "cell_type": "markdown",
      "id": "5fbb9518-f94d-4b1c-9b10-1078d6391507",
      "metadata": {
        "id": "5fbb9518-f94d-4b1c-9b10-1078d6391507"
      },
      "source": [
        "### Exercise #2\n",
        "Find the maximum, minimum, and mean(average) pIC50 values\n"
      ]
    },
    {
      "cell_type": "code",
      "execution_count": null,
      "id": "908dcd8d-bba4-48b0-b932-c65041119c07",
      "metadata": {
        "id": "908dcd8d-bba4-48b0-b932-c65041119c07"
      },
      "outputs": [],
      "source": []
    },
    {
      "cell_type": "markdown",
      "id": "f95c4b6b-1689-43f5-94b6-aa8cc1334d6e",
      "metadata": {
        "id": "f95c4b6b-1689-43f5-94b6-aa8cc1334d6e"
      },
      "source": [
        "For visualization it's often helpful to bin the activity into high, medium, and low bins.  Here well put compounds with 6 < pIC50 < 7 (0.1-1$\\micro$M) into the \"medium\" bin, and compounds with pIC50 > 7 into the \"high\" bin."
      ]
    },
    {
      "cell_type": "code",
      "execution_count": null,
      "id": "373692a1-9967-475c-a6ab-0c2fbfd1de73",
      "metadata": {
        "id": "373692a1-9967-475c-a6ab-0c2fbfd1de73"
      },
      "outputs": [],
      "source": [
        "df[\"activity\"] = pd.cut(df.pIC50,bins=[0,6,7,100],labels=[\"low\",\"med\",\"high\"],right=False)"
      ]
    },
    {
      "cell_type": "code",
      "execution_count": null,
      "id": "fdfeaacd-eda9-42a5-a696-132641fc50eb",
      "metadata": {
        "id": "fdfeaacd-eda9-42a5-a696-132641fc50eb"
      },
      "outputs": [],
      "source": [
        "ax = sns.histplot(x=\"pIC50\",hue=\"activity\",data=df,bins=np.arange(4,9,0.5))"
      ]
    },
    {
      "cell_type": "markdown",
      "id": "9c434866-16a5-4dd0-b552-6261a0c5e5cf",
      "metadata": {
        "id": "9c434866-16a5-4dd0-b552-6261a0c5e5cf"
      },
      "source": [
        "Now that we have the IC50 data binned into high, med, low, we can use these categories to make plots showing mulitple parameters.  In the cells below we'll make a scatterplot of molecular weight (MW) vs LogP, a measure of lipophilicity. We can then color the plot by activty and see whether acitivity is driven by MW or LogP."
      ]
    },
    {
      "cell_type": "markdown",
      "id": "32cc014f-2aaa-409d-8d77-d53fc8c0bd1b",
      "metadata": {
        "id": "32cc014f-2aaa-409d-8d77-d53fc8c0bd1b"
      },
      "source": [
        "To calculate MW and LogP we need to add an RDKit molecule column to the dataframe.  As we will see in next couple of cells, the Pandas [apply](https://pandas.pydata.org/docs/reference/api/pandas.DataFrame.apply.html) method provides a handy way of performing operations on an entire dataframe column."
      ]
    },
    {
      "cell_type": "code",
      "execution_count": null,
      "id": "b7c5c839-5b35-4d7b-8be9-4f41188f3fe3",
      "metadata": {
        "id": "b7c5c839-5b35-4d7b-8be9-4f41188f3fe3"
      },
      "outputs": [],
      "source": [
        "df['mol'] = df.SMILES.apply(Chem.MolFromSmiles)"
      ]
    },
    {
      "cell_type": "markdown",
      "id": "e163ae3b-33f8-4e9c-83fb-0372d09a5bf0",
      "metadata": {
        "id": "e163ae3b-33f8-4e9c-83fb-0372d09a5bf0"
      },
      "source": [
        "Now that the dataframe has a **mol** column with the RDKit molecules, we can use **apply** to calculate MW and LogP."
      ]
    },
    {
      "cell_type": "code",
      "execution_count": null,
      "id": "60f097aa-6514-4a11-99ad-cc1a47602664",
      "metadata": {
        "id": "60f097aa-6514-4a11-99ad-cc1a47602664"
      },
      "outputs": [],
      "source": [
        "df['MW'] = df.mol.apply(uru.MolWt)\n",
        "df['LogP'] = df.mol.apply(uru.MolLogP)"
      ]
    },
    {
      "cell_type": "markdown",
      "id": "8f527494-8f27-4b2d-bea6-f0d46c07ad23",
      "metadata": {
        "id": "8f527494-8f27-4b2d-bea6-f0d46c07ad23"
      },
      "source": [
        "Use [seaborn](https://seaborn.pydata.org/) to make the scatterplot of MW vs LogP, colored by **activity**. Note that while we don't have a clear relationship between either MW or LogP and activity, the smallest molecules tend to have low to medium activity."
      ]
    },
    {
      "cell_type": "code",
      "execution_count": null,
      "id": "8364dc9c-c962-49f9-a490-5d906eb80cf9",
      "metadata": {
        "id": "8364dc9c-c962-49f9-a490-5d906eb80cf9"
      },
      "outputs": [],
      "source": [
        "ax = sns.scatterplot(x=\"MW\",y=\"LogP\",hue=\"activity\",data=df)\n",
        "sns.move_legend(ax, \"upper left\", bbox_to_anchor=(1, 1))"
      ]
    },
    {
      "cell_type": "markdown",
      "id": "56df46f9-67b4-4cff-b667-498fedda08bf",
      "metadata": {
        "id": "56df46f9-67b4-4cff-b667-498fedda08bf"
      },
      "source": [
        "### Exercise #3\n",
        "Make a scatterplot of the number of hydrogen bond donors vs the number of hydrogen bond acceptors for the dataset.<br>\n",
        "**Hint**: the functions you need to use are uru.NumHDonors and uru.NumHAcceptors"
      ]
    },
    {
      "cell_type": "code",
      "execution_count": null,
      "id": "30e6e4a7-f508-4e69-bd00-c85119d58da6",
      "metadata": {
        "id": "30e6e4a7-f508-4e69-bd00-c85119d58da6"
      },
      "outputs": [],
      "source": []
    },
    {
      "cell_type": "markdown",
      "id": "020a2131-68f8-4aa4-860f-864b6ade6332",
      "metadata": {
        "id": "020a2131-68f8-4aa4-860f-864b6ade6332"
      },
      "source": [
        "### 4. Understanding the Chemistry in the Downloaded Molecules\n",
        "We downloaded 75 molecules from BindingDB.  It can often be challenging to understand the trends in sets of molecules. In the next section, we'll look at how Cheminformatics tools can aid or exploratory data analysis. As a first step in this analysis, we will see which parts are common to all 75 of the molecules.  To do this, we can use the Maxiumum Common Substructure (MCS) capability in the RDKit.  To use this capability, we must first convert the SMILES in our dataframe to RDKit molecule objects.  As above, we can use the Pandas apply method to do this."
      ]
    },
    {
      "cell_type": "code",
      "execution_count": null,
      "id": "fcfd8760-75ae-4952-8801-e0359c484ab3",
      "metadata": {
        "id": "fcfd8760-75ae-4952-8801-e0359c484ab3"
      },
      "outputs": [],
      "source": [
        "df['mol'] = df[\"SMILES\"].apply(Chem.MolFromSmiles)"
      ]
    },
    {
      "cell_type": "markdown",
      "id": "d2f843a7-96ca-4638-83bb-b8dd57ba0555",
      "metadata": {
        "id": "d2f843a7-96ca-4638-83bb-b8dd57ba0555"
      },
      "source": [
        "Next we can calculate the MCS."
      ]
    },
    {
      "cell_type": "code",
      "execution_count": null,
      "id": "4ddce7d8-916d-4c7a-ba44-573fdc3a6914",
      "metadata": {
        "id": "4ddce7d8-916d-4c7a-ba44-573fdc3a6914"
      },
      "outputs": [],
      "source": [
        "mcs = rdFMCS.FindMCS(df.mol)"
      ]
    },
    {
      "cell_type": "markdown",
      "id": "232fbe8d-aaed-4aae-9e76-e24687994fb0",
      "metadata": {
        "id": "232fbe8d-aaed-4aae-9e76-e24687994fb0"
      },
      "source": [
        "To visualize the MCS, we have to convert it to an RDKit molecule object."
      ]
    },
    {
      "cell_type": "code",
      "execution_count": null,
      "id": "7aafa405-9ade-48d7-bcb1-a7d3d6138ed4",
      "metadata": {
        "id": "7aafa405-9ade-48d7-bcb1-a7d3d6138ed4"
      },
      "outputs": [],
      "source": [
        "pat = Chem.MolFromSmarts(mcs.smartsString)\n",
        "pat"
      ]
    },
    {
      "cell_type": "markdown",
      "id": "e6cb0bbd-5629-45b2-8762-970b255b6596",
      "metadata": {
        "id": "e6cb0bbd-5629-45b2-8762-970b255b6596"
      },
      "source": [
        "The visualization above can be difficult to interpret.  The MCS tends to make more sense when we map it onto the molecules. Here we can map the MCS on to the first molecule in the dataframe and display it as a red highlight. Note how we use the utilitiy function [rd_set_image_size](https://useful-rdkit-utils.readthedocs.io/en/latest/jupyter.html#useful_rdkit_utils.jupyter_utils.rd_set_image_size) from [useful_rdkit_utils](https://useful-rdkit-utils.readthedocs.io/en/latest/index.html) to set the image size."
      ]
    },
    {
      "cell_type": "code",
      "execution_count": null,
      "id": "6695d3a5-9567-4048-9cdd-351d5b213a26",
      "metadata": {
        "id": "6695d3a5-9567-4048-9cdd-351d5b213a26"
      },
      "outputs": [],
      "source": [
        "uru.rd_set_image_size(300,300)\n",
        "df.mol.values[0].GetSubstructMatch(pat)\n",
        "df.mol.values[0]"
      ]
    },
    {
      "cell_type": "markdown",
      "id": "cba82efd-a1d0-4e82-a4ff-17eff4911932",
      "metadata": {
        "id": "cba82efd-a1d0-4e82-a4ff-17eff4911932"
      },
      "source": [
        "Another tool for exploring chemical datasets is the Bemis-Murcko scaffold. In this technique a molecule is reduced to a set of connected rings and linkers.  We can use the **GetScaffoldForMol**  method from the RDKit to generate Bemis-Murcko scaffolds.  "
      ]
    },
    {
      "cell_type": "code",
      "execution_count": null,
      "id": "ba564651-15f8-4df6-86a8-0b2036859241",
      "metadata": {
        "id": "ba564651-15f8-4df6-86a8-0b2036859241"
      },
      "outputs": [],
      "source": [
        "df['Scaffold'] = df.mol.apply(GetScaffoldForMol)"
      ]
    },
    {
      "cell_type": "markdown",
      "id": "8eab4d0f-6219-41e2-8640-4de321a34923",
      "metadata": {
        "id": "8eab4d0f-6219-41e2-8640-4de321a34923"
      },
      "source": [
        "The generated scaffolds are RDKit molecule objects.  We would like to find the most frequently occuring scaffolds.  To do this, we need to convert the scaffolds to SMILES.  "
      ]
    },
    {
      "cell_type": "code",
      "execution_count": null,
      "id": "a4ddc444-1978-4289-aee2-404efae719ea",
      "metadata": {
        "id": "a4ddc444-1978-4289-aee2-404efae719ea"
      },
      "outputs": [],
      "source": [
        "df['Scaffold_SMILES'] = df.Scaffold.apply(Chem.MolToSmiles)"
      ]
    },
    {
      "cell_type": "markdown",
      "id": "27aec452-590e-461b-9638-a24433079b0a",
      "metadata": {
        "id": "27aec452-590e-461b-9638-a24433079b0a"
      },
      "source": [
        "Now we can use the [value_counts_df](https://useful-rdkit-utils.readthedocs.io/en/latest/pandas.html#useful_rdkit_utils.pandas_utils.value_counts_df) method in [useful_rdkit_utils](https://useful-rdkit-utils.readthedocs.io/en/latest/index.html) count how many times each scaffold is used.  "
      ]
    },
    {
      "cell_type": "code",
      "execution_count": null,
      "id": "be5847dd-c13a-48e1-b4d5-3c8bb9b645f1",
      "metadata": {
        "id": "be5847dd-c13a-48e1-b4d5-3c8bb9b645f1"
      },
      "outputs": [],
      "source": [
        "scaffold_counts_df = uru.value_counts_df(df,\"Scaffold_SMILES\")\n",
        "scaffold_counts_df.head()"
      ]
    },
    {
      "cell_type": "markdown",
      "id": "c5b1249e-46d1-4e69-a665-001a1d2613b4",
      "metadata": {
        "id": "c5b1249e-46d1-4e69-a665-001a1d2613b4"
      },
      "source": [
        "Use the **scaffold_counts_df** we created above to view the scaffolds and their frequencies."
      ]
    },
    {
      "cell_type": "code",
      "execution_count": null,
      "id": "05c2ac54-d6c9-4442-974d-f5442b5e50b5",
      "metadata": {
        "id": "05c2ac54-d6c9-4442-974d-f5442b5e50b5"
      },
      "outputs": [],
      "source": [
        "mols2grid.display(scaffold_counts_df,smiles_col=\"Scaffold_SMILES\",subset=[\"img\",\"count\"],size=(250,250),\n",
        "                  n_items_per_page=6)"
      ]
    },
    {
      "cell_type": "markdown",
      "id": "d1b35c5d-a39d-43d7-940d-ad7feaffb0ea",
      "metadata": {
        "id": "d1b35c5d-a39d-43d7-940d-ad7feaffb0ea"
      },
      "source": [
        "Let's take a closer look at the most frequent scaffolds.  We can use the Pandas **query** method to find scaffolds that occur in at least 5 molecules.  "
      ]
    },
    {
      "cell_type": "code",
      "execution_count": null,
      "id": "c10fccd2-028e-49d6-9250-656bca4c3c64",
      "metadata": {
        "id": "c10fccd2-028e-49d6-9250-656bca4c3c64"
      },
      "outputs": [],
      "source": [
        "uru.value_counts_df(df,\"Scaffold_SMILES\").query(\"count > 5\")"
      ]
    },
    {
      "cell_type": "markdown",
      "id": "90d8dddf-abbe-4fef-930f-9603b014ff31",
      "metadata": {
        "id": "90d8dddf-abbe-4fef-930f-9603b014ff31"
      },
      "source": [
        "### Exercise #4\n",
        "Visualize the scaffolds that occur fewer than 5 times."
      ]
    },
    {
      "cell_type": "markdown",
      "id": "d510ad5d-0cf7-447f-b271-66ee4d772b2e",
      "metadata": {
        "id": "d510ad5d-0cf7-447f-b271-66ee4d772b2e"
      },
      "source": [
        "In the next section, we'll look at how we can plot the activity distribution associated with each of the scaffolds specified above.  We will use the Pandas groupby function to select compounds with the same scaffold.  Once we've grouped by scaffold,  we can compare the corresponding IC50 distributions."
      ]
    },
    {
      "cell_type": "code",
      "execution_count": null,
      "id": "c3a8923b-b43f-4d0d-a9f8-e9a8fb95c588",
      "metadata": {
        "id": "c3a8923b-b43f-4d0d-a9f8-e9a8fb95c588"
      },
      "outputs": [],
      "source": [
        "output_list = []\n",
        "for k,v in df.groupby('Scaffold_SMILES'):\n",
        "    if len(v) > 5:\n",
        "        mol = Chem.MolFromSmiles(k)\n",
        "        mol_image = uru.mol_to_base64_image(mol)\n",
        "        boxplot_image = uru.boxplot_base64_image(v.pIC50.values)\n",
        "        output_list.append([mol_image, len(v),boxplot_image])\n",
        "output_df = pd.DataFrame(output_list,columns=[\"Scaffold\",\"Num Examples\",\"pIC50 Distribution\"])"
      ]
    },
    {
      "cell_type": "markdown",
      "id": "c7b60d4d-c1b7-4316-b4b6-7d5fa8ff6154",
      "metadata": {
        "id": "c7b60d4d-c1b7-4316-b4b6-7d5fa8ff6154"
      },
      "source": [
        "With the dataframe generated above, we can now visualize the activity distributions associated with the three most common scaffolds."
      ]
    },
    {
      "cell_type": "code",
      "execution_count": null,
      "id": "f434b805-6b5e-4955-9e7a-e944213ab103",
      "metadata": {
        "id": "f434b805-6b5e-4955-9e7a-e944213ab103"
      },
      "outputs": [],
      "source": [
        "HTML(output_df.sort_values(\"Num Examples\",ascending=False).to_html(escape=False))"
      ]
    },
    {
      "cell_type": "markdown",
      "id": "0d37db0d-8e48-468b-846a-3480c5f2eed4",
      "metadata": {
        "id": "0d37db0d-8e48-468b-846a-3480c5f2eed4"
      },
      "source": [
        "### 5. Select and Export a Subset of the 75 Compounds for Docking\n",
        "As the next part of this tutorial, we'll dock a few of the 75 molecules we extracted into a protein crystal structure of p38 kinase. Since we have limited commputational resources available, we will use clustering to select a subset of the compounds.   Clustering uses chemical fingerprits to group similar chemical structures.  In this case, we will use the Butina clustering algorithm as implemented in the RDKit.  To perform the clustering, we need to generate a different chemical fingerprint format than the one we generated above when we were performing dimensionality reduction. In this case, we will use the **get_fp** method of the useful_rdkit_utils Smi2Fp class.  "
      ]
    },
    {
      "cell_type": "code",
      "execution_count": null,
      "id": "408075d8-ca54-4ad5-be9e-a689761f48b1",
      "metadata": {
        "id": "408075d8-ca54-4ad5-be9e-a689761f48b1"
      },
      "outputs": [],
      "source": [
        "smi2fp = uru.Smi2Fp()\n",
        "df['morgan_fp'] = df.SMILES.apply(smi2fp.get_fp)"
      ]
    },
    {
      "cell_type": "markdown",
      "id": "e2bbf65d-17fc-48ac-97b4-8f31762761e8",
      "metadata": {
        "id": "e2bbf65d-17fc-48ac-97b4-8f31762761e8"
      },
      "source": [
        "With the fingerprint generated, we can cluster using the **taylor_butina_clustering** convenience function in useful_rdkit_utils. This adds a new field, \"cluster\" to the dataframe."
      ]
    },
    {
      "cell_type": "code",
      "execution_count": null,
      "id": "212051b0-e54f-4c0e-8509-72b56c8fcb9d",
      "metadata": {
        "id": "212051b0-e54f-4c0e-8509-72b56c8fcb9d"
      },
      "outputs": [],
      "source": [
        "df['cluster'] = uru.taylor_butina_clustering(df.morgan_fp)"
      ]
    },
    {
      "cell_type": "markdown",
      "id": "a8908487-25fb-4c49-a87e-0ff83008305c",
      "metadata": {
        "id": "a8908487-25fb-4c49-a87e-0ff83008305c"
      },
      "source": [
        "As we did above, we can use the Pandas **value_counts** method to see how many compounds are in each cluster. The vast majority of compounds are in cluster 0."
      ]
    },
    {
      "cell_type": "code",
      "execution_count": null,
      "id": "724fde60-8d4d-4acb-9dc0-aaecc6de457f",
      "metadata": {
        "id": "724fde60-8d4d-4acb-9dc0-aaecc6de457f"
      },
      "outputs": [],
      "source": [
        "df.cluster.value_counts()"
      ]
    },
    {
      "cell_type": "markdown",
      "id": "984419f4-b236-4185-99e8-875ad80d31e9",
      "metadata": {
        "id": "984419f4-b236-4185-99e8-875ad80d31e9"
      },
      "source": [
        "Let's select the most active compound from each cluster.  To do this we first sort the dataframe by \"IC50 (nM)\".  Once the dataframe is sorted, we can use the Pandas **drop_duplicates** methood to delete all but the first compound from each cluster."
      ]
    },
    {
      "cell_type": "code",
      "execution_count": null,
      "id": "1417212e-e023-4a47-a067-9500e49755fb",
      "metadata": {
        "id": "1417212e-e023-4a47-a067-9500e49755fb"
      },
      "outputs": [],
      "source": [
        "unique_cluster_df = df.sort_values(\"IC50 (nM)\").drop_duplicates(\"cluster\").copy()"
      ]
    },
    {
      "cell_type": "markdown",
      "id": "b307d533-fcb5-40ce-87ba-aa075ca85161",
      "metadata": {
        "id": "b307d533-fcb5-40ce-87ba-aa075ca85161"
      },
      "source": [
        "Now we'd like to exort these 5 compounds as a csv file.  The dataframe contains a lot of columns, most of which we don't need.  Let's creat a list of the columns we'd like to export."
      ]
    },
    {
      "cell_type": "code",
      "execution_count": null,
      "id": "e9f17c30-f37b-453d-8cef-6f5635934ddc",
      "metadata": {
        "id": "e9f17c30-f37b-453d-8cef-6f5635934ddc"
      },
      "outputs": [],
      "source": [
        "columns_to_keep = [\"SMILES\",\"Name\",\"IC50 (nM)\",\"cluster\"]"
      ]
    },
    {
      "cell_type": "markdown",
      "id": "2ae182c2-9a40-41d2-9ae7-86f4a09b5646",
      "metadata": {
        "id": "2ae182c2-9a40-41d2-9ae7-86f4a09b5646"
      },
      "source": [
        "View these columns to ensure this is what we want."
      ]
    },
    {
      "cell_type": "code",
      "execution_count": null,
      "id": "77c276c0-244e-4df1-903e-194431cc860f",
      "metadata": {
        "id": "77c276c0-244e-4df1-903e-194431cc860f"
      },
      "outputs": [],
      "source": [
        "unique_cluster_df[columns_to_keep].sort_values(\"cluster\")"
      ]
    },
    {
      "cell_type": "markdown",
      "id": "1fc31a16-7c1b-421e-a2ae-81cbd2c1515e",
      "metadata": {
        "id": "1fc31a16-7c1b-421e-a2ae-81cbd2c1515e"
      },
      "source": [
        "Finally, export the five molecules as a csv file."
      ]
    },
    {
      "cell_type": "code",
      "execution_count": null,
      "id": "1b42308a-4e33-44d5-9543-90973956ce52",
      "metadata": {
        "id": "1b42308a-4e33-44d5-9543-90973956ce52"
      },
      "outputs": [],
      "source": [
        "unique_cluster_df[columns_to_keep].sort_values(\"cluster\").to_csv(\"US20240293380_examples.csv\",index=False)"
      ]
    },
    {
      "cell_type": "markdown",
      "id": "7a51cd9e-d3fa-4093-9aae-5c2b2e8a549e",
      "metadata": {
        "id": "7a51cd9e-d3fa-4093-9aae-5c2b2e8a549e"
      },
      "source": [
        "These structures can be docked into the PDB structure [7LME](https://www.rcsb.org/structure/7lme) of the SARS-CoV-2 3CLPro. For more information on compounds similar to those in US20240293380, please see [\"Structure-Based Optimization of ML300-Derived, Noncovalent Inhibitors Targeting the Severe Acute Respiratory Syndrome Coronavirus 3CL Protease (SARS-CoV-2 3CLpro)\"](https://pubs.acs.org/doi/10.1021/acs.jmedchem.1c00598)"
      ]
    },
    {
      "cell_type": "markdown",
      "id": "4a4ab364-5ec5-4d5c-9646-35185f802aff",
      "metadata": {
        "id": "4a4ab364-5ec5-4d5c-9646-35185f802aff"
      },
      "source": [
        "## Exercise #5\n",
        "Create a dataframe with the least active molecule from each cluster."
      ]
    },
    {
      "cell_type": "code",
      "execution_count": null,
      "id": "03969c6e-4ec5-4c1a-85c3-9d9d9b6fe52c",
      "metadata": {
        "id": "03969c6e-4ec5-4c1a-85c3-9d9d9b6fe52c"
      },
      "outputs": [],
      "source": []
    }
  ],
  "metadata": {
    "kernelspec": {
      "display_name": "Python 3 (ipykernel)",
      "language": "python",
      "name": "python3"
    },
    "language_info": {
      "codemirror_mode": {
        "name": "ipython",
        "version": 3
      },
      "file_extension": ".py",
      "mimetype": "text/x-python",
      "name": "python",
      "nbconvert_exporter": "python",
      "pygments_lexer": "ipython3",
      "version": "3.11.11"
    },
    "colab": {
      "provenance": []
    }
  },
  "nbformat": 4,
  "nbformat_minor": 5
}